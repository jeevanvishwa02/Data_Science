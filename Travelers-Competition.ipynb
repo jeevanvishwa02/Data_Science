{
  "nbformat": 4,
  "nbformat_minor": 0,
  "metadata": {
    "colab": {
      "provenance": [],
      "collapsed_sections": [
        "t37G2wE0zpao"
      ],
      "toc_visible": true,
      "include_colab_link": true
    },
    "kernelspec": {
      "name": "python3",
      "display_name": "Python 3"
    },
    "language_info": {
      "name": "python"
    }
  },
  "cells": [
    {
      "cell_type": "markdown",
      "metadata": {
        "id": "view-in-github",
        "colab_type": "text"
      },
      "source": [
        "<a href=\"https://colab.research.google.com/github/jeevanvishwa02/Data_Science/blob/main/Travelers-Competition.ipynb\" target=\"_parent\"><img src=\"https://colab.research.google.com/assets/colab-badge.svg\" alt=\"Open In Colab\"/></a>"
      ]
    },
    {
      "cell_type": "markdown",
      "source": [
        "## Problem Statement\n",
        "\n",
        "The data provided to you and your team consists of variables describing customers that asked for quotes. There are three datasets: at the policy, driver, and vehicle levels. Each row of the policy dataset corresponds to a single policy, which may be associated with multiple drivers and vehicles. Likewise, each row of the driver dataset represents a single driver, and each row of the vehicle dataset represents a single vehicle. It's easy to check that each driver and each vehicle are associated with just one policy. You may assume that all members on a policy live at the same address.\n",
        "\n",
        "\n",
        "Your company was only able to convert a fraction of the policies found in this sample. The policy dataset also has a training and test split variable called split. Note that the conversion indicator (the response variable) is missing for policies in the test split. Your task is to build a model on the training data and apply your model to predict the conversion indicator for each policy in test data.\n",
        "\n",
        "\n",
        "Drive Link -https://drive.google.com/drive/folders/0AB3G2nP2pGBzUk9PVA\n",
        "Kaggle Link - https://www.kaggle.com/competitions/zamnrq1n2yz/overview"
      ],
      "metadata": {
        "id": "22VNz_q_ypYD"
      }
    },
    {
      "cell_type": "markdown",
      "metadata": {
        "id": "izmEW6QFIcet"
      },
      "source": [
        "## Import modules, mount your Google Drive, read data\n",
        "Set up your environment"
      ]
    },
    {
      "cell_type": "code",
      "metadata": {
        "id": "TFZBE3YCH8ZX"
      },
      "source": [
        "# import modules\n",
        "import pandas as pd # for data analysis\n",
        "import numpy as np # for numeric functions\n",
        "import matplotlib.pyplot as plt # for plotting\n",
        "import seaborn as sns\n",
        "pd.set_option('display.max_columns', None)"
      ],
      "execution_count": null,
      "outputs": []
    },
    {
      "cell_type": "code",
      "metadata": {
        "id": "xM7B4cCgU78y",
        "colab": {
          "base_uri": "https://localhost:8080/"
        },
        "outputId": "dd9bd535-f611-4f5a-ef6b-ad4dbbdb7598"
      },
      "source": [
        "# mount your google drive\n",
        "from google.colab import drive\n",
        "drive.mount('/content/drive')"
      ],
      "execution_count": null,
      "outputs": [
        {
          "output_type": "stream",
          "name": "stdout",
          "text": [
            "Mounted at /content/drive\n"
          ]
        }
      ]
    },
    {
      "cell_type": "code",
      "metadata": {
        "id": "qFZX7_0BVCO5"
      },
      "source": [
        "# read data\n",
        "# on the lefthand side, navigate to your data and copy the path\n",
        "df_drivers = pd.read_csv('/content/drive/Shareddrives/Travelers/drivers.csv',low_memory=False)\n",
        "df_policies = pd.read_csv('/content/drive/Shareddrives/Travelers/policies.csv',low_memory=False)\n",
        "df_vehicles = pd.read_csv('/content/drive/Shareddrives/Travelers/vehicles.csv',low_memory=False)\n",
        "#df = pd.read_excel('/content/drive/MyDrive/TAMU Competition/Training_sample.xlsx')"
      ],
      "execution_count": null,
      "outputs": []
    },
    {
      "cell_type": "code",
      "source": [
        "df_drivers.head()"
      ],
      "metadata": {
        "colab": {
          "base_uri": "https://localhost:8080/",
          "height": 206
        },
        "id": "gfhfzTWo--Me",
        "outputId": "b882c648-f5db-422a-e609-d27b71d204c5"
      },
      "execution_count": null,
      "outputs": [
        {
          "output_type": "execute_result",
          "data": {
            "text/plain": [
              "   Unnamed: 0 policy_id gender living_status  age  safty_rating  \\\n",
              "0           2  policy_2      M           own   44          85.0   \n",
              "1           3  policy_2      M           own   44          63.0   \n",
              "2           4  policy_3      M           own   65          56.0   \n",
              "3           7  policy_5      M          rent   60          74.0   \n",
              "4           8  policy_5      F     dependent   20          30.0   \n",
              "\n",
              "   high_education_ind  \n",
              "0                 0.0  \n",
              "1                 1.0  \n",
              "2                 1.0  \n",
              "3                 1.0  \n",
              "4                 0.0  "
            ],
            "text/html": [
              "\n",
              "  <div id=\"df-3db5e360-e8c0-4ab5-bd73-31c0cbe6405e\">\n",
              "    <div class=\"colab-df-container\">\n",
              "      <div>\n",
              "<style scoped>\n",
              "    .dataframe tbody tr th:only-of-type {\n",
              "        vertical-align: middle;\n",
              "    }\n",
              "\n",
              "    .dataframe tbody tr th {\n",
              "        vertical-align: top;\n",
              "    }\n",
              "\n",
              "    .dataframe thead th {\n",
              "        text-align: right;\n",
              "    }\n",
              "</style>\n",
              "<table border=\"1\" class=\"dataframe\">\n",
              "  <thead>\n",
              "    <tr style=\"text-align: right;\">\n",
              "      <th></th>\n",
              "      <th>Unnamed: 0</th>\n",
              "      <th>policy_id</th>\n",
              "      <th>gender</th>\n",
              "      <th>living_status</th>\n",
              "      <th>age</th>\n",
              "      <th>safty_rating</th>\n",
              "      <th>high_education_ind</th>\n",
              "    </tr>\n",
              "  </thead>\n",
              "  <tbody>\n",
              "    <tr>\n",
              "      <th>0</th>\n",
              "      <td>2</td>\n",
              "      <td>policy_2</td>\n",
              "      <td>M</td>\n",
              "      <td>own</td>\n",
              "      <td>44</td>\n",
              "      <td>85.0</td>\n",
              "      <td>0.0</td>\n",
              "    </tr>\n",
              "    <tr>\n",
              "      <th>1</th>\n",
              "      <td>3</td>\n",
              "      <td>policy_2</td>\n",
              "      <td>M</td>\n",
              "      <td>own</td>\n",
              "      <td>44</td>\n",
              "      <td>63.0</td>\n",
              "      <td>1.0</td>\n",
              "    </tr>\n",
              "    <tr>\n",
              "      <th>2</th>\n",
              "      <td>4</td>\n",
              "      <td>policy_3</td>\n",
              "      <td>M</td>\n",
              "      <td>own</td>\n",
              "      <td>65</td>\n",
              "      <td>56.0</td>\n",
              "      <td>1.0</td>\n",
              "    </tr>\n",
              "    <tr>\n",
              "      <th>3</th>\n",
              "      <td>7</td>\n",
              "      <td>policy_5</td>\n",
              "      <td>M</td>\n",
              "      <td>rent</td>\n",
              "      <td>60</td>\n",
              "      <td>74.0</td>\n",
              "      <td>1.0</td>\n",
              "    </tr>\n",
              "    <tr>\n",
              "      <th>4</th>\n",
              "      <td>8</td>\n",
              "      <td>policy_5</td>\n",
              "      <td>F</td>\n",
              "      <td>dependent</td>\n",
              "      <td>20</td>\n",
              "      <td>30.0</td>\n",
              "      <td>0.0</td>\n",
              "    </tr>\n",
              "  </tbody>\n",
              "</table>\n",
              "</div>\n",
              "      <button class=\"colab-df-convert\" onclick=\"convertToInteractive('df-3db5e360-e8c0-4ab5-bd73-31c0cbe6405e')\"\n",
              "              title=\"Convert this dataframe to an interactive table.\"\n",
              "              style=\"display:none;\">\n",
              "        \n",
              "  <svg xmlns=\"http://www.w3.org/2000/svg\" height=\"24px\"viewBox=\"0 0 24 24\"\n",
              "       width=\"24px\">\n",
              "    <path d=\"M0 0h24v24H0V0z\" fill=\"none\"/>\n",
              "    <path d=\"M18.56 5.44l.94 2.06.94-2.06 2.06-.94-2.06-.94-.94-2.06-.94 2.06-2.06.94zm-11 1L8.5 8.5l.94-2.06 2.06-.94-2.06-.94L8.5 2.5l-.94 2.06-2.06.94zm10 10l.94 2.06.94-2.06 2.06-.94-2.06-.94-.94-2.06-.94 2.06-2.06.94z\"/><path d=\"M17.41 7.96l-1.37-1.37c-.4-.4-.92-.59-1.43-.59-.52 0-1.04.2-1.43.59L10.3 9.45l-7.72 7.72c-.78.78-.78 2.05 0 2.83L4 21.41c.39.39.9.59 1.41.59.51 0 1.02-.2 1.41-.59l7.78-7.78 2.81-2.81c.8-.78.8-2.07 0-2.86zM5.41 20L4 18.59l7.72-7.72 1.47 1.35L5.41 20z\"/>\n",
              "  </svg>\n",
              "      </button>\n",
              "      \n",
              "  <style>\n",
              "    .colab-df-container {\n",
              "      display:flex;\n",
              "      flex-wrap:wrap;\n",
              "      gap: 12px;\n",
              "    }\n",
              "\n",
              "    .colab-df-convert {\n",
              "      background-color: #E8F0FE;\n",
              "      border: none;\n",
              "      border-radius: 50%;\n",
              "      cursor: pointer;\n",
              "      display: none;\n",
              "      fill: #1967D2;\n",
              "      height: 32px;\n",
              "      padding: 0 0 0 0;\n",
              "      width: 32px;\n",
              "    }\n",
              "\n",
              "    .colab-df-convert:hover {\n",
              "      background-color: #E2EBFA;\n",
              "      box-shadow: 0px 1px 2px rgba(60, 64, 67, 0.3), 0px 1px 3px 1px rgba(60, 64, 67, 0.15);\n",
              "      fill: #174EA6;\n",
              "    }\n",
              "\n",
              "    [theme=dark] .colab-df-convert {\n",
              "      background-color: #3B4455;\n",
              "      fill: #D2E3FC;\n",
              "    }\n",
              "\n",
              "    [theme=dark] .colab-df-convert:hover {\n",
              "      background-color: #434B5C;\n",
              "      box-shadow: 0px 1px 3px 1px rgba(0, 0, 0, 0.15);\n",
              "      filter: drop-shadow(0px 1px 2px rgba(0, 0, 0, 0.3));\n",
              "      fill: #FFFFFF;\n",
              "    }\n",
              "  </style>\n",
              "\n",
              "      <script>\n",
              "        const buttonEl =\n",
              "          document.querySelector('#df-3db5e360-e8c0-4ab5-bd73-31c0cbe6405e button.colab-df-convert');\n",
              "        buttonEl.style.display =\n",
              "          google.colab.kernel.accessAllowed ? 'block' : 'none';\n",
              "\n",
              "        async function convertToInteractive(key) {\n",
              "          const element = document.querySelector('#df-3db5e360-e8c0-4ab5-bd73-31c0cbe6405e');\n",
              "          const dataTable =\n",
              "            await google.colab.kernel.invokeFunction('convertToInteractive',\n",
              "                                                     [key], {});\n",
              "          if (!dataTable) return;\n",
              "\n",
              "          const docLinkHtml = 'Like what you see? Visit the ' +\n",
              "            '<a target=\"_blank\" href=https://colab.research.google.com/notebooks/data_table.ipynb>data table notebook</a>'\n",
              "            + ' to learn more about interactive tables.';\n",
              "          element.innerHTML = '';\n",
              "          dataTable['output_type'] = 'display_data';\n",
              "          await google.colab.output.renderOutput(dataTable, element);\n",
              "          const docLink = document.createElement('div');\n",
              "          docLink.innerHTML = docLinkHtml;\n",
              "          element.appendChild(docLink);\n",
              "        }\n",
              "      </script>\n",
              "    </div>\n",
              "  </div>\n",
              "  "
            ]
          },
          "metadata": {},
          "execution_count": 4
        }
      ]
    },
    {
      "cell_type": "code",
      "source": [
        "df_policies.head()"
      ],
      "metadata": {
        "colab": {
          "base_uri": "https://localhost:8080/",
          "height": 374
        },
        "id": "da3pU5bU_Cge",
        "outputId": "a9b9ef40-8ff0-410d-9d35-3c3c61625a2e"
      },
      "execution_count": null,
      "outputs": [
        {
          "output_type": "execute_result",
          "data": {
            "text/plain": [
              "   Unnamed: 0    Quote_dt discount Home_policy_ind      zip state_id  \\\n",
              "0           1  2015-01-28      Yes               Y  10465.0       NY   \n",
              "1           2  2015-02-12       No               N  12801.0       NY   \n",
              "2           3  2018-09-03       No               N  11548.0       NY   \n",
              "3           4  2015-07-28       No               N  33141.0       FL   \n",
              "4           5  2016-05-18       No               N  14622.0       NY   \n",
              "\n",
              "  county_name    Agent_cd quoted_amt Prior_carrier_grp  credit_score  \\\n",
              "0       Bronx  15973623.0     $5,153         Carrier_1         613.0   \n",
              "1      Warren  46978147.0     $9,870         Carrier_4         576.0   \n",
              "2      Nassau  32759856.0     $3,090         Carrier_4         631.0   \n",
              "3  Miami-Dade  47310293.0     $2,860         Carrier_7         573.0   \n",
              "4      Monroe  15675431.0    $14,917         Carrier_3         602.0   \n",
              "\n",
              "  Cov_package_type  CAT_zone     policy_id  number_drivers  num_loaned_veh  \\\n",
              "0             High       2.0  policy_87209               2               1   \n",
              "1              Low       4.0  policy_89288               1               1   \n",
              "2           Medium       2.0  policy_91413               2               1   \n",
              "3           Medium       3.0  policy_23460               1               2   \n",
              "4           Medium       4.0  policy_71845               2               0   \n",
              "\n",
              "   num_owned_veh  num_leased_veh  total_number_veh  convert_ind  split  \\\n",
              "0              2               0                 3          0.0  Train   \n",
              "1              1               2                 4          NaN   Test   \n",
              "2              2               1                 4          0.0  Train   \n",
              "3              3               0                 5          NaN   Test   \n",
              "4              1               2                 3          0.0  Train   \n",
              "\n",
              "  primary_parking  \n",
              "0   home/driveway  \n",
              "1         unknown  \n",
              "2         unknown  \n",
              "3         unknown  \n",
              "4         unknown  "
            ],
            "text/html": [
              "\n",
              "  <div id=\"df-f454eb4f-4daf-422c-a0c9-97245f06d9e3\">\n",
              "    <div class=\"colab-df-container\">\n",
              "      <div>\n",
              "<style scoped>\n",
              "    .dataframe tbody tr th:only-of-type {\n",
              "        vertical-align: middle;\n",
              "    }\n",
              "\n",
              "    .dataframe tbody tr th {\n",
              "        vertical-align: top;\n",
              "    }\n",
              "\n",
              "    .dataframe thead th {\n",
              "        text-align: right;\n",
              "    }\n",
              "</style>\n",
              "<table border=\"1\" class=\"dataframe\">\n",
              "  <thead>\n",
              "    <tr style=\"text-align: right;\">\n",
              "      <th></th>\n",
              "      <th>Unnamed: 0</th>\n",
              "      <th>Quote_dt</th>\n",
              "      <th>discount</th>\n",
              "      <th>Home_policy_ind</th>\n",
              "      <th>zip</th>\n",
              "      <th>state_id</th>\n",
              "      <th>county_name</th>\n",
              "      <th>Agent_cd</th>\n",
              "      <th>quoted_amt</th>\n",
              "      <th>Prior_carrier_grp</th>\n",
              "      <th>credit_score</th>\n",
              "      <th>Cov_package_type</th>\n",
              "      <th>CAT_zone</th>\n",
              "      <th>policy_id</th>\n",
              "      <th>number_drivers</th>\n",
              "      <th>num_loaned_veh</th>\n",
              "      <th>num_owned_veh</th>\n",
              "      <th>num_leased_veh</th>\n",
              "      <th>total_number_veh</th>\n",
              "      <th>convert_ind</th>\n",
              "      <th>split</th>\n",
              "      <th>primary_parking</th>\n",
              "    </tr>\n",
              "  </thead>\n",
              "  <tbody>\n",
              "    <tr>\n",
              "      <th>0</th>\n",
              "      <td>1</td>\n",
              "      <td>2015-01-28</td>\n",
              "      <td>Yes</td>\n",
              "      <td>Y</td>\n",
              "      <td>10465.0</td>\n",
              "      <td>NY</td>\n",
              "      <td>Bronx</td>\n",
              "      <td>15973623.0</td>\n",
              "      <td>$5,153</td>\n",
              "      <td>Carrier_1</td>\n",
              "      <td>613.0</td>\n",
              "      <td>High</td>\n",
              "      <td>2.0</td>\n",
              "      <td>policy_87209</td>\n",
              "      <td>2</td>\n",
              "      <td>1</td>\n",
              "      <td>2</td>\n",
              "      <td>0</td>\n",
              "      <td>3</td>\n",
              "      <td>0.0</td>\n",
              "      <td>Train</td>\n",
              "      <td>home/driveway</td>\n",
              "    </tr>\n",
              "    <tr>\n",
              "      <th>1</th>\n",
              "      <td>2</td>\n",
              "      <td>2015-02-12</td>\n",
              "      <td>No</td>\n",
              "      <td>N</td>\n",
              "      <td>12801.0</td>\n",
              "      <td>NY</td>\n",
              "      <td>Warren</td>\n",
              "      <td>46978147.0</td>\n",
              "      <td>$9,870</td>\n",
              "      <td>Carrier_4</td>\n",
              "      <td>576.0</td>\n",
              "      <td>Low</td>\n",
              "      <td>4.0</td>\n",
              "      <td>policy_89288</td>\n",
              "      <td>1</td>\n",
              "      <td>1</td>\n",
              "      <td>1</td>\n",
              "      <td>2</td>\n",
              "      <td>4</td>\n",
              "      <td>NaN</td>\n",
              "      <td>Test</td>\n",
              "      <td>unknown</td>\n",
              "    </tr>\n",
              "    <tr>\n",
              "      <th>2</th>\n",
              "      <td>3</td>\n",
              "      <td>2018-09-03</td>\n",
              "      <td>No</td>\n",
              "      <td>N</td>\n",
              "      <td>11548.0</td>\n",
              "      <td>NY</td>\n",
              "      <td>Nassau</td>\n",
              "      <td>32759856.0</td>\n",
              "      <td>$3,090</td>\n",
              "      <td>Carrier_4</td>\n",
              "      <td>631.0</td>\n",
              "      <td>Medium</td>\n",
              "      <td>2.0</td>\n",
              "      <td>policy_91413</td>\n",
              "      <td>2</td>\n",
              "      <td>1</td>\n",
              "      <td>2</td>\n",
              "      <td>1</td>\n",
              "      <td>4</td>\n",
              "      <td>0.0</td>\n",
              "      <td>Train</td>\n",
              "      <td>unknown</td>\n",
              "    </tr>\n",
              "    <tr>\n",
              "      <th>3</th>\n",
              "      <td>4</td>\n",
              "      <td>2015-07-28</td>\n",
              "      <td>No</td>\n",
              "      <td>N</td>\n",
              "      <td>33141.0</td>\n",
              "      <td>FL</td>\n",
              "      <td>Miami-Dade</td>\n",
              "      <td>47310293.0</td>\n",
              "      <td>$2,860</td>\n",
              "      <td>Carrier_7</td>\n",
              "      <td>573.0</td>\n",
              "      <td>Medium</td>\n",
              "      <td>3.0</td>\n",
              "      <td>policy_23460</td>\n",
              "      <td>1</td>\n",
              "      <td>2</td>\n",
              "      <td>3</td>\n",
              "      <td>0</td>\n",
              "      <td>5</td>\n",
              "      <td>NaN</td>\n",
              "      <td>Test</td>\n",
              "      <td>unknown</td>\n",
              "    </tr>\n",
              "    <tr>\n",
              "      <th>4</th>\n",
              "      <td>5</td>\n",
              "      <td>2016-05-18</td>\n",
              "      <td>No</td>\n",
              "      <td>N</td>\n",
              "      <td>14622.0</td>\n",
              "      <td>NY</td>\n",
              "      <td>Monroe</td>\n",
              "      <td>15675431.0</td>\n",
              "      <td>$14,917</td>\n",
              "      <td>Carrier_3</td>\n",
              "      <td>602.0</td>\n",
              "      <td>Medium</td>\n",
              "      <td>4.0</td>\n",
              "      <td>policy_71845</td>\n",
              "      <td>2</td>\n",
              "      <td>0</td>\n",
              "      <td>1</td>\n",
              "      <td>2</td>\n",
              "      <td>3</td>\n",
              "      <td>0.0</td>\n",
              "      <td>Train</td>\n",
              "      <td>unknown</td>\n",
              "    </tr>\n",
              "  </tbody>\n",
              "</table>\n",
              "</div>\n",
              "      <button class=\"colab-df-convert\" onclick=\"convertToInteractive('df-f454eb4f-4daf-422c-a0c9-97245f06d9e3')\"\n",
              "              title=\"Convert this dataframe to an interactive table.\"\n",
              "              style=\"display:none;\">\n",
              "        \n",
              "  <svg xmlns=\"http://www.w3.org/2000/svg\" height=\"24px\"viewBox=\"0 0 24 24\"\n",
              "       width=\"24px\">\n",
              "    <path d=\"M0 0h24v24H0V0z\" fill=\"none\"/>\n",
              "    <path d=\"M18.56 5.44l.94 2.06.94-2.06 2.06-.94-2.06-.94-.94-2.06-.94 2.06-2.06.94zm-11 1L8.5 8.5l.94-2.06 2.06-.94-2.06-.94L8.5 2.5l-.94 2.06-2.06.94zm10 10l.94 2.06.94-2.06 2.06-.94-2.06-.94-.94-2.06-.94 2.06-2.06.94z\"/><path d=\"M17.41 7.96l-1.37-1.37c-.4-.4-.92-.59-1.43-.59-.52 0-1.04.2-1.43.59L10.3 9.45l-7.72 7.72c-.78.78-.78 2.05 0 2.83L4 21.41c.39.39.9.59 1.41.59.51 0 1.02-.2 1.41-.59l7.78-7.78 2.81-2.81c.8-.78.8-2.07 0-2.86zM5.41 20L4 18.59l7.72-7.72 1.47 1.35L5.41 20z\"/>\n",
              "  </svg>\n",
              "      </button>\n",
              "      \n",
              "  <style>\n",
              "    .colab-df-container {\n",
              "      display:flex;\n",
              "      flex-wrap:wrap;\n",
              "      gap: 12px;\n",
              "    }\n",
              "\n",
              "    .colab-df-convert {\n",
              "      background-color: #E8F0FE;\n",
              "      border: none;\n",
              "      border-radius: 50%;\n",
              "      cursor: pointer;\n",
              "      display: none;\n",
              "      fill: #1967D2;\n",
              "      height: 32px;\n",
              "      padding: 0 0 0 0;\n",
              "      width: 32px;\n",
              "    }\n",
              "\n",
              "    .colab-df-convert:hover {\n",
              "      background-color: #E2EBFA;\n",
              "      box-shadow: 0px 1px 2px rgba(60, 64, 67, 0.3), 0px 1px 3px 1px rgba(60, 64, 67, 0.15);\n",
              "      fill: #174EA6;\n",
              "    }\n",
              "\n",
              "    [theme=dark] .colab-df-convert {\n",
              "      background-color: #3B4455;\n",
              "      fill: #D2E3FC;\n",
              "    }\n",
              "\n",
              "    [theme=dark] .colab-df-convert:hover {\n",
              "      background-color: #434B5C;\n",
              "      box-shadow: 0px 1px 3px 1px rgba(0, 0, 0, 0.15);\n",
              "      filter: drop-shadow(0px 1px 2px rgba(0, 0, 0, 0.3));\n",
              "      fill: #FFFFFF;\n",
              "    }\n",
              "  </style>\n",
              "\n",
              "      <script>\n",
              "        const buttonEl =\n",
              "          document.querySelector('#df-f454eb4f-4daf-422c-a0c9-97245f06d9e3 button.colab-df-convert');\n",
              "        buttonEl.style.display =\n",
              "          google.colab.kernel.accessAllowed ? 'block' : 'none';\n",
              "\n",
              "        async function convertToInteractive(key) {\n",
              "          const element = document.querySelector('#df-f454eb4f-4daf-422c-a0c9-97245f06d9e3');\n",
              "          const dataTable =\n",
              "            await google.colab.kernel.invokeFunction('convertToInteractive',\n",
              "                                                     [key], {});\n",
              "          if (!dataTable) return;\n",
              "\n",
              "          const docLinkHtml = 'Like what you see? Visit the ' +\n",
              "            '<a target=\"_blank\" href=https://colab.research.google.com/notebooks/data_table.ipynb>data table notebook</a>'\n",
              "            + ' to learn more about interactive tables.';\n",
              "          element.innerHTML = '';\n",
              "          dataTable['output_type'] = 'display_data';\n",
              "          await google.colab.output.renderOutput(dataTable, element);\n",
              "          const docLink = document.createElement('div');\n",
              "          docLink.innerHTML = docLinkHtml;\n",
              "          element.appendChild(docLink);\n",
              "        }\n",
              "      </script>\n",
              "    </div>\n",
              "  </div>\n",
              "  "
            ]
          },
          "metadata": {},
          "execution_count": 5
        }
      ]
    },
    {
      "cell_type": "code",
      "source": [
        "df_policies['zip'].value_counts()"
      ],
      "metadata": {
        "colab": {
          "base_uri": "https://localhost:8080/"
        },
        "id": "PNJHSzOwJnnZ",
        "outputId": "22885608-aeea-401d-d640-27612269c577"
      },
      "execution_count": null,
      "outputs": [
        {
          "output_type": "execute_result",
          "data": {
            "text/plain": [
              "53715.0    71\n",
              "30329.0    70\n",
              "53716.0    69\n",
              "36609.0    66\n",
              "35254.0    66\n",
              "           ..\n",
              "10128.0    18\n",
              "10026.0    17\n",
              "10040.0    16\n",
              "10025.0    16\n",
              "10023.0    13\n",
              "Name: zip, Length: 1168, dtype: int64"
            ]
          },
          "metadata": {},
          "execution_count": 7
        }
      ]
    },
    {
      "cell_type": "code",
      "source": [
        "df_policies['state_id'].value_counts()"
      ],
      "metadata": {
        "colab": {
          "base_uri": "https://localhost:8080/"
        },
        "id": "30HnVvgoJy_z",
        "outputId": "02677888-0ed1-48a8-9a74-4731408a015e"
      },
      "execution_count": null,
      "outputs": [
        {
          "output_type": "execute_result",
          "data": {
            "text/plain": [
              "NY    15460\n",
              "FL    12013\n",
              "NJ     9643\n",
              "WI     2984\n",
              "GA     2904\n",
              "MN     2695\n",
              "CT     2402\n",
              "AL     1061\n",
              "Name: state_id, dtype: int64"
            ]
          },
          "metadata": {},
          "execution_count": 11
        }
      ]
    },
    {
      "cell_type": "code",
      "source": [
        "df_vehicles.head()"
      ],
      "metadata": {
        "colab": {
          "base_uri": "https://localhost:8080/",
          "height": 206
        },
        "id": "KJiKcqQkrmc9",
        "outputId": "755a8d9b-3250-4916-f235-fe860e2902dd"
      },
      "execution_count": null,
      "outputs": [
        {
          "output_type": "execute_result",
          "data": {
            "text/plain": [
              "   Unnamed: 0     policy_id  car_no ownership_type  color  age  \\\n",
              "0           6  policy_74571       1         leased  other  4.0   \n",
              "1           7  policy_74571       2          owned   blue  3.0   \n",
              "2          15   policy_1998       1          owned   gray  7.0   \n",
              "3          29  policy_28085       1          owned   gray  4.0   \n",
              "4          34  policy_64282       1          owned  black  4.0   \n",
              "\n",
              "                make_model  \n",
              "0            BMW : R1200CL  \n",
              "1               ACURA : TL  \n",
              "2              BMW : 750LI  \n",
              "3  MERCEDES-BENZ : G55 AMG  \n",
              "4            BMW : 550I GT  "
            ],
            "text/html": [
              "\n",
              "  <div id=\"df-6925d3ca-8336-4fdb-9c58-f3d1d37c0bb5\">\n",
              "    <div class=\"colab-df-container\">\n",
              "      <div>\n",
              "<style scoped>\n",
              "    .dataframe tbody tr th:only-of-type {\n",
              "        vertical-align: middle;\n",
              "    }\n",
              "\n",
              "    .dataframe tbody tr th {\n",
              "        vertical-align: top;\n",
              "    }\n",
              "\n",
              "    .dataframe thead th {\n",
              "        text-align: right;\n",
              "    }\n",
              "</style>\n",
              "<table border=\"1\" class=\"dataframe\">\n",
              "  <thead>\n",
              "    <tr style=\"text-align: right;\">\n",
              "      <th></th>\n",
              "      <th>Unnamed: 0</th>\n",
              "      <th>policy_id</th>\n",
              "      <th>car_no</th>\n",
              "      <th>ownership_type</th>\n",
              "      <th>color</th>\n",
              "      <th>age</th>\n",
              "      <th>make_model</th>\n",
              "    </tr>\n",
              "  </thead>\n",
              "  <tbody>\n",
              "    <tr>\n",
              "      <th>0</th>\n",
              "      <td>6</td>\n",
              "      <td>policy_74571</td>\n",
              "      <td>1</td>\n",
              "      <td>leased</td>\n",
              "      <td>other</td>\n",
              "      <td>4.0</td>\n",
              "      <td>BMW : R1200CL</td>\n",
              "    </tr>\n",
              "    <tr>\n",
              "      <th>1</th>\n",
              "      <td>7</td>\n",
              "      <td>policy_74571</td>\n",
              "      <td>2</td>\n",
              "      <td>owned</td>\n",
              "      <td>blue</td>\n",
              "      <td>3.0</td>\n",
              "      <td>ACURA : TL</td>\n",
              "    </tr>\n",
              "    <tr>\n",
              "      <th>2</th>\n",
              "      <td>15</td>\n",
              "      <td>policy_1998</td>\n",
              "      <td>1</td>\n",
              "      <td>owned</td>\n",
              "      <td>gray</td>\n",
              "      <td>7.0</td>\n",
              "      <td>BMW : 750LI</td>\n",
              "    </tr>\n",
              "    <tr>\n",
              "      <th>3</th>\n",
              "      <td>29</td>\n",
              "      <td>policy_28085</td>\n",
              "      <td>1</td>\n",
              "      <td>owned</td>\n",
              "      <td>gray</td>\n",
              "      <td>4.0</td>\n",
              "      <td>MERCEDES-BENZ : G55 AMG</td>\n",
              "    </tr>\n",
              "    <tr>\n",
              "      <th>4</th>\n",
              "      <td>34</td>\n",
              "      <td>policy_64282</td>\n",
              "      <td>1</td>\n",
              "      <td>owned</td>\n",
              "      <td>black</td>\n",
              "      <td>4.0</td>\n",
              "      <td>BMW : 550I GT</td>\n",
              "    </tr>\n",
              "  </tbody>\n",
              "</table>\n",
              "</div>\n",
              "      <button class=\"colab-df-convert\" onclick=\"convertToInteractive('df-6925d3ca-8336-4fdb-9c58-f3d1d37c0bb5')\"\n",
              "              title=\"Convert this dataframe to an interactive table.\"\n",
              "              style=\"display:none;\">\n",
              "        \n",
              "  <svg xmlns=\"http://www.w3.org/2000/svg\" height=\"24px\"viewBox=\"0 0 24 24\"\n",
              "       width=\"24px\">\n",
              "    <path d=\"M0 0h24v24H0V0z\" fill=\"none\"/>\n",
              "    <path d=\"M18.56 5.44l.94 2.06.94-2.06 2.06-.94-2.06-.94-.94-2.06-.94 2.06-2.06.94zm-11 1L8.5 8.5l.94-2.06 2.06-.94-2.06-.94L8.5 2.5l-.94 2.06-2.06.94zm10 10l.94 2.06.94-2.06 2.06-.94-2.06-.94-.94-2.06-.94 2.06-2.06.94z\"/><path d=\"M17.41 7.96l-1.37-1.37c-.4-.4-.92-.59-1.43-.59-.52 0-1.04.2-1.43.59L10.3 9.45l-7.72 7.72c-.78.78-.78 2.05 0 2.83L4 21.41c.39.39.9.59 1.41.59.51 0 1.02-.2 1.41-.59l7.78-7.78 2.81-2.81c.8-.78.8-2.07 0-2.86zM5.41 20L4 18.59l7.72-7.72 1.47 1.35L5.41 20z\"/>\n",
              "  </svg>\n",
              "      </button>\n",
              "      \n",
              "  <style>\n",
              "    .colab-df-container {\n",
              "      display:flex;\n",
              "      flex-wrap:wrap;\n",
              "      gap: 12px;\n",
              "    }\n",
              "\n",
              "    .colab-df-convert {\n",
              "      background-color: #E8F0FE;\n",
              "      border: none;\n",
              "      border-radius: 50%;\n",
              "      cursor: pointer;\n",
              "      display: none;\n",
              "      fill: #1967D2;\n",
              "      height: 32px;\n",
              "      padding: 0 0 0 0;\n",
              "      width: 32px;\n",
              "    }\n",
              "\n",
              "    .colab-df-convert:hover {\n",
              "      background-color: #E2EBFA;\n",
              "      box-shadow: 0px 1px 2px rgba(60, 64, 67, 0.3), 0px 1px 3px 1px rgba(60, 64, 67, 0.15);\n",
              "      fill: #174EA6;\n",
              "    }\n",
              "\n",
              "    [theme=dark] .colab-df-convert {\n",
              "      background-color: #3B4455;\n",
              "      fill: #D2E3FC;\n",
              "    }\n",
              "\n",
              "    [theme=dark] .colab-df-convert:hover {\n",
              "      background-color: #434B5C;\n",
              "      box-shadow: 0px 1px 3px 1px rgba(0, 0, 0, 0.15);\n",
              "      filter: drop-shadow(0px 1px 2px rgba(0, 0, 0, 0.3));\n",
              "      fill: #FFFFFF;\n",
              "    }\n",
              "  </style>\n",
              "\n",
              "      <script>\n",
              "        const buttonEl =\n",
              "          document.querySelector('#df-6925d3ca-8336-4fdb-9c58-f3d1d37c0bb5 button.colab-df-convert');\n",
              "        buttonEl.style.display =\n",
              "          google.colab.kernel.accessAllowed ? 'block' : 'none';\n",
              "\n",
              "        async function convertToInteractive(key) {\n",
              "          const element = document.querySelector('#df-6925d3ca-8336-4fdb-9c58-f3d1d37c0bb5');\n",
              "          const dataTable =\n",
              "            await google.colab.kernel.invokeFunction('convertToInteractive',\n",
              "                                                     [key], {});\n",
              "          if (!dataTable) return;\n",
              "\n",
              "          const docLinkHtml = 'Like what you see? Visit the ' +\n",
              "            '<a target=\"_blank\" href=https://colab.research.google.com/notebooks/data_table.ipynb>data table notebook</a>'\n",
              "            + ' to learn more about interactive tables.';\n",
              "          element.innerHTML = '';\n",
              "          dataTable['output_type'] = 'display_data';\n",
              "          await google.colab.output.renderOutput(dataTable, element);\n",
              "          const docLink = document.createElement('div');\n",
              "          docLink.innerHTML = docLinkHtml;\n",
              "          element.appendChild(docLink);\n",
              "        }\n",
              "      </script>\n",
              "    </div>\n",
              "  </div>\n",
              "  "
            ]
          },
          "metadata": {},
          "execution_count": 6
        }
      ]
    },
    {
      "cell_type": "markdown",
      "source": [
        "### Drivers dataset transformation"
      ],
      "metadata": {
        "id": "FgFer5HiuNyi"
      }
    },
    {
      "cell_type": "code",
      "source": [
        "df_drivers.head(6)"
      ],
      "metadata": {
        "colab": {
          "base_uri": "https://localhost:8080/",
          "height": 237
        },
        "id": "4aM_AofruR5a",
        "outputId": "3a24116f-940e-45a7-851e-9c22d79c65f1"
      },
      "execution_count": null,
      "outputs": [
        {
          "output_type": "execute_result",
          "data": {
            "text/plain": [
              "   Unnamed: 0 policy_id gender living_status  age  safty_rating  \\\n",
              "0           2  policy_2      M           own   44          85.0   \n",
              "1           3  policy_2      M           own   44          63.0   \n",
              "2           4  policy_3      M           own   65          56.0   \n",
              "3           7  policy_5      M          rent   60          74.0   \n",
              "4           8  policy_5      F     dependent   20          30.0   \n",
              "5           9  policy_5      F     dependent   16          29.0   \n",
              "\n",
              "   high_education_ind  avg_age  \n",
              "0                 0.0     44.0  \n",
              "1                 1.0     44.0  \n",
              "2                 1.0     65.0  \n",
              "3                 1.0     32.0  \n",
              "4                 0.0     32.0  \n",
              "5                 0.0     32.0  "
            ],
            "text/html": [
              "\n",
              "  <div id=\"df-c785b723-c1bd-4286-b6fb-bd8998aae70e\">\n",
              "    <div class=\"colab-df-container\">\n",
              "      <div>\n",
              "<style scoped>\n",
              "    .dataframe tbody tr th:only-of-type {\n",
              "        vertical-align: middle;\n",
              "    }\n",
              "\n",
              "    .dataframe tbody tr th {\n",
              "        vertical-align: top;\n",
              "    }\n",
              "\n",
              "    .dataframe thead th {\n",
              "        text-align: right;\n",
              "    }\n",
              "</style>\n",
              "<table border=\"1\" class=\"dataframe\">\n",
              "  <thead>\n",
              "    <tr style=\"text-align: right;\">\n",
              "      <th></th>\n",
              "      <th>Unnamed: 0</th>\n",
              "      <th>policy_id</th>\n",
              "      <th>gender</th>\n",
              "      <th>living_status</th>\n",
              "      <th>age</th>\n",
              "      <th>safty_rating</th>\n",
              "      <th>high_education_ind</th>\n",
              "      <th>avg_age</th>\n",
              "    </tr>\n",
              "  </thead>\n",
              "  <tbody>\n",
              "    <tr>\n",
              "      <th>0</th>\n",
              "      <td>2</td>\n",
              "      <td>policy_2</td>\n",
              "      <td>M</td>\n",
              "      <td>own</td>\n",
              "      <td>44</td>\n",
              "      <td>85.0</td>\n",
              "      <td>0.0</td>\n",
              "      <td>44.0</td>\n",
              "    </tr>\n",
              "    <tr>\n",
              "      <th>1</th>\n",
              "      <td>3</td>\n",
              "      <td>policy_2</td>\n",
              "      <td>M</td>\n",
              "      <td>own</td>\n",
              "      <td>44</td>\n",
              "      <td>63.0</td>\n",
              "      <td>1.0</td>\n",
              "      <td>44.0</td>\n",
              "    </tr>\n",
              "    <tr>\n",
              "      <th>2</th>\n",
              "      <td>4</td>\n",
              "      <td>policy_3</td>\n",
              "      <td>M</td>\n",
              "      <td>own</td>\n",
              "      <td>65</td>\n",
              "      <td>56.0</td>\n",
              "      <td>1.0</td>\n",
              "      <td>65.0</td>\n",
              "    </tr>\n",
              "    <tr>\n",
              "      <th>3</th>\n",
              "      <td>7</td>\n",
              "      <td>policy_5</td>\n",
              "      <td>M</td>\n",
              "      <td>rent</td>\n",
              "      <td>60</td>\n",
              "      <td>74.0</td>\n",
              "      <td>1.0</td>\n",
              "      <td>32.0</td>\n",
              "    </tr>\n",
              "    <tr>\n",
              "      <th>4</th>\n",
              "      <td>8</td>\n",
              "      <td>policy_5</td>\n",
              "      <td>F</td>\n",
              "      <td>dependent</td>\n",
              "      <td>20</td>\n",
              "      <td>30.0</td>\n",
              "      <td>0.0</td>\n",
              "      <td>32.0</td>\n",
              "    </tr>\n",
              "    <tr>\n",
              "      <th>5</th>\n",
              "      <td>9</td>\n",
              "      <td>policy_5</td>\n",
              "      <td>F</td>\n",
              "      <td>dependent</td>\n",
              "      <td>16</td>\n",
              "      <td>29.0</td>\n",
              "      <td>0.0</td>\n",
              "      <td>32.0</td>\n",
              "    </tr>\n",
              "  </tbody>\n",
              "</table>\n",
              "</div>\n",
              "      <button class=\"colab-df-convert\" onclick=\"convertToInteractive('df-c785b723-c1bd-4286-b6fb-bd8998aae70e')\"\n",
              "              title=\"Convert this dataframe to an interactive table.\"\n",
              "              style=\"display:none;\">\n",
              "        \n",
              "  <svg xmlns=\"http://www.w3.org/2000/svg\" height=\"24px\"viewBox=\"0 0 24 24\"\n",
              "       width=\"24px\">\n",
              "    <path d=\"M0 0h24v24H0V0z\" fill=\"none\"/>\n",
              "    <path d=\"M18.56 5.44l.94 2.06.94-2.06 2.06-.94-2.06-.94-.94-2.06-.94 2.06-2.06.94zm-11 1L8.5 8.5l.94-2.06 2.06-.94-2.06-.94L8.5 2.5l-.94 2.06-2.06.94zm10 10l.94 2.06.94-2.06 2.06-.94-2.06-.94-.94-2.06-.94 2.06-2.06.94z\"/><path d=\"M17.41 7.96l-1.37-1.37c-.4-.4-.92-.59-1.43-.59-.52 0-1.04.2-1.43.59L10.3 9.45l-7.72 7.72c-.78.78-.78 2.05 0 2.83L4 21.41c.39.39.9.59 1.41.59.51 0 1.02-.2 1.41-.59l7.78-7.78 2.81-2.81c.8-.78.8-2.07 0-2.86zM5.41 20L4 18.59l7.72-7.72 1.47 1.35L5.41 20z\"/>\n",
              "  </svg>\n",
              "      </button>\n",
              "      \n",
              "  <style>\n",
              "    .colab-df-container {\n",
              "      display:flex;\n",
              "      flex-wrap:wrap;\n",
              "      gap: 12px;\n",
              "    }\n",
              "\n",
              "    .colab-df-convert {\n",
              "      background-color: #E8F0FE;\n",
              "      border: none;\n",
              "      border-radius: 50%;\n",
              "      cursor: pointer;\n",
              "      display: none;\n",
              "      fill: #1967D2;\n",
              "      height: 32px;\n",
              "      padding: 0 0 0 0;\n",
              "      width: 32px;\n",
              "    }\n",
              "\n",
              "    .colab-df-convert:hover {\n",
              "      background-color: #E2EBFA;\n",
              "      box-shadow: 0px 1px 2px rgba(60, 64, 67, 0.3), 0px 1px 3px 1px rgba(60, 64, 67, 0.15);\n",
              "      fill: #174EA6;\n",
              "    }\n",
              "\n",
              "    [theme=dark] .colab-df-convert {\n",
              "      background-color: #3B4455;\n",
              "      fill: #D2E3FC;\n",
              "    }\n",
              "\n",
              "    [theme=dark] .colab-df-convert:hover {\n",
              "      background-color: #434B5C;\n",
              "      box-shadow: 0px 1px 3px 1px rgba(0, 0, 0, 0.15);\n",
              "      filter: drop-shadow(0px 1px 2px rgba(0, 0, 0, 0.3));\n",
              "      fill: #FFFFFF;\n",
              "    }\n",
              "  </style>\n",
              "\n",
              "      <script>\n",
              "        const buttonEl =\n",
              "          document.querySelector('#df-c785b723-c1bd-4286-b6fb-bd8998aae70e button.colab-df-convert');\n",
              "        buttonEl.style.display =\n",
              "          google.colab.kernel.accessAllowed ? 'block' : 'none';\n",
              "\n",
              "        async function convertToInteractive(key) {\n",
              "          const element = document.querySelector('#df-c785b723-c1bd-4286-b6fb-bd8998aae70e');\n",
              "          const dataTable =\n",
              "            await google.colab.kernel.invokeFunction('convertToInteractive',\n",
              "                                                     [key], {});\n",
              "          if (!dataTable) return;\n",
              "\n",
              "          const docLinkHtml = 'Like what you see? Visit the ' +\n",
              "            '<a target=\"_blank\" href=https://colab.research.google.com/notebooks/data_table.ipynb>data table notebook</a>'\n",
              "            + ' to learn more about interactive tables.';\n",
              "          element.innerHTML = '';\n",
              "          dataTable['output_type'] = 'display_data';\n",
              "          await google.colab.output.renderOutput(dataTable, element);\n",
              "          const docLink = document.createElement('div');\n",
              "          docLink.innerHTML = docLinkHtml;\n",
              "          element.appendChild(docLink);\n",
              "        }\n",
              "      </script>\n",
              "    </div>\n",
              "  </div>\n",
              "  "
            ]
          },
          "metadata": {},
          "execution_count": 14
        }
      ]
    },
    {
      "cell_type": "code",
      "source": [
        "df_drivers_cont = pd.get_dummies(df_drivers, columns=['gender','living_status'], drop_first=False)"
      ],
      "metadata": {
        "id": "5vnVBWcLxIdh"
      },
      "execution_count": null,
      "outputs": []
    },
    {
      "cell_type": "code",
      "source": [
        "df_drivers_cont.head()"
      ],
      "metadata": {
        "colab": {
          "base_uri": "https://localhost:8080/",
          "height": 206
        },
        "id": "lF8qG_DnxUit",
        "outputId": "1502a3b5-56cc-4447-96d2-437de9227662"
      },
      "execution_count": null,
      "outputs": [
        {
          "output_type": "execute_result",
          "data": {
            "text/plain": [
              "   Unnamed: 0 policy_id  age  safty_rating  high_education_ind  avg_age  \\\n",
              "0           2  policy_2   44          85.0                 0.0     44.0   \n",
              "1           3  policy_2   44          63.0                 1.0     44.0   \n",
              "2           4  policy_3   65          56.0                 1.0     65.0   \n",
              "3           7  policy_5   60          74.0                 1.0     32.0   \n",
              "4           8  policy_5   20          30.0                 0.0     32.0   \n",
              "\n",
              "   gender_F  gender_M  living_status_dependent  living_status_own  \\\n",
              "0         0         1                        0                  1   \n",
              "1         0         1                        0                  1   \n",
              "2         0         1                        0                  1   \n",
              "3         0         1                        0                  0   \n",
              "4         1         0                        1                  0   \n",
              "\n",
              "   living_status_rent  \n",
              "0                   0  \n",
              "1                   0  \n",
              "2                   0  \n",
              "3                   1  \n",
              "4                   0  "
            ],
            "text/html": [
              "\n",
              "  <div id=\"df-443644e4-0d78-4ad4-97f5-c2fbad6e6345\">\n",
              "    <div class=\"colab-df-container\">\n",
              "      <div>\n",
              "<style scoped>\n",
              "    .dataframe tbody tr th:only-of-type {\n",
              "        vertical-align: middle;\n",
              "    }\n",
              "\n",
              "    .dataframe tbody tr th {\n",
              "        vertical-align: top;\n",
              "    }\n",
              "\n",
              "    .dataframe thead th {\n",
              "        text-align: right;\n",
              "    }\n",
              "</style>\n",
              "<table border=\"1\" class=\"dataframe\">\n",
              "  <thead>\n",
              "    <tr style=\"text-align: right;\">\n",
              "      <th></th>\n",
              "      <th>Unnamed: 0</th>\n",
              "      <th>policy_id</th>\n",
              "      <th>age</th>\n",
              "      <th>safty_rating</th>\n",
              "      <th>high_education_ind</th>\n",
              "      <th>avg_age</th>\n",
              "      <th>gender_F</th>\n",
              "      <th>gender_M</th>\n",
              "      <th>living_status_dependent</th>\n",
              "      <th>living_status_own</th>\n",
              "      <th>living_status_rent</th>\n",
              "    </tr>\n",
              "  </thead>\n",
              "  <tbody>\n",
              "    <tr>\n",
              "      <th>0</th>\n",
              "      <td>2</td>\n",
              "      <td>policy_2</td>\n",
              "      <td>44</td>\n",
              "      <td>85.0</td>\n",
              "      <td>0.0</td>\n",
              "      <td>44.0</td>\n",
              "      <td>0</td>\n",
              "      <td>1</td>\n",
              "      <td>0</td>\n",
              "      <td>1</td>\n",
              "      <td>0</td>\n",
              "    </tr>\n",
              "    <tr>\n",
              "      <th>1</th>\n",
              "      <td>3</td>\n",
              "      <td>policy_2</td>\n",
              "      <td>44</td>\n",
              "      <td>63.0</td>\n",
              "      <td>1.0</td>\n",
              "      <td>44.0</td>\n",
              "      <td>0</td>\n",
              "      <td>1</td>\n",
              "      <td>0</td>\n",
              "      <td>1</td>\n",
              "      <td>0</td>\n",
              "    </tr>\n",
              "    <tr>\n",
              "      <th>2</th>\n",
              "      <td>4</td>\n",
              "      <td>policy_3</td>\n",
              "      <td>65</td>\n",
              "      <td>56.0</td>\n",
              "      <td>1.0</td>\n",
              "      <td>65.0</td>\n",
              "      <td>0</td>\n",
              "      <td>1</td>\n",
              "      <td>0</td>\n",
              "      <td>1</td>\n",
              "      <td>0</td>\n",
              "    </tr>\n",
              "    <tr>\n",
              "      <th>3</th>\n",
              "      <td>7</td>\n",
              "      <td>policy_5</td>\n",
              "      <td>60</td>\n",
              "      <td>74.0</td>\n",
              "      <td>1.0</td>\n",
              "      <td>32.0</td>\n",
              "      <td>0</td>\n",
              "      <td>1</td>\n",
              "      <td>0</td>\n",
              "      <td>0</td>\n",
              "      <td>1</td>\n",
              "    </tr>\n",
              "    <tr>\n",
              "      <th>4</th>\n",
              "      <td>8</td>\n",
              "      <td>policy_5</td>\n",
              "      <td>20</td>\n",
              "      <td>30.0</td>\n",
              "      <td>0.0</td>\n",
              "      <td>32.0</td>\n",
              "      <td>1</td>\n",
              "      <td>0</td>\n",
              "      <td>1</td>\n",
              "      <td>0</td>\n",
              "      <td>0</td>\n",
              "    </tr>\n",
              "  </tbody>\n",
              "</table>\n",
              "</div>\n",
              "      <button class=\"colab-df-convert\" onclick=\"convertToInteractive('df-443644e4-0d78-4ad4-97f5-c2fbad6e6345')\"\n",
              "              title=\"Convert this dataframe to an interactive table.\"\n",
              "              style=\"display:none;\">\n",
              "        \n",
              "  <svg xmlns=\"http://www.w3.org/2000/svg\" height=\"24px\"viewBox=\"0 0 24 24\"\n",
              "       width=\"24px\">\n",
              "    <path d=\"M0 0h24v24H0V0z\" fill=\"none\"/>\n",
              "    <path d=\"M18.56 5.44l.94 2.06.94-2.06 2.06-.94-2.06-.94-.94-2.06-.94 2.06-2.06.94zm-11 1L8.5 8.5l.94-2.06 2.06-.94-2.06-.94L8.5 2.5l-.94 2.06-2.06.94zm10 10l.94 2.06.94-2.06 2.06-.94-2.06-.94-.94-2.06-.94 2.06-2.06.94z\"/><path d=\"M17.41 7.96l-1.37-1.37c-.4-.4-.92-.59-1.43-.59-.52 0-1.04.2-1.43.59L10.3 9.45l-7.72 7.72c-.78.78-.78 2.05 0 2.83L4 21.41c.39.39.9.59 1.41.59.51 0 1.02-.2 1.41-.59l7.78-7.78 2.81-2.81c.8-.78.8-2.07 0-2.86zM5.41 20L4 18.59l7.72-7.72 1.47 1.35L5.41 20z\"/>\n",
              "  </svg>\n",
              "      </button>\n",
              "      \n",
              "  <style>\n",
              "    .colab-df-container {\n",
              "      display:flex;\n",
              "      flex-wrap:wrap;\n",
              "      gap: 12px;\n",
              "    }\n",
              "\n",
              "    .colab-df-convert {\n",
              "      background-color: #E8F0FE;\n",
              "      border: none;\n",
              "      border-radius: 50%;\n",
              "      cursor: pointer;\n",
              "      display: none;\n",
              "      fill: #1967D2;\n",
              "      height: 32px;\n",
              "      padding: 0 0 0 0;\n",
              "      width: 32px;\n",
              "    }\n",
              "\n",
              "    .colab-df-convert:hover {\n",
              "      background-color: #E2EBFA;\n",
              "      box-shadow: 0px 1px 2px rgba(60, 64, 67, 0.3), 0px 1px 3px 1px rgba(60, 64, 67, 0.15);\n",
              "      fill: #174EA6;\n",
              "    }\n",
              "\n",
              "    [theme=dark] .colab-df-convert {\n",
              "      background-color: #3B4455;\n",
              "      fill: #D2E3FC;\n",
              "    }\n",
              "\n",
              "    [theme=dark] .colab-df-convert:hover {\n",
              "      background-color: #434B5C;\n",
              "      box-shadow: 0px 1px 3px 1px rgba(0, 0, 0, 0.15);\n",
              "      filter: drop-shadow(0px 1px 2px rgba(0, 0, 0, 0.3));\n",
              "      fill: #FFFFFF;\n",
              "    }\n",
              "  </style>\n",
              "\n",
              "      <script>\n",
              "        const buttonEl =\n",
              "          document.querySelector('#df-443644e4-0d78-4ad4-97f5-c2fbad6e6345 button.colab-df-convert');\n",
              "        buttonEl.style.display =\n",
              "          google.colab.kernel.accessAllowed ? 'block' : 'none';\n",
              "\n",
              "        async function convertToInteractive(key) {\n",
              "          const element = document.querySelector('#df-443644e4-0d78-4ad4-97f5-c2fbad6e6345');\n",
              "          const dataTable =\n",
              "            await google.colab.kernel.invokeFunction('convertToInteractive',\n",
              "                                                     [key], {});\n",
              "          if (!dataTable) return;\n",
              "\n",
              "          const docLinkHtml = 'Like what you see? Visit the ' +\n",
              "            '<a target=\"_blank\" href=https://colab.research.google.com/notebooks/data_table.ipynb>data table notebook</a>'\n",
              "            + ' to learn more about interactive tables.';\n",
              "          element.innerHTML = '';\n",
              "          dataTable['output_type'] = 'display_data';\n",
              "          await google.colab.output.renderOutput(dataTable, element);\n",
              "          const docLink = document.createElement('div');\n",
              "          docLink.innerHTML = docLinkHtml;\n",
              "          element.appendChild(docLink);\n",
              "        }\n",
              "      </script>\n",
              "    </div>\n",
              "  </div>\n",
              "  "
            ]
          },
          "metadata": {},
          "execution_count": 20
        }
      ]
    },
    {
      "cell_type": "code",
      "source": [
        "df_drivers['living_status'].value_counts()"
      ],
      "metadata": {
        "colab": {
          "base_uri": "https://localhost:8080/"
        },
        "id": "WEWzpWQuwmrg",
        "outputId": "fa3e5425-9255-40bb-db04-177128029b36"
      },
      "execution_count": null,
      "outputs": [
        {
          "output_type": "execute_result",
          "data": {
            "text/plain": [
              "dependent    39654\n",
              "own          36526\n",
              "rent         30064\n",
              "Name: living_status, dtype: int64"
            ]
          },
          "metadata": {},
          "execution_count": 16
        }
      ]
    },
    {
      "cell_type": "markdown",
      "source": [
        "Transformation of each column\n",
        "1. Gender - check if policy has male or femal or both genders\n",
        "2. Living Status\n",
        "3. Average of age\n",
        "4. Average of Safety Rating\n",
        "5. Check if any one driver is highly educated"
      ],
      "metadata": {
        "id": "0cVRvBIGuWY8"
      }
    },
    {
      "cell_type": "code",
      "source": [
        "df_drivers_cont['avg_age']=df_drivers_cont.groupby('policy_id')['age'].transform('mean')\n",
        "df_drivers_cont['avg_safty_rating']=df_drivers_cont.groupby('policy_id')['safty_rating'].transform('mean')\n",
        "df_drivers_cont['num_of_higher_educators']=df_drivers_cont.groupby('policy_id')['high_education_ind'].transform('sum')\n",
        "df_drivers_cont['num_of_females']=df_drivers_cont.groupby('policy_id')['gender_F'].transform('sum')\n",
        "df_drivers_cont['num_of_males']=df_drivers_cont.groupby('policy_id')['gender_M'].transform('sum')\n",
        "df_drivers_cont['num_of_dependents']=df_drivers_cont.groupby('policy_id')['living_status_dependent'].transform('sum')\n",
        "df_drivers_cont['num_of_renters']=df_drivers_cont.groupby('policy_id')['living_status_rent'].transform('sum')\n",
        "df_drivers_cont['num_of_owners']=df_drivers_cont.groupby('policy_id')['living_status_own'].transform('sum')\n",
        "df_drivers_cont.head(6)"
      ],
      "metadata": {
        "colab": {
          "base_uri": "https://localhost:8080/",
          "height": 319
        },
        "id": "pTdXXBvSumqf",
        "outputId": "9754e6b7-a621-4cc3-c254-4989ce145a76"
      },
      "execution_count": null,
      "outputs": [
        {
          "output_type": "execute_result",
          "data": {
            "text/plain": [
              "   Unnamed: 0 policy_id  age  safty_rating  high_education_ind  avg_age  \\\n",
              "0           2  policy_2   44          85.0                 0.0     44.0   \n",
              "1           3  policy_2   44          63.0                 1.0     44.0   \n",
              "2           4  policy_3   65          56.0                 1.0     65.0   \n",
              "3           7  policy_5   60          74.0                 1.0     32.0   \n",
              "4           8  policy_5   20          30.0                 0.0     32.0   \n",
              "5           9  policy_5   16          29.0                 0.0     32.0   \n",
              "\n",
              "   gender_F  gender_M  living_status_dependent  living_status_own  \\\n",
              "0         0         1                        0                  1   \n",
              "1         0         1                        0                  1   \n",
              "2         0         1                        0                  1   \n",
              "3         0         1                        0                  0   \n",
              "4         1         0                        1                  0   \n",
              "5         1         0                        1                  0   \n",
              "\n",
              "   living_status_rent  avg_safty_rating  num_of_higher_educators  \\\n",
              "0                   0         74.000000                      1.0   \n",
              "1                   0         74.000000                      1.0   \n",
              "2                   0         56.000000                      1.0   \n",
              "3                   1         44.333333                      1.0   \n",
              "4                   0         44.333333                      1.0   \n",
              "5                   0         44.333333                      1.0   \n",
              "\n",
              "   num_of_females  num_of_males  num_of_dependents  num_of_renters  \\\n",
              "0               0             2                  0               0   \n",
              "1               0             2                  0               0   \n",
              "2               0             1                  0               0   \n",
              "3               2             1                  2               1   \n",
              "4               2             1                  2               1   \n",
              "5               2             1                  2               1   \n",
              "\n",
              "   num_of_owners  \n",
              "0              2  \n",
              "1              2  \n",
              "2              1  \n",
              "3              0  \n",
              "4              0  \n",
              "5              0  "
            ],
            "text/html": [
              "\n",
              "  <div id=\"df-287c094d-278b-40c7-b151-388285e99884\">\n",
              "    <div class=\"colab-df-container\">\n",
              "      <div>\n",
              "<style scoped>\n",
              "    .dataframe tbody tr th:only-of-type {\n",
              "        vertical-align: middle;\n",
              "    }\n",
              "\n",
              "    .dataframe tbody tr th {\n",
              "        vertical-align: top;\n",
              "    }\n",
              "\n",
              "    .dataframe thead th {\n",
              "        text-align: right;\n",
              "    }\n",
              "</style>\n",
              "<table border=\"1\" class=\"dataframe\">\n",
              "  <thead>\n",
              "    <tr style=\"text-align: right;\">\n",
              "      <th></th>\n",
              "      <th>Unnamed: 0</th>\n",
              "      <th>policy_id</th>\n",
              "      <th>age</th>\n",
              "      <th>safty_rating</th>\n",
              "      <th>high_education_ind</th>\n",
              "      <th>avg_age</th>\n",
              "      <th>gender_F</th>\n",
              "      <th>gender_M</th>\n",
              "      <th>living_status_dependent</th>\n",
              "      <th>living_status_own</th>\n",
              "      <th>living_status_rent</th>\n",
              "      <th>avg_safty_rating</th>\n",
              "      <th>num_of_higher_educators</th>\n",
              "      <th>num_of_females</th>\n",
              "      <th>num_of_males</th>\n",
              "      <th>num_of_dependents</th>\n",
              "      <th>num_of_renters</th>\n",
              "      <th>num_of_owners</th>\n",
              "    </tr>\n",
              "  </thead>\n",
              "  <tbody>\n",
              "    <tr>\n",
              "      <th>0</th>\n",
              "      <td>2</td>\n",
              "      <td>policy_2</td>\n",
              "      <td>44</td>\n",
              "      <td>85.0</td>\n",
              "      <td>0.0</td>\n",
              "      <td>44.0</td>\n",
              "      <td>0</td>\n",
              "      <td>1</td>\n",
              "      <td>0</td>\n",
              "      <td>1</td>\n",
              "      <td>0</td>\n",
              "      <td>74.000000</td>\n",
              "      <td>1.0</td>\n",
              "      <td>0</td>\n",
              "      <td>2</td>\n",
              "      <td>0</td>\n",
              "      <td>0</td>\n",
              "      <td>2</td>\n",
              "    </tr>\n",
              "    <tr>\n",
              "      <th>1</th>\n",
              "      <td>3</td>\n",
              "      <td>policy_2</td>\n",
              "      <td>44</td>\n",
              "      <td>63.0</td>\n",
              "      <td>1.0</td>\n",
              "      <td>44.0</td>\n",
              "      <td>0</td>\n",
              "      <td>1</td>\n",
              "      <td>0</td>\n",
              "      <td>1</td>\n",
              "      <td>0</td>\n",
              "      <td>74.000000</td>\n",
              "      <td>1.0</td>\n",
              "      <td>0</td>\n",
              "      <td>2</td>\n",
              "      <td>0</td>\n",
              "      <td>0</td>\n",
              "      <td>2</td>\n",
              "    </tr>\n",
              "    <tr>\n",
              "      <th>2</th>\n",
              "      <td>4</td>\n",
              "      <td>policy_3</td>\n",
              "      <td>65</td>\n",
              "      <td>56.0</td>\n",
              "      <td>1.0</td>\n",
              "      <td>65.0</td>\n",
              "      <td>0</td>\n",
              "      <td>1</td>\n",
              "      <td>0</td>\n",
              "      <td>1</td>\n",
              "      <td>0</td>\n",
              "      <td>56.000000</td>\n",
              "      <td>1.0</td>\n",
              "      <td>0</td>\n",
              "      <td>1</td>\n",
              "      <td>0</td>\n",
              "      <td>0</td>\n",
              "      <td>1</td>\n",
              "    </tr>\n",
              "    <tr>\n",
              "      <th>3</th>\n",
              "      <td>7</td>\n",
              "      <td>policy_5</td>\n",
              "      <td>60</td>\n",
              "      <td>74.0</td>\n",
              "      <td>1.0</td>\n",
              "      <td>32.0</td>\n",
              "      <td>0</td>\n",
              "      <td>1</td>\n",
              "      <td>0</td>\n",
              "      <td>0</td>\n",
              "      <td>1</td>\n",
              "      <td>44.333333</td>\n",
              "      <td>1.0</td>\n",
              "      <td>2</td>\n",
              "      <td>1</td>\n",
              "      <td>2</td>\n",
              "      <td>1</td>\n",
              "      <td>0</td>\n",
              "    </tr>\n",
              "    <tr>\n",
              "      <th>4</th>\n",
              "      <td>8</td>\n",
              "      <td>policy_5</td>\n",
              "      <td>20</td>\n",
              "      <td>30.0</td>\n",
              "      <td>0.0</td>\n",
              "      <td>32.0</td>\n",
              "      <td>1</td>\n",
              "      <td>0</td>\n",
              "      <td>1</td>\n",
              "      <td>0</td>\n",
              "      <td>0</td>\n",
              "      <td>44.333333</td>\n",
              "      <td>1.0</td>\n",
              "      <td>2</td>\n",
              "      <td>1</td>\n",
              "      <td>2</td>\n",
              "      <td>1</td>\n",
              "      <td>0</td>\n",
              "    </tr>\n",
              "    <tr>\n",
              "      <th>5</th>\n",
              "      <td>9</td>\n",
              "      <td>policy_5</td>\n",
              "      <td>16</td>\n",
              "      <td>29.0</td>\n",
              "      <td>0.0</td>\n",
              "      <td>32.0</td>\n",
              "      <td>1</td>\n",
              "      <td>0</td>\n",
              "      <td>1</td>\n",
              "      <td>0</td>\n",
              "      <td>0</td>\n",
              "      <td>44.333333</td>\n",
              "      <td>1.0</td>\n",
              "      <td>2</td>\n",
              "      <td>1</td>\n",
              "      <td>2</td>\n",
              "      <td>1</td>\n",
              "      <td>0</td>\n",
              "    </tr>\n",
              "  </tbody>\n",
              "</table>\n",
              "</div>\n",
              "      <button class=\"colab-df-convert\" onclick=\"convertToInteractive('df-287c094d-278b-40c7-b151-388285e99884')\"\n",
              "              title=\"Convert this dataframe to an interactive table.\"\n",
              "              style=\"display:none;\">\n",
              "        \n",
              "  <svg xmlns=\"http://www.w3.org/2000/svg\" height=\"24px\"viewBox=\"0 0 24 24\"\n",
              "       width=\"24px\">\n",
              "    <path d=\"M0 0h24v24H0V0z\" fill=\"none\"/>\n",
              "    <path d=\"M18.56 5.44l.94 2.06.94-2.06 2.06-.94-2.06-.94-.94-2.06-.94 2.06-2.06.94zm-11 1L8.5 8.5l.94-2.06 2.06-.94-2.06-.94L8.5 2.5l-.94 2.06-2.06.94zm10 10l.94 2.06.94-2.06 2.06-.94-2.06-.94-.94-2.06-.94 2.06-2.06.94z\"/><path d=\"M17.41 7.96l-1.37-1.37c-.4-.4-.92-.59-1.43-.59-.52 0-1.04.2-1.43.59L10.3 9.45l-7.72 7.72c-.78.78-.78 2.05 0 2.83L4 21.41c.39.39.9.59 1.41.59.51 0 1.02-.2 1.41-.59l7.78-7.78 2.81-2.81c.8-.78.8-2.07 0-2.86zM5.41 20L4 18.59l7.72-7.72 1.47 1.35L5.41 20z\"/>\n",
              "  </svg>\n",
              "      </button>\n",
              "      \n",
              "  <style>\n",
              "    .colab-df-container {\n",
              "      display:flex;\n",
              "      flex-wrap:wrap;\n",
              "      gap: 12px;\n",
              "    }\n",
              "\n",
              "    .colab-df-convert {\n",
              "      background-color: #E8F0FE;\n",
              "      border: none;\n",
              "      border-radius: 50%;\n",
              "      cursor: pointer;\n",
              "      display: none;\n",
              "      fill: #1967D2;\n",
              "      height: 32px;\n",
              "      padding: 0 0 0 0;\n",
              "      width: 32px;\n",
              "    }\n",
              "\n",
              "    .colab-df-convert:hover {\n",
              "      background-color: #E2EBFA;\n",
              "      box-shadow: 0px 1px 2px rgba(60, 64, 67, 0.3), 0px 1px 3px 1px rgba(60, 64, 67, 0.15);\n",
              "      fill: #174EA6;\n",
              "    }\n",
              "\n",
              "    [theme=dark] .colab-df-convert {\n",
              "      background-color: #3B4455;\n",
              "      fill: #D2E3FC;\n",
              "    }\n",
              "\n",
              "    [theme=dark] .colab-df-convert:hover {\n",
              "      background-color: #434B5C;\n",
              "      box-shadow: 0px 1px 3px 1px rgba(0, 0, 0, 0.15);\n",
              "      filter: drop-shadow(0px 1px 2px rgba(0, 0, 0, 0.3));\n",
              "      fill: #FFFFFF;\n",
              "    }\n",
              "  </style>\n",
              "\n",
              "      <script>\n",
              "        const buttonEl =\n",
              "          document.querySelector('#df-287c094d-278b-40c7-b151-388285e99884 button.colab-df-convert');\n",
              "        buttonEl.style.display =\n",
              "          google.colab.kernel.accessAllowed ? 'block' : 'none';\n",
              "\n",
              "        async function convertToInteractive(key) {\n",
              "          const element = document.querySelector('#df-287c094d-278b-40c7-b151-388285e99884');\n",
              "          const dataTable =\n",
              "            await google.colab.kernel.invokeFunction('convertToInteractive',\n",
              "                                                     [key], {});\n",
              "          if (!dataTable) return;\n",
              "\n",
              "          const docLinkHtml = 'Like what you see? Visit the ' +\n",
              "            '<a target=\"_blank\" href=https://colab.research.google.com/notebooks/data_table.ipynb>data table notebook</a>'\n",
              "            + ' to learn more about interactive tables.';\n",
              "          element.innerHTML = '';\n",
              "          dataTable['output_type'] = 'display_data';\n",
              "          await google.colab.output.renderOutput(dataTable, element);\n",
              "          const docLink = document.createElement('div');\n",
              "          docLink.innerHTML = docLinkHtml;\n",
              "          element.appendChild(docLink);\n",
              "        }\n",
              "      </script>\n",
              "    </div>\n",
              "  </div>\n",
              "  "
            ]
          },
          "metadata": {},
          "execution_count": 22
        }
      ]
    },
    {
      "cell_type": "markdown",
      "source": [
        "References:\n",
        "https://pandas.pydata.org/pandas-docs/stable/reference/api/pandas.core.groupby.DataFrameGroupBy.transform.html"
      ],
      "metadata": {
        "id": "fIttyOrO2tKH"
      }
    },
    {
      "cell_type": "code",
      "source": [
        "df_drivers_policy_level=df_drivers_cont[['policy_id','avg_age','avg_safty_rating','num_of_higher_educators','num_of_females','num_of_males','num_of_dependents','num_of_renters','num_of_owners']].drop_duplicates()"
      ],
      "metadata": {
        "id": "EgNb9dBWynKd"
      },
      "execution_count": null,
      "outputs": []
    },
    {
      "cell_type": "code",
      "source": [
        "df_drivers_policy_level.count()"
      ],
      "metadata": {
        "colab": {
          "base_uri": "https://localhost:8080/"
        },
        "id": "yrcG-OXCzInx",
        "outputId": "eb67a119-93ed-4ee0-bda4-a5e555ac8908"
      },
      "execution_count": null,
      "outputs": [
        {
          "output_type": "execute_result",
          "data": {
            "text/plain": [
              "policy_id                  49162\n",
              "avg_age                    49162\n",
              "avg_safty_rating           49147\n",
              "num_of_higher_educators    49162\n",
              "num_of_females             49162\n",
              "num_of_males               49162\n",
              "num_of_dependents          49162\n",
              "num_of_renters             49162\n",
              "num_of_owners              49162\n",
              "dtype: int64"
            ]
          },
          "metadata": {},
          "execution_count": 26
        }
      ]
    },
    {
      "cell_type": "code",
      "source": [
        "df_drivers_policy_level.head()"
      ],
      "metadata": {
        "colab": {
          "base_uri": "https://localhost:8080/",
          "height": 206
        },
        "id": "2HG_EneYzP7n",
        "outputId": "a146d310-bd91-45a0-9546-f0fb95e63849"
      },
      "execution_count": null,
      "outputs": [
        {
          "output_type": "execute_result",
          "data": {
            "text/plain": [
              "   policy_id  avg_age  avg_safty_rating  num_of_higher_educators  \\\n",
              "0   policy_2     44.0         74.000000                      1.0   \n",
              "2   policy_3     65.0         56.000000                      1.0   \n",
              "3   policy_5     32.0         44.333333                      1.0   \n",
              "6   policy_6     31.0         73.333333                      0.0   \n",
              "9  policy_11     50.0         92.000000                      0.0   \n",
              "\n",
              "   num_of_females  num_of_males  num_of_dependents  num_of_renters  \\\n",
              "0               0             2                  0               0   \n",
              "2               0             1                  0               0   \n",
              "3               2             1                  2               1   \n",
              "6               0             3                  2               0   \n",
              "9               1             0                  0               1   \n",
              "\n",
              "   num_of_owners  \n",
              "0              2  \n",
              "2              1  \n",
              "3              0  \n",
              "6              1  \n",
              "9              0  "
            ],
            "text/html": [
              "\n",
              "  <div id=\"df-ef67ae00-65b8-4ab7-b7e8-18a0d0cccb69\">\n",
              "    <div class=\"colab-df-container\">\n",
              "      <div>\n",
              "<style scoped>\n",
              "    .dataframe tbody tr th:only-of-type {\n",
              "        vertical-align: middle;\n",
              "    }\n",
              "\n",
              "    .dataframe tbody tr th {\n",
              "        vertical-align: top;\n",
              "    }\n",
              "\n",
              "    .dataframe thead th {\n",
              "        text-align: right;\n",
              "    }\n",
              "</style>\n",
              "<table border=\"1\" class=\"dataframe\">\n",
              "  <thead>\n",
              "    <tr style=\"text-align: right;\">\n",
              "      <th></th>\n",
              "      <th>policy_id</th>\n",
              "      <th>avg_age</th>\n",
              "      <th>avg_safty_rating</th>\n",
              "      <th>num_of_higher_educators</th>\n",
              "      <th>num_of_females</th>\n",
              "      <th>num_of_males</th>\n",
              "      <th>num_of_dependents</th>\n",
              "      <th>num_of_renters</th>\n",
              "      <th>num_of_owners</th>\n",
              "    </tr>\n",
              "  </thead>\n",
              "  <tbody>\n",
              "    <tr>\n",
              "      <th>0</th>\n",
              "      <td>policy_2</td>\n",
              "      <td>44.0</td>\n",
              "      <td>74.000000</td>\n",
              "      <td>1.0</td>\n",
              "      <td>0</td>\n",
              "      <td>2</td>\n",
              "      <td>0</td>\n",
              "      <td>0</td>\n",
              "      <td>2</td>\n",
              "    </tr>\n",
              "    <tr>\n",
              "      <th>2</th>\n",
              "      <td>policy_3</td>\n",
              "      <td>65.0</td>\n",
              "      <td>56.000000</td>\n",
              "      <td>1.0</td>\n",
              "      <td>0</td>\n",
              "      <td>1</td>\n",
              "      <td>0</td>\n",
              "      <td>0</td>\n",
              "      <td>1</td>\n",
              "    </tr>\n",
              "    <tr>\n",
              "      <th>3</th>\n",
              "      <td>policy_5</td>\n",
              "      <td>32.0</td>\n",
              "      <td>44.333333</td>\n",
              "      <td>1.0</td>\n",
              "      <td>2</td>\n",
              "      <td>1</td>\n",
              "      <td>2</td>\n",
              "      <td>1</td>\n",
              "      <td>0</td>\n",
              "    </tr>\n",
              "    <tr>\n",
              "      <th>6</th>\n",
              "      <td>policy_6</td>\n",
              "      <td>31.0</td>\n",
              "      <td>73.333333</td>\n",
              "      <td>0.0</td>\n",
              "      <td>0</td>\n",
              "      <td>3</td>\n",
              "      <td>2</td>\n",
              "      <td>0</td>\n",
              "      <td>1</td>\n",
              "    </tr>\n",
              "    <tr>\n",
              "      <th>9</th>\n",
              "      <td>policy_11</td>\n",
              "      <td>50.0</td>\n",
              "      <td>92.000000</td>\n",
              "      <td>0.0</td>\n",
              "      <td>1</td>\n",
              "      <td>0</td>\n",
              "      <td>0</td>\n",
              "      <td>1</td>\n",
              "      <td>0</td>\n",
              "    </tr>\n",
              "  </tbody>\n",
              "</table>\n",
              "</div>\n",
              "      <button class=\"colab-df-convert\" onclick=\"convertToInteractive('df-ef67ae00-65b8-4ab7-b7e8-18a0d0cccb69')\"\n",
              "              title=\"Convert this dataframe to an interactive table.\"\n",
              "              style=\"display:none;\">\n",
              "        \n",
              "  <svg xmlns=\"http://www.w3.org/2000/svg\" height=\"24px\"viewBox=\"0 0 24 24\"\n",
              "       width=\"24px\">\n",
              "    <path d=\"M0 0h24v24H0V0z\" fill=\"none\"/>\n",
              "    <path d=\"M18.56 5.44l.94 2.06.94-2.06 2.06-.94-2.06-.94-.94-2.06-.94 2.06-2.06.94zm-11 1L8.5 8.5l.94-2.06 2.06-.94-2.06-.94L8.5 2.5l-.94 2.06-2.06.94zm10 10l.94 2.06.94-2.06 2.06-.94-2.06-.94-.94-2.06-.94 2.06-2.06.94z\"/><path d=\"M17.41 7.96l-1.37-1.37c-.4-.4-.92-.59-1.43-.59-.52 0-1.04.2-1.43.59L10.3 9.45l-7.72 7.72c-.78.78-.78 2.05 0 2.83L4 21.41c.39.39.9.59 1.41.59.51 0 1.02-.2 1.41-.59l7.78-7.78 2.81-2.81c.8-.78.8-2.07 0-2.86zM5.41 20L4 18.59l7.72-7.72 1.47 1.35L5.41 20z\"/>\n",
              "  </svg>\n",
              "      </button>\n",
              "      \n",
              "  <style>\n",
              "    .colab-df-container {\n",
              "      display:flex;\n",
              "      flex-wrap:wrap;\n",
              "      gap: 12px;\n",
              "    }\n",
              "\n",
              "    .colab-df-convert {\n",
              "      background-color: #E8F0FE;\n",
              "      border: none;\n",
              "      border-radius: 50%;\n",
              "      cursor: pointer;\n",
              "      display: none;\n",
              "      fill: #1967D2;\n",
              "      height: 32px;\n",
              "      padding: 0 0 0 0;\n",
              "      width: 32px;\n",
              "    }\n",
              "\n",
              "    .colab-df-convert:hover {\n",
              "      background-color: #E2EBFA;\n",
              "      box-shadow: 0px 1px 2px rgba(60, 64, 67, 0.3), 0px 1px 3px 1px rgba(60, 64, 67, 0.15);\n",
              "      fill: #174EA6;\n",
              "    }\n",
              "\n",
              "    [theme=dark] .colab-df-convert {\n",
              "      background-color: #3B4455;\n",
              "      fill: #D2E3FC;\n",
              "    }\n",
              "\n",
              "    [theme=dark] .colab-df-convert:hover {\n",
              "      background-color: #434B5C;\n",
              "      box-shadow: 0px 1px 3px 1px rgba(0, 0, 0, 0.15);\n",
              "      filter: drop-shadow(0px 1px 2px rgba(0, 0, 0, 0.3));\n",
              "      fill: #FFFFFF;\n",
              "    }\n",
              "  </style>\n",
              "\n",
              "      <script>\n",
              "        const buttonEl =\n",
              "          document.querySelector('#df-ef67ae00-65b8-4ab7-b7e8-18a0d0cccb69 button.colab-df-convert');\n",
              "        buttonEl.style.display =\n",
              "          google.colab.kernel.accessAllowed ? 'block' : 'none';\n",
              "\n",
              "        async function convertToInteractive(key) {\n",
              "          const element = document.querySelector('#df-ef67ae00-65b8-4ab7-b7e8-18a0d0cccb69');\n",
              "          const dataTable =\n",
              "            await google.colab.kernel.invokeFunction('convertToInteractive',\n",
              "                                                     [key], {});\n",
              "          if (!dataTable) return;\n",
              "\n",
              "          const docLinkHtml = 'Like what you see? Visit the ' +\n",
              "            '<a target=\"_blank\" href=https://colab.research.google.com/notebooks/data_table.ipynb>data table notebook</a>'\n",
              "            + ' to learn more about interactive tables.';\n",
              "          element.innerHTML = '';\n",
              "          dataTable['output_type'] = 'display_data';\n",
              "          await google.colab.output.renderOutput(dataTable, element);\n",
              "          const docLink = document.createElement('div');\n",
              "          docLink.innerHTML = docLinkHtml;\n",
              "          element.appendChild(docLink);\n",
              "        }\n",
              "      </script>\n",
              "    </div>\n",
              "  </div>\n",
              "  "
            ]
          },
          "metadata": {},
          "execution_count": 27
        }
      ]
    },
    {
      "cell_type": "markdown",
      "source": [
        "### Vehicle Dataset transformation"
      ],
      "metadata": {
        "id": "t37G2wE0zpao"
      }
    },
    {
      "cell_type": "code",
      "source": [
        "df_vehicles.head(6)"
      ],
      "metadata": {
        "colab": {
          "base_uri": "https://localhost:8080/",
          "height": 237
        },
        "outputId": "5265818c-a683-4fbc-c93f-ba1aa02ed958",
        "id": "-r27osNRzvLl"
      },
      "execution_count": null,
      "outputs": [
        {
          "output_type": "execute_result",
          "data": {
            "text/plain": [
              "   Unnamed: 0     policy_id  car_no ownership_type  color  age  \\\n",
              "0           6  policy_74571       1         leased  other  4.0   \n",
              "1           7  policy_74571       2          owned   blue  3.0   \n",
              "2          15   policy_1998       1          owned   gray  7.0   \n",
              "3          29  policy_28085       1          owned   gray  4.0   \n",
              "4          34  policy_64282       1          owned  black  4.0   \n",
              "5          35  policy_64282       2         loaned  black  6.0   \n",
              "\n",
              "                 make_model  \n",
              "0             BMW : R1200CL  \n",
              "1                ACURA : TL  \n",
              "2               BMW : 750LI  \n",
              "3   MERCEDES-BENZ : G55 AMG  \n",
              "4             BMW : 550I GT  \n",
              "5  MERCEDES-BENZ : CL65 AMG  "
            ],
            "text/html": [
              "\n",
              "  <div id=\"df-8ac35912-56ce-4ce3-b968-3f28c9098713\">\n",
              "    <div class=\"colab-df-container\">\n",
              "      <div>\n",
              "<style scoped>\n",
              "    .dataframe tbody tr th:only-of-type {\n",
              "        vertical-align: middle;\n",
              "    }\n",
              "\n",
              "    .dataframe tbody tr th {\n",
              "        vertical-align: top;\n",
              "    }\n",
              "\n",
              "    .dataframe thead th {\n",
              "        text-align: right;\n",
              "    }\n",
              "</style>\n",
              "<table border=\"1\" class=\"dataframe\">\n",
              "  <thead>\n",
              "    <tr style=\"text-align: right;\">\n",
              "      <th></th>\n",
              "      <th>Unnamed: 0</th>\n",
              "      <th>policy_id</th>\n",
              "      <th>car_no</th>\n",
              "      <th>ownership_type</th>\n",
              "      <th>color</th>\n",
              "      <th>age</th>\n",
              "      <th>make_model</th>\n",
              "    </tr>\n",
              "  </thead>\n",
              "  <tbody>\n",
              "    <tr>\n",
              "      <th>0</th>\n",
              "      <td>6</td>\n",
              "      <td>policy_74571</td>\n",
              "      <td>1</td>\n",
              "      <td>leased</td>\n",
              "      <td>other</td>\n",
              "      <td>4.0</td>\n",
              "      <td>BMW : R1200CL</td>\n",
              "    </tr>\n",
              "    <tr>\n",
              "      <th>1</th>\n",
              "      <td>7</td>\n",
              "      <td>policy_74571</td>\n",
              "      <td>2</td>\n",
              "      <td>owned</td>\n",
              "      <td>blue</td>\n",
              "      <td>3.0</td>\n",
              "      <td>ACURA : TL</td>\n",
              "    </tr>\n",
              "    <tr>\n",
              "      <th>2</th>\n",
              "      <td>15</td>\n",
              "      <td>policy_1998</td>\n",
              "      <td>1</td>\n",
              "      <td>owned</td>\n",
              "      <td>gray</td>\n",
              "      <td>7.0</td>\n",
              "      <td>BMW : 750LI</td>\n",
              "    </tr>\n",
              "    <tr>\n",
              "      <th>3</th>\n",
              "      <td>29</td>\n",
              "      <td>policy_28085</td>\n",
              "      <td>1</td>\n",
              "      <td>owned</td>\n",
              "      <td>gray</td>\n",
              "      <td>4.0</td>\n",
              "      <td>MERCEDES-BENZ : G55 AMG</td>\n",
              "    </tr>\n",
              "    <tr>\n",
              "      <th>4</th>\n",
              "      <td>34</td>\n",
              "      <td>policy_64282</td>\n",
              "      <td>1</td>\n",
              "      <td>owned</td>\n",
              "      <td>black</td>\n",
              "      <td>4.0</td>\n",
              "      <td>BMW : 550I GT</td>\n",
              "    </tr>\n",
              "    <tr>\n",
              "      <th>5</th>\n",
              "      <td>35</td>\n",
              "      <td>policy_64282</td>\n",
              "      <td>2</td>\n",
              "      <td>loaned</td>\n",
              "      <td>black</td>\n",
              "      <td>6.0</td>\n",
              "      <td>MERCEDES-BENZ : CL65 AMG</td>\n",
              "    </tr>\n",
              "  </tbody>\n",
              "</table>\n",
              "</div>\n",
              "      <button class=\"colab-df-convert\" onclick=\"convertToInteractive('df-8ac35912-56ce-4ce3-b968-3f28c9098713')\"\n",
              "              title=\"Convert this dataframe to an interactive table.\"\n",
              "              style=\"display:none;\">\n",
              "        \n",
              "  <svg xmlns=\"http://www.w3.org/2000/svg\" height=\"24px\"viewBox=\"0 0 24 24\"\n",
              "       width=\"24px\">\n",
              "    <path d=\"M0 0h24v24H0V0z\" fill=\"none\"/>\n",
              "    <path d=\"M18.56 5.44l.94 2.06.94-2.06 2.06-.94-2.06-.94-.94-2.06-.94 2.06-2.06.94zm-11 1L8.5 8.5l.94-2.06 2.06-.94-2.06-.94L8.5 2.5l-.94 2.06-2.06.94zm10 10l.94 2.06.94-2.06 2.06-.94-2.06-.94-.94-2.06-.94 2.06-2.06.94z\"/><path d=\"M17.41 7.96l-1.37-1.37c-.4-.4-.92-.59-1.43-.59-.52 0-1.04.2-1.43.59L10.3 9.45l-7.72 7.72c-.78.78-.78 2.05 0 2.83L4 21.41c.39.39.9.59 1.41.59.51 0 1.02-.2 1.41-.59l7.78-7.78 2.81-2.81c.8-.78.8-2.07 0-2.86zM5.41 20L4 18.59l7.72-7.72 1.47 1.35L5.41 20z\"/>\n",
              "  </svg>\n",
              "      </button>\n",
              "      \n",
              "  <style>\n",
              "    .colab-df-container {\n",
              "      display:flex;\n",
              "      flex-wrap:wrap;\n",
              "      gap: 12px;\n",
              "    }\n",
              "\n",
              "    .colab-df-convert {\n",
              "      background-color: #E8F0FE;\n",
              "      border: none;\n",
              "      border-radius: 50%;\n",
              "      cursor: pointer;\n",
              "      display: none;\n",
              "      fill: #1967D2;\n",
              "      height: 32px;\n",
              "      padding: 0 0 0 0;\n",
              "      width: 32px;\n",
              "    }\n",
              "\n",
              "    .colab-df-convert:hover {\n",
              "      background-color: #E2EBFA;\n",
              "      box-shadow: 0px 1px 2px rgba(60, 64, 67, 0.3), 0px 1px 3px 1px rgba(60, 64, 67, 0.15);\n",
              "      fill: #174EA6;\n",
              "    }\n",
              "\n",
              "    [theme=dark] .colab-df-convert {\n",
              "      background-color: #3B4455;\n",
              "      fill: #D2E3FC;\n",
              "    }\n",
              "\n",
              "    [theme=dark] .colab-df-convert:hover {\n",
              "      background-color: #434B5C;\n",
              "      box-shadow: 0px 1px 3px 1px rgba(0, 0, 0, 0.15);\n",
              "      filter: drop-shadow(0px 1px 2px rgba(0, 0, 0, 0.3));\n",
              "      fill: #FFFFFF;\n",
              "    }\n",
              "  </style>\n",
              "\n",
              "      <script>\n",
              "        const buttonEl =\n",
              "          document.querySelector('#df-8ac35912-56ce-4ce3-b968-3f28c9098713 button.colab-df-convert');\n",
              "        buttonEl.style.display =\n",
              "          google.colab.kernel.accessAllowed ? 'block' : 'none';\n",
              "\n",
              "        async function convertToInteractive(key) {\n",
              "          const element = document.querySelector('#df-8ac35912-56ce-4ce3-b968-3f28c9098713');\n",
              "          const dataTable =\n",
              "            await google.colab.kernel.invokeFunction('convertToInteractive',\n",
              "                                                     [key], {});\n",
              "          if (!dataTable) return;\n",
              "\n",
              "          const docLinkHtml = 'Like what you see? Visit the ' +\n",
              "            '<a target=\"_blank\" href=https://colab.research.google.com/notebooks/data_table.ipynb>data table notebook</a>'\n",
              "            + ' to learn more about interactive tables.';\n",
              "          element.innerHTML = '';\n",
              "          dataTable['output_type'] = 'display_data';\n",
              "          await google.colab.output.renderOutput(dataTable, element);\n",
              "          const docLink = document.createElement('div');\n",
              "          docLink.innerHTML = docLinkHtml;\n",
              "          element.appendChild(docLink);\n",
              "        }\n",
              "      </script>\n",
              "    </div>\n",
              "  </div>\n",
              "  "
            ]
          },
          "metadata": {},
          "execution_count": 28
        }
      ]
    },
    {
      "cell_type": "code",
      "source": [
        "df_vehicles.zip.value_counts()"
      ],
      "metadata": {
        "colab": {
          "base_uri": "https://localhost:8080/"
        },
        "id": "xS_nVXI1z52q",
        "outputId": "49759c21-cda2-4b00-d993-e171cec6b8f5"
      },
      "execution_count": null,
      "outputs": [
        {
          "output_type": "execute_result",
          "data": {
            "text/plain": [
              "blue      24149\n",
              "white     24144\n",
              "black     24096\n",
              "other     24059\n",
              "silver    24004\n",
              "gray      23873\n",
              "red       23840\n",
              "Name: color, dtype: int64"
            ]
          },
          "metadata": {},
          "execution_count": 29
        }
      ]
    },
    {
      "cell_type": "code",
      "source": [
        "df_vehicles_cont = pd.get_dummies(df_vehicles, columns=['ownership_type'], drop_first=False)"
      ],
      "metadata": {
        "id": "UHLTQSLwzvLo"
      },
      "execution_count": null,
      "outputs": []
    },
    {
      "cell_type": "code",
      "source": [
        "df_vehicles_cont.head()"
      ],
      "metadata": {
        "colab": {
          "base_uri": "https://localhost:8080/",
          "height": 206
        },
        "outputId": "7335ceda-2d80-4d13-ba44-b6c47f8ce9b7",
        "id": "1P6hdoUDzvLo"
      },
      "execution_count": null,
      "outputs": [
        {
          "output_type": "execute_result",
          "data": {
            "text/plain": [
              "   Unnamed: 0     policy_id  car_no  color  age               make_model  \\\n",
              "0           6  policy_74571       1  other  4.0            BMW : R1200CL   \n",
              "1           7  policy_74571       2   blue  3.0               ACURA : TL   \n",
              "2          15   policy_1998       1   gray  7.0              BMW : 750LI   \n",
              "3          29  policy_28085       1   gray  4.0  MERCEDES-BENZ : G55 AMG   \n",
              "4          34  policy_64282       1  black  4.0            BMW : 550I GT   \n",
              "\n",
              "   ownership_type_leased  ownership_type_loaned  ownership_type_owned  \n",
              "0                      1                      0                     0  \n",
              "1                      0                      0                     1  \n",
              "2                      0                      0                     1  \n",
              "3                      0                      0                     1  \n",
              "4                      0                      0                     1  "
            ],
            "text/html": [
              "\n",
              "  <div id=\"df-deea96e8-232a-4f8e-844b-05d48fa1ce1d\">\n",
              "    <div class=\"colab-df-container\">\n",
              "      <div>\n",
              "<style scoped>\n",
              "    .dataframe tbody tr th:only-of-type {\n",
              "        vertical-align: middle;\n",
              "    }\n",
              "\n",
              "    .dataframe tbody tr th {\n",
              "        vertical-align: top;\n",
              "    }\n",
              "\n",
              "    .dataframe thead th {\n",
              "        text-align: right;\n",
              "    }\n",
              "</style>\n",
              "<table border=\"1\" class=\"dataframe\">\n",
              "  <thead>\n",
              "    <tr style=\"text-align: right;\">\n",
              "      <th></th>\n",
              "      <th>Unnamed: 0</th>\n",
              "      <th>policy_id</th>\n",
              "      <th>car_no</th>\n",
              "      <th>color</th>\n",
              "      <th>age</th>\n",
              "      <th>make_model</th>\n",
              "      <th>ownership_type_leased</th>\n",
              "      <th>ownership_type_loaned</th>\n",
              "      <th>ownership_type_owned</th>\n",
              "    </tr>\n",
              "  </thead>\n",
              "  <tbody>\n",
              "    <tr>\n",
              "      <th>0</th>\n",
              "      <td>6</td>\n",
              "      <td>policy_74571</td>\n",
              "      <td>1</td>\n",
              "      <td>other</td>\n",
              "      <td>4.0</td>\n",
              "      <td>BMW : R1200CL</td>\n",
              "      <td>1</td>\n",
              "      <td>0</td>\n",
              "      <td>0</td>\n",
              "    </tr>\n",
              "    <tr>\n",
              "      <th>1</th>\n",
              "      <td>7</td>\n",
              "      <td>policy_74571</td>\n",
              "      <td>2</td>\n",
              "      <td>blue</td>\n",
              "      <td>3.0</td>\n",
              "      <td>ACURA : TL</td>\n",
              "      <td>0</td>\n",
              "      <td>0</td>\n",
              "      <td>1</td>\n",
              "    </tr>\n",
              "    <tr>\n",
              "      <th>2</th>\n",
              "      <td>15</td>\n",
              "      <td>policy_1998</td>\n",
              "      <td>1</td>\n",
              "      <td>gray</td>\n",
              "      <td>7.0</td>\n",
              "      <td>BMW : 750LI</td>\n",
              "      <td>0</td>\n",
              "      <td>0</td>\n",
              "      <td>1</td>\n",
              "    </tr>\n",
              "    <tr>\n",
              "      <th>3</th>\n",
              "      <td>29</td>\n",
              "      <td>policy_28085</td>\n",
              "      <td>1</td>\n",
              "      <td>gray</td>\n",
              "      <td>4.0</td>\n",
              "      <td>MERCEDES-BENZ : G55 AMG</td>\n",
              "      <td>0</td>\n",
              "      <td>0</td>\n",
              "      <td>1</td>\n",
              "    </tr>\n",
              "    <tr>\n",
              "      <th>4</th>\n",
              "      <td>34</td>\n",
              "      <td>policy_64282</td>\n",
              "      <td>1</td>\n",
              "      <td>black</td>\n",
              "      <td>4.0</td>\n",
              "      <td>BMW : 550I GT</td>\n",
              "      <td>0</td>\n",
              "      <td>0</td>\n",
              "      <td>1</td>\n",
              "    </tr>\n",
              "  </tbody>\n",
              "</table>\n",
              "</div>\n",
              "      <button class=\"colab-df-convert\" onclick=\"convertToInteractive('df-deea96e8-232a-4f8e-844b-05d48fa1ce1d')\"\n",
              "              title=\"Convert this dataframe to an interactive table.\"\n",
              "              style=\"display:none;\">\n",
              "        \n",
              "  <svg xmlns=\"http://www.w3.org/2000/svg\" height=\"24px\"viewBox=\"0 0 24 24\"\n",
              "       width=\"24px\">\n",
              "    <path d=\"M0 0h24v24H0V0z\" fill=\"none\"/>\n",
              "    <path d=\"M18.56 5.44l.94 2.06.94-2.06 2.06-.94-2.06-.94-.94-2.06-.94 2.06-2.06.94zm-11 1L8.5 8.5l.94-2.06 2.06-.94-2.06-.94L8.5 2.5l-.94 2.06-2.06.94zm10 10l.94 2.06.94-2.06 2.06-.94-2.06-.94-.94-2.06-.94 2.06-2.06.94z\"/><path d=\"M17.41 7.96l-1.37-1.37c-.4-.4-.92-.59-1.43-.59-.52 0-1.04.2-1.43.59L10.3 9.45l-7.72 7.72c-.78.78-.78 2.05 0 2.83L4 21.41c.39.39.9.59 1.41.59.51 0 1.02-.2 1.41-.59l7.78-7.78 2.81-2.81c.8-.78.8-2.07 0-2.86zM5.41 20L4 18.59l7.72-7.72 1.47 1.35L5.41 20z\"/>\n",
              "  </svg>\n",
              "      </button>\n",
              "      \n",
              "  <style>\n",
              "    .colab-df-container {\n",
              "      display:flex;\n",
              "      flex-wrap:wrap;\n",
              "      gap: 12px;\n",
              "    }\n",
              "\n",
              "    .colab-df-convert {\n",
              "      background-color: #E8F0FE;\n",
              "      border: none;\n",
              "      border-radius: 50%;\n",
              "      cursor: pointer;\n",
              "      display: none;\n",
              "      fill: #1967D2;\n",
              "      height: 32px;\n",
              "      padding: 0 0 0 0;\n",
              "      width: 32px;\n",
              "    }\n",
              "\n",
              "    .colab-df-convert:hover {\n",
              "      background-color: #E2EBFA;\n",
              "      box-shadow: 0px 1px 2px rgba(60, 64, 67, 0.3), 0px 1px 3px 1px rgba(60, 64, 67, 0.15);\n",
              "      fill: #174EA6;\n",
              "    }\n",
              "\n",
              "    [theme=dark] .colab-df-convert {\n",
              "      background-color: #3B4455;\n",
              "      fill: #D2E3FC;\n",
              "    }\n",
              "\n",
              "    [theme=dark] .colab-df-convert:hover {\n",
              "      background-color: #434B5C;\n",
              "      box-shadow: 0px 1px 3px 1px rgba(0, 0, 0, 0.15);\n",
              "      filter: drop-shadow(0px 1px 2px rgba(0, 0, 0, 0.3));\n",
              "      fill: #FFFFFF;\n",
              "    }\n",
              "  </style>\n",
              "\n",
              "      <script>\n",
              "        const buttonEl =\n",
              "          document.querySelector('#df-deea96e8-232a-4f8e-844b-05d48fa1ce1d button.colab-df-convert');\n",
              "        buttonEl.style.display =\n",
              "          google.colab.kernel.accessAllowed ? 'block' : 'none';\n",
              "\n",
              "        async function convertToInteractive(key) {\n",
              "          const element = document.querySelector('#df-deea96e8-232a-4f8e-844b-05d48fa1ce1d');\n",
              "          const dataTable =\n",
              "            await google.colab.kernel.invokeFunction('convertToInteractive',\n",
              "                                                     [key], {});\n",
              "          if (!dataTable) return;\n",
              "\n",
              "          const docLinkHtml = 'Like what you see? Visit the ' +\n",
              "            '<a target=\"_blank\" href=https://colab.research.google.com/notebooks/data_table.ipynb>data table notebook</a>'\n",
              "            + ' to learn more about interactive tables.';\n",
              "          element.innerHTML = '';\n",
              "          dataTable['output_type'] = 'display_data';\n",
              "          await google.colab.output.renderOutput(dataTable, element);\n",
              "          const docLink = document.createElement('div');\n",
              "          docLink.innerHTML = docLinkHtml;\n",
              "          element.appendChild(docLink);\n",
              "        }\n",
              "      </script>\n",
              "    </div>\n",
              "  </div>\n",
              "  "
            ]
          },
          "metadata": {},
          "execution_count": 31
        }
      ]
    },
    {
      "cell_type": "markdown",
      "source": [
        "Transformation of each column\n",
        "1. Number of cars\n",
        "2. Ownership\n",
        "3. Average of age\n"
      ],
      "metadata": {
        "id": "8R26jwSBzvLq"
      }
    },
    {
      "cell_type": "code",
      "source": [
        "df_vehicles_cont['avg_cars_age']=df_vehicles_cont.groupby('policy_id')['age'].transform('mean')\n",
        "df_vehicles_cont['num_of_cars']=df_vehicles_cont.groupby('policy_id')['car_no'].transform('count')\n",
        "df_vehicles_cont['num_of_leased_cars']=df_vehicles_cont.groupby('policy_id')['ownership_type_leased'].transform('sum')\n",
        "df_vehicles_cont['num_of_loaned_cars']=df_vehicles_cont.groupby('policy_id')['ownership_type_loaned'].transform('sum')\n",
        "df_vehicles_cont['num_of_owned_cars']=df_vehicles_cont.groupby('policy_id')['ownership_type_owned'].transform('sum')\n",
        "df_vehicles_cont.head(6)"
      ],
      "metadata": {
        "colab": {
          "base_uri": "https://localhost:8080/",
          "height": 423
        },
        "outputId": "6e190ab8-8808-4004-f1b7-23a58e7acf62",
        "id": "jSqTjorqzvLr"
      },
      "execution_count": null,
      "outputs": [
        {
          "output_type": "execute_result",
          "data": {
            "text/plain": [
              "   Unnamed: 0     policy_id  car_no  color  age                make_model  \\\n",
              "0           6  policy_74571       1  other  4.0             BMW : R1200CL   \n",
              "1           7  policy_74571       2   blue  3.0                ACURA : TL   \n",
              "2          15   policy_1998       1   gray  7.0               BMW : 750LI   \n",
              "3          29  policy_28085       1   gray  4.0   MERCEDES-BENZ : G55 AMG   \n",
              "4          34  policy_64282       1  black  4.0             BMW : 550I GT   \n",
              "5          35  policy_64282       2  black  6.0  MERCEDES-BENZ : CL65 AMG   \n",
              "\n",
              "   ownership_type_leased  ownership_type_loaned  ownership_type_owned  \\\n",
              "0                      1                      0                     0   \n",
              "1                      0                      0                     1   \n",
              "2                      0                      0                     1   \n",
              "3                      0                      0                     1   \n",
              "4                      0                      0                     1   \n",
              "5                      0                      1                     0   \n",
              "\n",
              "   avg_cars_age  num_of_cars  num_of_leased_cars  num_of_loaned_cars  \\\n",
              "0           3.5            2                   1                   0   \n",
              "1           3.5            2                   1                   0   \n",
              "2           7.0            1                   0                   0   \n",
              "3           4.0            1                   0                   0   \n",
              "4           4.4            5                   1                   2   \n",
              "5           4.4            5                   1                   2   \n",
              "\n",
              "   num_of_owned_cars  \n",
              "0                  1  \n",
              "1                  1  \n",
              "2                  1  \n",
              "3                  1  \n",
              "4                  2  \n",
              "5                  2  "
            ],
            "text/html": [
              "\n",
              "  <div id=\"df-aaa8d405-0331-4938-86c6-52c928cb8c91\">\n",
              "    <div class=\"colab-df-container\">\n",
              "      <div>\n",
              "<style scoped>\n",
              "    .dataframe tbody tr th:only-of-type {\n",
              "        vertical-align: middle;\n",
              "    }\n",
              "\n",
              "    .dataframe tbody tr th {\n",
              "        vertical-align: top;\n",
              "    }\n",
              "\n",
              "    .dataframe thead th {\n",
              "        text-align: right;\n",
              "    }\n",
              "</style>\n",
              "<table border=\"1\" class=\"dataframe\">\n",
              "  <thead>\n",
              "    <tr style=\"text-align: right;\">\n",
              "      <th></th>\n",
              "      <th>Unnamed: 0</th>\n",
              "      <th>policy_id</th>\n",
              "      <th>car_no</th>\n",
              "      <th>color</th>\n",
              "      <th>age</th>\n",
              "      <th>make_model</th>\n",
              "      <th>ownership_type_leased</th>\n",
              "      <th>ownership_type_loaned</th>\n",
              "      <th>ownership_type_owned</th>\n",
              "      <th>avg_cars_age</th>\n",
              "      <th>num_of_cars</th>\n",
              "      <th>num_of_leased_cars</th>\n",
              "      <th>num_of_loaned_cars</th>\n",
              "      <th>num_of_owned_cars</th>\n",
              "    </tr>\n",
              "  </thead>\n",
              "  <tbody>\n",
              "    <tr>\n",
              "      <th>0</th>\n",
              "      <td>6</td>\n",
              "      <td>policy_74571</td>\n",
              "      <td>1</td>\n",
              "      <td>other</td>\n",
              "      <td>4.0</td>\n",
              "      <td>BMW : R1200CL</td>\n",
              "      <td>1</td>\n",
              "      <td>0</td>\n",
              "      <td>0</td>\n",
              "      <td>3.5</td>\n",
              "      <td>2</td>\n",
              "      <td>1</td>\n",
              "      <td>0</td>\n",
              "      <td>1</td>\n",
              "    </tr>\n",
              "    <tr>\n",
              "      <th>1</th>\n",
              "      <td>7</td>\n",
              "      <td>policy_74571</td>\n",
              "      <td>2</td>\n",
              "      <td>blue</td>\n",
              "      <td>3.0</td>\n",
              "      <td>ACURA : TL</td>\n",
              "      <td>0</td>\n",
              "      <td>0</td>\n",
              "      <td>1</td>\n",
              "      <td>3.5</td>\n",
              "      <td>2</td>\n",
              "      <td>1</td>\n",
              "      <td>0</td>\n",
              "      <td>1</td>\n",
              "    </tr>\n",
              "    <tr>\n",
              "      <th>2</th>\n",
              "      <td>15</td>\n",
              "      <td>policy_1998</td>\n",
              "      <td>1</td>\n",
              "      <td>gray</td>\n",
              "      <td>7.0</td>\n",
              "      <td>BMW : 750LI</td>\n",
              "      <td>0</td>\n",
              "      <td>0</td>\n",
              "      <td>1</td>\n",
              "      <td>7.0</td>\n",
              "      <td>1</td>\n",
              "      <td>0</td>\n",
              "      <td>0</td>\n",
              "      <td>1</td>\n",
              "    </tr>\n",
              "    <tr>\n",
              "      <th>3</th>\n",
              "      <td>29</td>\n",
              "      <td>policy_28085</td>\n",
              "      <td>1</td>\n",
              "      <td>gray</td>\n",
              "      <td>4.0</td>\n",
              "      <td>MERCEDES-BENZ : G55 AMG</td>\n",
              "      <td>0</td>\n",
              "      <td>0</td>\n",
              "      <td>1</td>\n",
              "      <td>4.0</td>\n",
              "      <td>1</td>\n",
              "      <td>0</td>\n",
              "      <td>0</td>\n",
              "      <td>1</td>\n",
              "    </tr>\n",
              "    <tr>\n",
              "      <th>4</th>\n",
              "      <td>34</td>\n",
              "      <td>policy_64282</td>\n",
              "      <td>1</td>\n",
              "      <td>black</td>\n",
              "      <td>4.0</td>\n",
              "      <td>BMW : 550I GT</td>\n",
              "      <td>0</td>\n",
              "      <td>0</td>\n",
              "      <td>1</td>\n",
              "      <td>4.4</td>\n",
              "      <td>5</td>\n",
              "      <td>1</td>\n",
              "      <td>2</td>\n",
              "      <td>2</td>\n",
              "    </tr>\n",
              "    <tr>\n",
              "      <th>5</th>\n",
              "      <td>35</td>\n",
              "      <td>policy_64282</td>\n",
              "      <td>2</td>\n",
              "      <td>black</td>\n",
              "      <td>6.0</td>\n",
              "      <td>MERCEDES-BENZ : CL65 AMG</td>\n",
              "      <td>0</td>\n",
              "      <td>1</td>\n",
              "      <td>0</td>\n",
              "      <td>4.4</td>\n",
              "      <td>5</td>\n",
              "      <td>1</td>\n",
              "      <td>2</td>\n",
              "      <td>2</td>\n",
              "    </tr>\n",
              "  </tbody>\n",
              "</table>\n",
              "</div>\n",
              "      <button class=\"colab-df-convert\" onclick=\"convertToInteractive('df-aaa8d405-0331-4938-86c6-52c928cb8c91')\"\n",
              "              title=\"Convert this dataframe to an interactive table.\"\n",
              "              style=\"display:none;\">\n",
              "        \n",
              "  <svg xmlns=\"http://www.w3.org/2000/svg\" height=\"24px\"viewBox=\"0 0 24 24\"\n",
              "       width=\"24px\">\n",
              "    <path d=\"M0 0h24v24H0V0z\" fill=\"none\"/>\n",
              "    <path d=\"M18.56 5.44l.94 2.06.94-2.06 2.06-.94-2.06-.94-.94-2.06-.94 2.06-2.06.94zm-11 1L8.5 8.5l.94-2.06 2.06-.94-2.06-.94L8.5 2.5l-.94 2.06-2.06.94zm10 10l.94 2.06.94-2.06 2.06-.94-2.06-.94-.94-2.06-.94 2.06-2.06.94z\"/><path d=\"M17.41 7.96l-1.37-1.37c-.4-.4-.92-.59-1.43-.59-.52 0-1.04.2-1.43.59L10.3 9.45l-7.72 7.72c-.78.78-.78 2.05 0 2.83L4 21.41c.39.39.9.59 1.41.59.51 0 1.02-.2 1.41-.59l7.78-7.78 2.81-2.81c.8-.78.8-2.07 0-2.86zM5.41 20L4 18.59l7.72-7.72 1.47 1.35L5.41 20z\"/>\n",
              "  </svg>\n",
              "      </button>\n",
              "      \n",
              "  <style>\n",
              "    .colab-df-container {\n",
              "      display:flex;\n",
              "      flex-wrap:wrap;\n",
              "      gap: 12px;\n",
              "    }\n",
              "\n",
              "    .colab-df-convert {\n",
              "      background-color: #E8F0FE;\n",
              "      border: none;\n",
              "      border-radius: 50%;\n",
              "      cursor: pointer;\n",
              "      display: none;\n",
              "      fill: #1967D2;\n",
              "      height: 32px;\n",
              "      padding: 0 0 0 0;\n",
              "      width: 32px;\n",
              "    }\n",
              "\n",
              "    .colab-df-convert:hover {\n",
              "      background-color: #E2EBFA;\n",
              "      box-shadow: 0px 1px 2px rgba(60, 64, 67, 0.3), 0px 1px 3px 1px rgba(60, 64, 67, 0.15);\n",
              "      fill: #174EA6;\n",
              "    }\n",
              "\n",
              "    [theme=dark] .colab-df-convert {\n",
              "      background-color: #3B4455;\n",
              "      fill: #D2E3FC;\n",
              "    }\n",
              "\n",
              "    [theme=dark] .colab-df-convert:hover {\n",
              "      background-color: #434B5C;\n",
              "      box-shadow: 0px 1px 3px 1px rgba(0, 0, 0, 0.15);\n",
              "      filter: drop-shadow(0px 1px 2px rgba(0, 0, 0, 0.3));\n",
              "      fill: #FFFFFF;\n",
              "    }\n",
              "  </style>\n",
              "\n",
              "      <script>\n",
              "        const buttonEl =\n",
              "          document.querySelector('#df-aaa8d405-0331-4938-86c6-52c928cb8c91 button.colab-df-convert');\n",
              "        buttonEl.style.display =\n",
              "          google.colab.kernel.accessAllowed ? 'block' : 'none';\n",
              "\n",
              "        async function convertToInteractive(key) {\n",
              "          const element = document.querySelector('#df-aaa8d405-0331-4938-86c6-52c928cb8c91');\n",
              "          const dataTable =\n",
              "            await google.colab.kernel.invokeFunction('convertToInteractive',\n",
              "                                                     [key], {});\n",
              "          if (!dataTable) return;\n",
              "\n",
              "          const docLinkHtml = 'Like what you see? Visit the ' +\n",
              "            '<a target=\"_blank\" href=https://colab.research.google.com/notebooks/data_table.ipynb>data table notebook</a>'\n",
              "            + ' to learn more about interactive tables.';\n",
              "          element.innerHTML = '';\n",
              "          dataTable['output_type'] = 'display_data';\n",
              "          await google.colab.output.renderOutput(dataTable, element);\n",
              "          const docLink = document.createElement('div');\n",
              "          docLink.innerHTML = docLinkHtml;\n",
              "          element.appendChild(docLink);\n",
              "        }\n",
              "      </script>\n",
              "    </div>\n",
              "  </div>\n",
              "  "
            ]
          },
          "metadata": {},
          "execution_count": 32
        }
      ]
    },
    {
      "cell_type": "code",
      "source": [
        "df_vehicles_policy_level=df_vehicles_cont[['policy_id','avg_cars_age','num_of_cars','num_of_leased_cars','num_of_loaned_cars','num_of_owned_cars']].drop_duplicates()"
      ],
      "metadata": {
        "id": "_Tlpj_s8zvLs"
      },
      "execution_count": null,
      "outputs": []
    },
    {
      "cell_type": "code",
      "source": [
        "df_vehicles_policy_level.count()"
      ],
      "metadata": {
        "colab": {
          "base_uri": "https://localhost:8080/"
        },
        "outputId": "c3bdafd0-3117-427b-8c1e-d35d30e219c6",
        "id": "uEWGNKu9zvLt"
      },
      "execution_count": null,
      "outputs": [
        {
          "output_type": "execute_result",
          "data": {
            "text/plain": [
              "policy_id             49162\n",
              "avg_cars_age          49149\n",
              "num_of_cars           49162\n",
              "num_of_leased_cars    49162\n",
              "num_of_loaned_cars    49162\n",
              "num_of_owned_cars     49162\n",
              "dtype: int64"
            ]
          },
          "metadata": {},
          "execution_count": 37
        }
      ]
    },
    {
      "cell_type": "code",
      "source": [
        "df_vehicles_policy_level.head()"
      ],
      "metadata": {
        "colab": {
          "base_uri": "https://localhost:8080/",
          "height": 206
        },
        "id": "9lyHqzsw1ANP",
        "outputId": "d2fc2a29-8183-47f5-d896-3cf93ca71447"
      },
      "execution_count": null,
      "outputs": [
        {
          "output_type": "execute_result",
          "data": {
            "text/plain": [
              "      policy_id  avg_cars_age  num_of_cars  num_of_leased_cars  \\\n",
              "0  policy_74571           3.5            2                   1   \n",
              "2   policy_1998           7.0            1                   0   \n",
              "3  policy_28085           4.0            1                   0   \n",
              "4  policy_64282           4.4            5                   1   \n",
              "9  policy_72540           4.5            4                   0   \n",
              "\n",
              "   num_of_loaned_cars  num_of_owned_cars  \n",
              "0                   0                  1  \n",
              "2                   0                  1  \n",
              "3                   0                  1  \n",
              "4                   2                  2  \n",
              "9                   2                  2  "
            ],
            "text/html": [
              "\n",
              "  <div id=\"df-8b545a30-2f88-4791-82a1-a9200a8ad415\">\n",
              "    <div class=\"colab-df-container\">\n",
              "      <div>\n",
              "<style scoped>\n",
              "    .dataframe tbody tr th:only-of-type {\n",
              "        vertical-align: middle;\n",
              "    }\n",
              "\n",
              "    .dataframe tbody tr th {\n",
              "        vertical-align: top;\n",
              "    }\n",
              "\n",
              "    .dataframe thead th {\n",
              "        text-align: right;\n",
              "    }\n",
              "</style>\n",
              "<table border=\"1\" class=\"dataframe\">\n",
              "  <thead>\n",
              "    <tr style=\"text-align: right;\">\n",
              "      <th></th>\n",
              "      <th>policy_id</th>\n",
              "      <th>avg_cars_age</th>\n",
              "      <th>num_of_cars</th>\n",
              "      <th>num_of_leased_cars</th>\n",
              "      <th>num_of_loaned_cars</th>\n",
              "      <th>num_of_owned_cars</th>\n",
              "    </tr>\n",
              "  </thead>\n",
              "  <tbody>\n",
              "    <tr>\n",
              "      <th>0</th>\n",
              "      <td>policy_74571</td>\n",
              "      <td>3.5</td>\n",
              "      <td>2</td>\n",
              "      <td>1</td>\n",
              "      <td>0</td>\n",
              "      <td>1</td>\n",
              "    </tr>\n",
              "    <tr>\n",
              "      <th>2</th>\n",
              "      <td>policy_1998</td>\n",
              "      <td>7.0</td>\n",
              "      <td>1</td>\n",
              "      <td>0</td>\n",
              "      <td>0</td>\n",
              "      <td>1</td>\n",
              "    </tr>\n",
              "    <tr>\n",
              "      <th>3</th>\n",
              "      <td>policy_28085</td>\n",
              "      <td>4.0</td>\n",
              "      <td>1</td>\n",
              "      <td>0</td>\n",
              "      <td>0</td>\n",
              "      <td>1</td>\n",
              "    </tr>\n",
              "    <tr>\n",
              "      <th>4</th>\n",
              "      <td>policy_64282</td>\n",
              "      <td>4.4</td>\n",
              "      <td>5</td>\n",
              "      <td>1</td>\n",
              "      <td>2</td>\n",
              "      <td>2</td>\n",
              "    </tr>\n",
              "    <tr>\n",
              "      <th>9</th>\n",
              "      <td>policy_72540</td>\n",
              "      <td>4.5</td>\n",
              "      <td>4</td>\n",
              "      <td>0</td>\n",
              "      <td>2</td>\n",
              "      <td>2</td>\n",
              "    </tr>\n",
              "  </tbody>\n",
              "</table>\n",
              "</div>\n",
              "      <button class=\"colab-df-convert\" onclick=\"convertToInteractive('df-8b545a30-2f88-4791-82a1-a9200a8ad415')\"\n",
              "              title=\"Convert this dataframe to an interactive table.\"\n",
              "              style=\"display:none;\">\n",
              "        \n",
              "  <svg xmlns=\"http://www.w3.org/2000/svg\" height=\"24px\"viewBox=\"0 0 24 24\"\n",
              "       width=\"24px\">\n",
              "    <path d=\"M0 0h24v24H0V0z\" fill=\"none\"/>\n",
              "    <path d=\"M18.56 5.44l.94 2.06.94-2.06 2.06-.94-2.06-.94-.94-2.06-.94 2.06-2.06.94zm-11 1L8.5 8.5l.94-2.06 2.06-.94-2.06-.94L8.5 2.5l-.94 2.06-2.06.94zm10 10l.94 2.06.94-2.06 2.06-.94-2.06-.94-.94-2.06-.94 2.06-2.06.94z\"/><path d=\"M17.41 7.96l-1.37-1.37c-.4-.4-.92-.59-1.43-.59-.52 0-1.04.2-1.43.59L10.3 9.45l-7.72 7.72c-.78.78-.78 2.05 0 2.83L4 21.41c.39.39.9.59 1.41.59.51 0 1.02-.2 1.41-.59l7.78-7.78 2.81-2.81c.8-.78.8-2.07 0-2.86zM5.41 20L4 18.59l7.72-7.72 1.47 1.35L5.41 20z\"/>\n",
              "  </svg>\n",
              "      </button>\n",
              "      \n",
              "  <style>\n",
              "    .colab-df-container {\n",
              "      display:flex;\n",
              "      flex-wrap:wrap;\n",
              "      gap: 12px;\n",
              "    }\n",
              "\n",
              "    .colab-df-convert {\n",
              "      background-color: #E8F0FE;\n",
              "      border: none;\n",
              "      border-radius: 50%;\n",
              "      cursor: pointer;\n",
              "      display: none;\n",
              "      fill: #1967D2;\n",
              "      height: 32px;\n",
              "      padding: 0 0 0 0;\n",
              "      width: 32px;\n",
              "    }\n",
              "\n",
              "    .colab-df-convert:hover {\n",
              "      background-color: #E2EBFA;\n",
              "      box-shadow: 0px 1px 2px rgba(60, 64, 67, 0.3), 0px 1px 3px 1px rgba(60, 64, 67, 0.15);\n",
              "      fill: #174EA6;\n",
              "    }\n",
              "\n",
              "    [theme=dark] .colab-df-convert {\n",
              "      background-color: #3B4455;\n",
              "      fill: #D2E3FC;\n",
              "    }\n",
              "\n",
              "    [theme=dark] .colab-df-convert:hover {\n",
              "      background-color: #434B5C;\n",
              "      box-shadow: 0px 1px 3px 1px rgba(0, 0, 0, 0.15);\n",
              "      filter: drop-shadow(0px 1px 2px rgba(0, 0, 0, 0.3));\n",
              "      fill: #FFFFFF;\n",
              "    }\n",
              "  </style>\n",
              "\n",
              "      <script>\n",
              "        const buttonEl =\n",
              "          document.querySelector('#df-8b545a30-2f88-4791-82a1-a9200a8ad415 button.colab-df-convert');\n",
              "        buttonEl.style.display =\n",
              "          google.colab.kernel.accessAllowed ? 'block' : 'none';\n",
              "\n",
              "        async function convertToInteractive(key) {\n",
              "          const element = document.querySelector('#df-8b545a30-2f88-4791-82a1-a9200a8ad415');\n",
              "          const dataTable =\n",
              "            await google.colab.kernel.invokeFunction('convertToInteractive',\n",
              "                                                     [key], {});\n",
              "          if (!dataTable) return;\n",
              "\n",
              "          const docLinkHtml = 'Like what you see? Visit the ' +\n",
              "            '<a target=\"_blank\" href=https://colab.research.google.com/notebooks/data_table.ipynb>data table notebook</a>'\n",
              "            + ' to learn more about interactive tables.';\n",
              "          element.innerHTML = '';\n",
              "          dataTable['output_type'] = 'display_data';\n",
              "          await google.colab.output.renderOutput(dataTable, element);\n",
              "          const docLink = document.createElement('div');\n",
              "          docLink.innerHTML = docLinkHtml;\n",
              "          element.appendChild(docLink);\n",
              "        }\n",
              "      </script>\n",
              "    </div>\n",
              "  </div>\n",
              "  "
            ]
          },
          "metadata": {},
          "execution_count": 38
        }
      ]
    },
    {
      "cell_type": "markdown",
      "source": [
        "### Merging three datasets"
      ],
      "metadata": {
        "id": "8fO1E3I62NRI"
      }
    },
    {
      "cell_type": "code",
      "source": [
        "print(len(df_policies))\n",
        "print(len(df_drivers_policy_level))\n",
        "print(len(df_vehicles_policy_level))"
      ],
      "metadata": {
        "colab": {
          "base_uri": "https://localhost:8080/"
        },
        "id": "HD37f59t3dGM",
        "outputId": "ad2500df-81a4-4343-cb05-6cb2c3b24427"
      },
      "execution_count": null,
      "outputs": [
        {
          "output_type": "stream",
          "name": "stdout",
          "text": [
            "49162\n",
            "49162\n",
            "49162\n"
          ]
        }
      ]
    },
    {
      "cell_type": "code",
      "source": [
        "df_t1 = pd.merge(df_policies, df_drivers_policy_level, on=\"policy_id\")\n",
        "df_t2=pd.merge(df_t1, df_vehicles_policy_level, on=\"policy_id\")\n",
        "df_t2.head()"
      ],
      "metadata": {
        "colab": {
          "base_uri": "https://localhost:8080/",
          "height": 374
        },
        "id": "QC-GlGHg2w6M",
        "outputId": "5d6d7e32-992f-4882-e330-b7707f87fb17"
      },
      "execution_count": null,
      "outputs": [
        {
          "output_type": "execute_result",
          "data": {
            "text/plain": [
              "   Unnamed: 0    Quote_dt discount Home_policy_ind      zip state_id  \\\n",
              "0           1  2015-01-28      Yes               Y  10465.0       NY   \n",
              "1           2  2015-02-12       No               N  12801.0       NY   \n",
              "2           3  2018-09-03       No               N  11548.0       NY   \n",
              "3           4  2015-07-28       No               N  33141.0       FL   \n",
              "4           5  2016-05-18       No               N  14622.0       NY   \n",
              "\n",
              "  county_name    Agent_cd quoted_amt Prior_carrier_grp  credit_score  \\\n",
              "0       Bronx  15973623.0     $5,153         Carrier_1         613.0   \n",
              "1      Warren  46978147.0     $9,870         Carrier_4         576.0   \n",
              "2      Nassau  32759856.0     $3,090         Carrier_4         631.0   \n",
              "3  Miami-Dade  47310293.0     $2,860         Carrier_7         573.0   \n",
              "4      Monroe  15675431.0    $14,917         Carrier_3         602.0   \n",
              "\n",
              "  Cov_package_type  CAT_zone     policy_id  number_drivers  num_loaned_veh  \\\n",
              "0             High       2.0  policy_87209               2               1   \n",
              "1              Low       4.0  policy_89288               1               1   \n",
              "2           Medium       2.0  policy_91413               2               1   \n",
              "3           Medium       3.0  policy_23460               1               2   \n",
              "4           Medium       4.0  policy_71845               2               0   \n",
              "\n",
              "   num_owned_veh  num_leased_veh  total_number_veh  convert_ind  split  \\\n",
              "0              2               0                 3          0.0  Train   \n",
              "1              1               2                 4          NaN   Test   \n",
              "2              2               1                 4          0.0  Train   \n",
              "3              3               0                 5          NaN   Test   \n",
              "4              1               2                 3          0.0  Train   \n",
              "\n",
              "  primary_parking  avg_age  avg_safty_rating  num_of_higher_educators  \\\n",
              "0   home/driveway     49.5              74.0                      1.0   \n",
              "1         unknown     56.0              62.0                      1.0   \n",
              "2         unknown     49.0              70.0                      1.0   \n",
              "3         unknown     30.0              90.0                      1.0   \n",
              "4         unknown     56.5              81.5                      2.0   \n",
              "\n",
              "   num_of_females  num_of_males  num_of_dependents  num_of_renters  \\\n",
              "0               1             1                  0               2   \n",
              "1               0             1                  0               1   \n",
              "2               1             1                  0               2   \n",
              "3               1             0                  0               1   \n",
              "4               1             1                  0               0   \n",
              "\n",
              "   num_of_owners  avg_cars_age  num_of_cars  num_of_leased_cars  \\\n",
              "0              0          5.25            4                   0   \n",
              "1              0          2.75            4                   1   \n",
              "2              0          7.00            4                   0   \n",
              "3              0          5.50            2                   0   \n",
              "4              2          4.50            4                   0   \n",
              "\n",
              "   num_of_loaned_cars  num_of_owned_cars  \n",
              "0                   2                  2  \n",
              "1                   1                  2  \n",
              "2                   2                  2  \n",
              "3                   1                  1  \n",
              "4                   1                  3  "
            ],
            "text/html": [
              "\n",
              "  <div id=\"df-d57900fc-72d5-4107-9d9e-e155a4182409\">\n",
              "    <div class=\"colab-df-container\">\n",
              "      <div>\n",
              "<style scoped>\n",
              "    .dataframe tbody tr th:only-of-type {\n",
              "        vertical-align: middle;\n",
              "    }\n",
              "\n",
              "    .dataframe tbody tr th {\n",
              "        vertical-align: top;\n",
              "    }\n",
              "\n",
              "    .dataframe thead th {\n",
              "        text-align: right;\n",
              "    }\n",
              "</style>\n",
              "<table border=\"1\" class=\"dataframe\">\n",
              "  <thead>\n",
              "    <tr style=\"text-align: right;\">\n",
              "      <th></th>\n",
              "      <th>Unnamed: 0</th>\n",
              "      <th>Quote_dt</th>\n",
              "      <th>discount</th>\n",
              "      <th>Home_policy_ind</th>\n",
              "      <th>zip</th>\n",
              "      <th>state_id</th>\n",
              "      <th>county_name</th>\n",
              "      <th>Agent_cd</th>\n",
              "      <th>quoted_amt</th>\n",
              "      <th>Prior_carrier_grp</th>\n",
              "      <th>credit_score</th>\n",
              "      <th>Cov_package_type</th>\n",
              "      <th>CAT_zone</th>\n",
              "      <th>policy_id</th>\n",
              "      <th>number_drivers</th>\n",
              "      <th>num_loaned_veh</th>\n",
              "      <th>num_owned_veh</th>\n",
              "      <th>num_leased_veh</th>\n",
              "      <th>total_number_veh</th>\n",
              "      <th>convert_ind</th>\n",
              "      <th>split</th>\n",
              "      <th>primary_parking</th>\n",
              "      <th>avg_age</th>\n",
              "      <th>avg_safty_rating</th>\n",
              "      <th>num_of_higher_educators</th>\n",
              "      <th>num_of_females</th>\n",
              "      <th>num_of_males</th>\n",
              "      <th>num_of_dependents</th>\n",
              "      <th>num_of_renters</th>\n",
              "      <th>num_of_owners</th>\n",
              "      <th>avg_cars_age</th>\n",
              "      <th>num_of_cars</th>\n",
              "      <th>num_of_leased_cars</th>\n",
              "      <th>num_of_loaned_cars</th>\n",
              "      <th>num_of_owned_cars</th>\n",
              "    </tr>\n",
              "  </thead>\n",
              "  <tbody>\n",
              "    <tr>\n",
              "      <th>0</th>\n",
              "      <td>1</td>\n",
              "      <td>2015-01-28</td>\n",
              "      <td>Yes</td>\n",
              "      <td>Y</td>\n",
              "      <td>10465.0</td>\n",
              "      <td>NY</td>\n",
              "      <td>Bronx</td>\n",
              "      <td>15973623.0</td>\n",
              "      <td>$5,153</td>\n",
              "      <td>Carrier_1</td>\n",
              "      <td>613.0</td>\n",
              "      <td>High</td>\n",
              "      <td>2.0</td>\n",
              "      <td>policy_87209</td>\n",
              "      <td>2</td>\n",
              "      <td>1</td>\n",
              "      <td>2</td>\n",
              "      <td>0</td>\n",
              "      <td>3</td>\n",
              "      <td>0.0</td>\n",
              "      <td>Train</td>\n",
              "      <td>home/driveway</td>\n",
              "      <td>49.5</td>\n",
              "      <td>74.0</td>\n",
              "      <td>1.0</td>\n",
              "      <td>1</td>\n",
              "      <td>1</td>\n",
              "      <td>0</td>\n",
              "      <td>2</td>\n",
              "      <td>0</td>\n",
              "      <td>5.25</td>\n",
              "      <td>4</td>\n",
              "      <td>0</td>\n",
              "      <td>2</td>\n",
              "      <td>2</td>\n",
              "    </tr>\n",
              "    <tr>\n",
              "      <th>1</th>\n",
              "      <td>2</td>\n",
              "      <td>2015-02-12</td>\n",
              "      <td>No</td>\n",
              "      <td>N</td>\n",
              "      <td>12801.0</td>\n",
              "      <td>NY</td>\n",
              "      <td>Warren</td>\n",
              "      <td>46978147.0</td>\n",
              "      <td>$9,870</td>\n",
              "      <td>Carrier_4</td>\n",
              "      <td>576.0</td>\n",
              "      <td>Low</td>\n",
              "      <td>4.0</td>\n",
              "      <td>policy_89288</td>\n",
              "      <td>1</td>\n",
              "      <td>1</td>\n",
              "      <td>1</td>\n",
              "      <td>2</td>\n",
              "      <td>4</td>\n",
              "      <td>NaN</td>\n",
              "      <td>Test</td>\n",
              "      <td>unknown</td>\n",
              "      <td>56.0</td>\n",
              "      <td>62.0</td>\n",
              "      <td>1.0</td>\n",
              "      <td>0</td>\n",
              "      <td>1</td>\n",
              "      <td>0</td>\n",
              "      <td>1</td>\n",
              "      <td>0</td>\n",
              "      <td>2.75</td>\n",
              "      <td>4</td>\n",
              "      <td>1</td>\n",
              "      <td>1</td>\n",
              "      <td>2</td>\n",
              "    </tr>\n",
              "    <tr>\n",
              "      <th>2</th>\n",
              "      <td>3</td>\n",
              "      <td>2018-09-03</td>\n",
              "      <td>No</td>\n",
              "      <td>N</td>\n",
              "      <td>11548.0</td>\n",
              "      <td>NY</td>\n",
              "      <td>Nassau</td>\n",
              "      <td>32759856.0</td>\n",
              "      <td>$3,090</td>\n",
              "      <td>Carrier_4</td>\n",
              "      <td>631.0</td>\n",
              "      <td>Medium</td>\n",
              "      <td>2.0</td>\n",
              "      <td>policy_91413</td>\n",
              "      <td>2</td>\n",
              "      <td>1</td>\n",
              "      <td>2</td>\n",
              "      <td>1</td>\n",
              "      <td>4</td>\n",
              "      <td>0.0</td>\n",
              "      <td>Train</td>\n",
              "      <td>unknown</td>\n",
              "      <td>49.0</td>\n",
              "      <td>70.0</td>\n",
              "      <td>1.0</td>\n",
              "      <td>1</td>\n",
              "      <td>1</td>\n",
              "      <td>0</td>\n",
              "      <td>2</td>\n",
              "      <td>0</td>\n",
              "      <td>7.00</td>\n",
              "      <td>4</td>\n",
              "      <td>0</td>\n",
              "      <td>2</td>\n",
              "      <td>2</td>\n",
              "    </tr>\n",
              "    <tr>\n",
              "      <th>3</th>\n",
              "      <td>4</td>\n",
              "      <td>2015-07-28</td>\n",
              "      <td>No</td>\n",
              "      <td>N</td>\n",
              "      <td>33141.0</td>\n",
              "      <td>FL</td>\n",
              "      <td>Miami-Dade</td>\n",
              "      <td>47310293.0</td>\n",
              "      <td>$2,860</td>\n",
              "      <td>Carrier_7</td>\n",
              "      <td>573.0</td>\n",
              "      <td>Medium</td>\n",
              "      <td>3.0</td>\n",
              "      <td>policy_23460</td>\n",
              "      <td>1</td>\n",
              "      <td>2</td>\n",
              "      <td>3</td>\n",
              "      <td>0</td>\n",
              "      <td>5</td>\n",
              "      <td>NaN</td>\n",
              "      <td>Test</td>\n",
              "      <td>unknown</td>\n",
              "      <td>30.0</td>\n",
              "      <td>90.0</td>\n",
              "      <td>1.0</td>\n",
              "      <td>1</td>\n",
              "      <td>0</td>\n",
              "      <td>0</td>\n",
              "      <td>1</td>\n",
              "      <td>0</td>\n",
              "      <td>5.50</td>\n",
              "      <td>2</td>\n",
              "      <td>0</td>\n",
              "      <td>1</td>\n",
              "      <td>1</td>\n",
              "    </tr>\n",
              "    <tr>\n",
              "      <th>4</th>\n",
              "      <td>5</td>\n",
              "      <td>2016-05-18</td>\n",
              "      <td>No</td>\n",
              "      <td>N</td>\n",
              "      <td>14622.0</td>\n",
              "      <td>NY</td>\n",
              "      <td>Monroe</td>\n",
              "      <td>15675431.0</td>\n",
              "      <td>$14,917</td>\n",
              "      <td>Carrier_3</td>\n",
              "      <td>602.0</td>\n",
              "      <td>Medium</td>\n",
              "      <td>4.0</td>\n",
              "      <td>policy_71845</td>\n",
              "      <td>2</td>\n",
              "      <td>0</td>\n",
              "      <td>1</td>\n",
              "      <td>2</td>\n",
              "      <td>3</td>\n",
              "      <td>0.0</td>\n",
              "      <td>Train</td>\n",
              "      <td>unknown</td>\n",
              "      <td>56.5</td>\n",
              "      <td>81.5</td>\n",
              "      <td>2.0</td>\n",
              "      <td>1</td>\n",
              "      <td>1</td>\n",
              "      <td>0</td>\n",
              "      <td>0</td>\n",
              "      <td>2</td>\n",
              "      <td>4.50</td>\n",
              "      <td>4</td>\n",
              "      <td>0</td>\n",
              "      <td>1</td>\n",
              "      <td>3</td>\n",
              "    </tr>\n",
              "  </tbody>\n",
              "</table>\n",
              "</div>\n",
              "      <button class=\"colab-df-convert\" onclick=\"convertToInteractive('df-d57900fc-72d5-4107-9d9e-e155a4182409')\"\n",
              "              title=\"Convert this dataframe to an interactive table.\"\n",
              "              style=\"display:none;\">\n",
              "        \n",
              "  <svg xmlns=\"http://www.w3.org/2000/svg\" height=\"24px\"viewBox=\"0 0 24 24\"\n",
              "       width=\"24px\">\n",
              "    <path d=\"M0 0h24v24H0V0z\" fill=\"none\"/>\n",
              "    <path d=\"M18.56 5.44l.94 2.06.94-2.06 2.06-.94-2.06-.94-.94-2.06-.94 2.06-2.06.94zm-11 1L8.5 8.5l.94-2.06 2.06-.94-2.06-.94L8.5 2.5l-.94 2.06-2.06.94zm10 10l.94 2.06.94-2.06 2.06-.94-2.06-.94-.94-2.06-.94 2.06-2.06.94z\"/><path d=\"M17.41 7.96l-1.37-1.37c-.4-.4-.92-.59-1.43-.59-.52 0-1.04.2-1.43.59L10.3 9.45l-7.72 7.72c-.78.78-.78 2.05 0 2.83L4 21.41c.39.39.9.59 1.41.59.51 0 1.02-.2 1.41-.59l7.78-7.78 2.81-2.81c.8-.78.8-2.07 0-2.86zM5.41 20L4 18.59l7.72-7.72 1.47 1.35L5.41 20z\"/>\n",
              "  </svg>\n",
              "      </button>\n",
              "      \n",
              "  <style>\n",
              "    .colab-df-container {\n",
              "      display:flex;\n",
              "      flex-wrap:wrap;\n",
              "      gap: 12px;\n",
              "    }\n",
              "\n",
              "    .colab-df-convert {\n",
              "      background-color: #E8F0FE;\n",
              "      border: none;\n",
              "      border-radius: 50%;\n",
              "      cursor: pointer;\n",
              "      display: none;\n",
              "      fill: #1967D2;\n",
              "      height: 32px;\n",
              "      padding: 0 0 0 0;\n",
              "      width: 32px;\n",
              "    }\n",
              "\n",
              "    .colab-df-convert:hover {\n",
              "      background-color: #E2EBFA;\n",
              "      box-shadow: 0px 1px 2px rgba(60, 64, 67, 0.3), 0px 1px 3px 1px rgba(60, 64, 67, 0.15);\n",
              "      fill: #174EA6;\n",
              "    }\n",
              "\n",
              "    [theme=dark] .colab-df-convert {\n",
              "      background-color: #3B4455;\n",
              "      fill: #D2E3FC;\n",
              "    }\n",
              "\n",
              "    [theme=dark] .colab-df-convert:hover {\n",
              "      background-color: #434B5C;\n",
              "      box-shadow: 0px 1px 3px 1px rgba(0, 0, 0, 0.15);\n",
              "      filter: drop-shadow(0px 1px 2px rgba(0, 0, 0, 0.3));\n",
              "      fill: #FFFFFF;\n",
              "    }\n",
              "  </style>\n",
              "\n",
              "      <script>\n",
              "        const buttonEl =\n",
              "          document.querySelector('#df-d57900fc-72d5-4107-9d9e-e155a4182409 button.colab-df-convert');\n",
              "        buttonEl.style.display =\n",
              "          google.colab.kernel.accessAllowed ? 'block' : 'none';\n",
              "\n",
              "        async function convertToInteractive(key) {\n",
              "          const element = document.querySelector('#df-d57900fc-72d5-4107-9d9e-e155a4182409');\n",
              "          const dataTable =\n",
              "            await google.colab.kernel.invokeFunction('convertToInteractive',\n",
              "                                                     [key], {});\n",
              "          if (!dataTable) return;\n",
              "\n",
              "          const docLinkHtml = 'Like what you see? Visit the ' +\n",
              "            '<a target=\"_blank\" href=https://colab.research.google.com/notebooks/data_table.ipynb>data table notebook</a>'\n",
              "            + ' to learn more about interactive tables.';\n",
              "          element.innerHTML = '';\n",
              "          dataTable['output_type'] = 'display_data';\n",
              "          await google.colab.output.renderOutput(dataTable, element);\n",
              "          const docLink = document.createElement('div');\n",
              "          docLink.innerHTML = docLinkHtml;\n",
              "          element.appendChild(docLink);\n",
              "        }\n",
              "      </script>\n",
              "    </div>\n",
              "  </div>\n",
              "  "
            ]
          },
          "metadata": {},
          "execution_count": 175
        }
      ]
    },
    {
      "cell_type": "code",
      "source": [
        "len(df_t2)"
      ],
      "metadata": {
        "colab": {
          "base_uri": "https://localhost:8080/"
        },
        "id": "0VtGLKMS3aB_",
        "outputId": "01deefdc-6dd1-459c-c706-440401dc3a3c"
      },
      "execution_count": null,
      "outputs": [
        {
          "output_type": "execute_result",
          "data": {
            "text/plain": [
              "49162"
            ]
          },
          "metadata": {},
          "execution_count": 176
        }
      ]
    },
    {
      "cell_type": "code",
      "source": [
        "df_t2.columns"
      ],
      "metadata": {
        "colab": {
          "base_uri": "https://localhost:8080/"
        },
        "id": "LK9obmAQ3gue",
        "outputId": "61488303-244b-41b2-f60f-1b291b198f88"
      },
      "execution_count": null,
      "outputs": [
        {
          "output_type": "execute_result",
          "data": {
            "text/plain": [
              "Index(['Unnamed: 0', 'Quote_dt', 'discount', 'Home_policy_ind', 'zip',\n",
              "       'state_id', 'county_name', 'Agent_cd', 'quoted_amt',\n",
              "       'Prior_carrier_grp', 'credit_score', 'Cov_package_type', 'CAT_zone',\n",
              "       'policy_id', 'number_drivers', 'num_loaned_veh', 'num_owned_veh',\n",
              "       'num_leased_veh', 'total_number_veh', 'convert_ind', 'split',\n",
              "       'primary_parking', 'avg_age', 'avg_safty_rating',\n",
              "       'num_of_higher_educators', 'num_of_females', 'num_of_males',\n",
              "       'num_of_dependents', 'num_of_renters', 'num_of_owners', 'avg_cars_age',\n",
              "       'num_of_cars', 'num_of_leased_cars', 'num_of_loaned_cars',\n",
              "       'num_of_owned_cars'],\n",
              "      dtype='object')"
            ]
          },
          "metadata": {},
          "execution_count": 177
        }
      ]
    },
    {
      "cell_type": "code",
      "source": [
        "df_t2.drop(columns=['Unnamed: 0'],inplace=True)\n",
        "df_t2.head(2)\n",
        "# https://pandas.pydata.org/docs/reference/api/pandas.DataFrame.drop.html"
      ],
      "metadata": {
        "colab": {
          "base_uri": "https://localhost:8080/",
          "height": 211
        },
        "id": "BArEwOPL3jFo",
        "outputId": "35123b1b-2061-42d0-e6ff-1f8cadbbe163"
      },
      "execution_count": null,
      "outputs": [
        {
          "output_type": "execute_result",
          "data": {
            "text/plain": [
              "     Quote_dt discount Home_policy_ind      zip state_id county_name  \\\n",
              "0  2015-01-28      Yes               Y  10465.0       NY       Bronx   \n",
              "1  2015-02-12       No               N  12801.0       NY      Warren   \n",
              "\n",
              "     Agent_cd quoted_amt Prior_carrier_grp  credit_score Cov_package_type  \\\n",
              "0  15973623.0     $5,153         Carrier_1         613.0             High   \n",
              "1  46978147.0     $9,870         Carrier_4         576.0              Low   \n",
              "\n",
              "   CAT_zone     policy_id  number_drivers  num_loaned_veh  num_owned_veh  \\\n",
              "0       2.0  policy_87209               2               1              2   \n",
              "1       4.0  policy_89288               1               1              1   \n",
              "\n",
              "   num_leased_veh  total_number_veh  convert_ind  split primary_parking  \\\n",
              "0               0                 3          0.0  Train   home/driveway   \n",
              "1               2                 4          NaN   Test         unknown   \n",
              "\n",
              "   avg_age  avg_safty_rating  num_of_higher_educators  num_of_females  \\\n",
              "0     49.5              74.0                      1.0               1   \n",
              "1     56.0              62.0                      1.0               0   \n",
              "\n",
              "   num_of_males  num_of_dependents  num_of_renters  num_of_owners  \\\n",
              "0             1                  0               2              0   \n",
              "1             1                  0               1              0   \n",
              "\n",
              "   avg_cars_age  num_of_cars  num_of_leased_cars  num_of_loaned_cars  \\\n",
              "0          5.25            4                   0                   2   \n",
              "1          2.75            4                   1                   1   \n",
              "\n",
              "   num_of_owned_cars  \n",
              "0                  2  \n",
              "1                  2  "
            ],
            "text/html": [
              "\n",
              "  <div id=\"df-53208045-0b6e-4670-a757-cc80c15796cc\">\n",
              "    <div class=\"colab-df-container\">\n",
              "      <div>\n",
              "<style scoped>\n",
              "    .dataframe tbody tr th:only-of-type {\n",
              "        vertical-align: middle;\n",
              "    }\n",
              "\n",
              "    .dataframe tbody tr th {\n",
              "        vertical-align: top;\n",
              "    }\n",
              "\n",
              "    .dataframe thead th {\n",
              "        text-align: right;\n",
              "    }\n",
              "</style>\n",
              "<table border=\"1\" class=\"dataframe\">\n",
              "  <thead>\n",
              "    <tr style=\"text-align: right;\">\n",
              "      <th></th>\n",
              "      <th>Quote_dt</th>\n",
              "      <th>discount</th>\n",
              "      <th>Home_policy_ind</th>\n",
              "      <th>zip</th>\n",
              "      <th>state_id</th>\n",
              "      <th>county_name</th>\n",
              "      <th>Agent_cd</th>\n",
              "      <th>quoted_amt</th>\n",
              "      <th>Prior_carrier_grp</th>\n",
              "      <th>credit_score</th>\n",
              "      <th>Cov_package_type</th>\n",
              "      <th>CAT_zone</th>\n",
              "      <th>policy_id</th>\n",
              "      <th>number_drivers</th>\n",
              "      <th>num_loaned_veh</th>\n",
              "      <th>num_owned_veh</th>\n",
              "      <th>num_leased_veh</th>\n",
              "      <th>total_number_veh</th>\n",
              "      <th>convert_ind</th>\n",
              "      <th>split</th>\n",
              "      <th>primary_parking</th>\n",
              "      <th>avg_age</th>\n",
              "      <th>avg_safty_rating</th>\n",
              "      <th>num_of_higher_educators</th>\n",
              "      <th>num_of_females</th>\n",
              "      <th>num_of_males</th>\n",
              "      <th>num_of_dependents</th>\n",
              "      <th>num_of_renters</th>\n",
              "      <th>num_of_owners</th>\n",
              "      <th>avg_cars_age</th>\n",
              "      <th>num_of_cars</th>\n",
              "      <th>num_of_leased_cars</th>\n",
              "      <th>num_of_loaned_cars</th>\n",
              "      <th>num_of_owned_cars</th>\n",
              "    </tr>\n",
              "  </thead>\n",
              "  <tbody>\n",
              "    <tr>\n",
              "      <th>0</th>\n",
              "      <td>2015-01-28</td>\n",
              "      <td>Yes</td>\n",
              "      <td>Y</td>\n",
              "      <td>10465.0</td>\n",
              "      <td>NY</td>\n",
              "      <td>Bronx</td>\n",
              "      <td>15973623.0</td>\n",
              "      <td>$5,153</td>\n",
              "      <td>Carrier_1</td>\n",
              "      <td>613.0</td>\n",
              "      <td>High</td>\n",
              "      <td>2.0</td>\n",
              "      <td>policy_87209</td>\n",
              "      <td>2</td>\n",
              "      <td>1</td>\n",
              "      <td>2</td>\n",
              "      <td>0</td>\n",
              "      <td>3</td>\n",
              "      <td>0.0</td>\n",
              "      <td>Train</td>\n",
              "      <td>home/driveway</td>\n",
              "      <td>49.5</td>\n",
              "      <td>74.0</td>\n",
              "      <td>1.0</td>\n",
              "      <td>1</td>\n",
              "      <td>1</td>\n",
              "      <td>0</td>\n",
              "      <td>2</td>\n",
              "      <td>0</td>\n",
              "      <td>5.25</td>\n",
              "      <td>4</td>\n",
              "      <td>0</td>\n",
              "      <td>2</td>\n",
              "      <td>2</td>\n",
              "    </tr>\n",
              "    <tr>\n",
              "      <th>1</th>\n",
              "      <td>2015-02-12</td>\n",
              "      <td>No</td>\n",
              "      <td>N</td>\n",
              "      <td>12801.0</td>\n",
              "      <td>NY</td>\n",
              "      <td>Warren</td>\n",
              "      <td>46978147.0</td>\n",
              "      <td>$9,870</td>\n",
              "      <td>Carrier_4</td>\n",
              "      <td>576.0</td>\n",
              "      <td>Low</td>\n",
              "      <td>4.0</td>\n",
              "      <td>policy_89288</td>\n",
              "      <td>1</td>\n",
              "      <td>1</td>\n",
              "      <td>1</td>\n",
              "      <td>2</td>\n",
              "      <td>4</td>\n",
              "      <td>NaN</td>\n",
              "      <td>Test</td>\n",
              "      <td>unknown</td>\n",
              "      <td>56.0</td>\n",
              "      <td>62.0</td>\n",
              "      <td>1.0</td>\n",
              "      <td>0</td>\n",
              "      <td>1</td>\n",
              "      <td>0</td>\n",
              "      <td>1</td>\n",
              "      <td>0</td>\n",
              "      <td>2.75</td>\n",
              "      <td>4</td>\n",
              "      <td>1</td>\n",
              "      <td>1</td>\n",
              "      <td>2</td>\n",
              "    </tr>\n",
              "  </tbody>\n",
              "</table>\n",
              "</div>\n",
              "      <button class=\"colab-df-convert\" onclick=\"convertToInteractive('df-53208045-0b6e-4670-a757-cc80c15796cc')\"\n",
              "              title=\"Convert this dataframe to an interactive table.\"\n",
              "              style=\"display:none;\">\n",
              "        \n",
              "  <svg xmlns=\"http://www.w3.org/2000/svg\" height=\"24px\"viewBox=\"0 0 24 24\"\n",
              "       width=\"24px\">\n",
              "    <path d=\"M0 0h24v24H0V0z\" fill=\"none\"/>\n",
              "    <path d=\"M18.56 5.44l.94 2.06.94-2.06 2.06-.94-2.06-.94-.94-2.06-.94 2.06-2.06.94zm-11 1L8.5 8.5l.94-2.06 2.06-.94-2.06-.94L8.5 2.5l-.94 2.06-2.06.94zm10 10l.94 2.06.94-2.06 2.06-.94-2.06-.94-.94-2.06-.94 2.06-2.06.94z\"/><path d=\"M17.41 7.96l-1.37-1.37c-.4-.4-.92-.59-1.43-.59-.52 0-1.04.2-1.43.59L10.3 9.45l-7.72 7.72c-.78.78-.78 2.05 0 2.83L4 21.41c.39.39.9.59 1.41.59.51 0 1.02-.2 1.41-.59l7.78-7.78 2.81-2.81c.8-.78.8-2.07 0-2.86zM5.41 20L4 18.59l7.72-7.72 1.47 1.35L5.41 20z\"/>\n",
              "  </svg>\n",
              "      </button>\n",
              "      \n",
              "  <style>\n",
              "    .colab-df-container {\n",
              "      display:flex;\n",
              "      flex-wrap:wrap;\n",
              "      gap: 12px;\n",
              "    }\n",
              "\n",
              "    .colab-df-convert {\n",
              "      background-color: #E8F0FE;\n",
              "      border: none;\n",
              "      border-radius: 50%;\n",
              "      cursor: pointer;\n",
              "      display: none;\n",
              "      fill: #1967D2;\n",
              "      height: 32px;\n",
              "      padding: 0 0 0 0;\n",
              "      width: 32px;\n",
              "    }\n",
              "\n",
              "    .colab-df-convert:hover {\n",
              "      background-color: #E2EBFA;\n",
              "      box-shadow: 0px 1px 2px rgba(60, 64, 67, 0.3), 0px 1px 3px 1px rgba(60, 64, 67, 0.15);\n",
              "      fill: #174EA6;\n",
              "    }\n",
              "\n",
              "    [theme=dark] .colab-df-convert {\n",
              "      background-color: #3B4455;\n",
              "      fill: #D2E3FC;\n",
              "    }\n",
              "\n",
              "    [theme=dark] .colab-df-convert:hover {\n",
              "      background-color: #434B5C;\n",
              "      box-shadow: 0px 1px 3px 1px rgba(0, 0, 0, 0.15);\n",
              "      filter: drop-shadow(0px 1px 2px rgba(0, 0, 0, 0.3));\n",
              "      fill: #FFFFFF;\n",
              "    }\n",
              "  </style>\n",
              "\n",
              "      <script>\n",
              "        const buttonEl =\n",
              "          document.querySelector('#df-53208045-0b6e-4670-a757-cc80c15796cc button.colab-df-convert');\n",
              "        buttonEl.style.display =\n",
              "          google.colab.kernel.accessAllowed ? 'block' : 'none';\n",
              "\n",
              "        async function convertToInteractive(key) {\n",
              "          const element = document.querySelector('#df-53208045-0b6e-4670-a757-cc80c15796cc');\n",
              "          const dataTable =\n",
              "            await google.colab.kernel.invokeFunction('convertToInteractive',\n",
              "                                                     [key], {});\n",
              "          if (!dataTable) return;\n",
              "\n",
              "          const docLinkHtml = 'Like what you see? Visit the ' +\n",
              "            '<a target=\"_blank\" href=https://colab.research.google.com/notebooks/data_table.ipynb>data table notebook</a>'\n",
              "            + ' to learn more about interactive tables.';\n",
              "          element.innerHTML = '';\n",
              "          dataTable['output_type'] = 'display_data';\n",
              "          await google.colab.output.renderOutput(dataTable, element);\n",
              "          const docLink = document.createElement('div');\n",
              "          docLink.innerHTML = docLinkHtml;\n",
              "          element.appendChild(docLink);\n",
              "        }\n",
              "      </script>\n",
              "    </div>\n",
              "  </div>\n",
              "  "
            ]
          },
          "metadata": {},
          "execution_count": 178
        }
      ]
    },
    {
      "cell_type": "code",
      "source": [
        "df_t2.info()"
      ],
      "metadata": {
        "colab": {
          "base_uri": "https://localhost:8080/"
        },
        "id": "YrQQFSya_L4t",
        "outputId": "ae6a3641-a4ba-45a0-ac76-6c373ee7d863"
      },
      "execution_count": null,
      "outputs": [
        {
          "output_type": "stream",
          "name": "stdout",
          "text": [
            "<class 'pandas.core.frame.DataFrame'>\n",
            "Int64Index: 49162 entries, 0 to 49161\n",
            "Data columns (total 34 columns):\n",
            " #   Column                   Non-Null Count  Dtype  \n",
            "---  ------                   --------------  -----  \n",
            " 0   Quote_dt                 49162 non-null  object \n",
            " 1   discount                 49162 non-null  object \n",
            " 2   Home_policy_ind          49162 non-null  object \n",
            " 3   zip                      48690 non-null  float64\n",
            " 4   state_id                 49162 non-null  object \n",
            " 5   county_name              49162 non-null  object \n",
            " 6   Agent_cd                 43732 non-null  float64\n",
            " 7   quoted_amt               49050 non-null  object \n",
            " 8   Prior_carrier_grp        44162 non-null  object \n",
            " 9   credit_score             48862 non-null  float64\n",
            " 10  Cov_package_type         48392 non-null  object \n",
            " 11  CAT_zone                 48912 non-null  float64\n",
            " 12  policy_id                49162 non-null  object \n",
            " 13  number_drivers           49162 non-null  int64  \n",
            " 14  num_loaned_veh           49162 non-null  int64  \n",
            " 15  num_owned_veh            49162 non-null  int64  \n",
            " 16  num_leased_veh           49162 non-null  int64  \n",
            " 17  total_number_veh         49162 non-null  int64  \n",
            " 18  convert_ind              36871 non-null  float64\n",
            " 19  split                    49162 non-null  object \n",
            " 20  primary_parking          49162 non-null  object \n",
            " 21  avg_age                  49162 non-null  float64\n",
            " 22  avg_safty_rating         49147 non-null  float64\n",
            " 23  num_of_higher_educators  49162 non-null  float64\n",
            " 24  num_of_females           49162 non-null  uint8  \n",
            " 25  num_of_males             49162 non-null  uint8  \n",
            " 26  num_of_dependents        49162 non-null  uint8  \n",
            " 27  num_of_renters           49162 non-null  uint8  \n",
            " 28  num_of_owners            49162 non-null  uint8  \n",
            " 29  avg_cars_age             49149 non-null  float64\n",
            " 30  num_of_cars              49162 non-null  int64  \n",
            " 31  num_of_leased_cars       49162 non-null  uint8  \n",
            " 32  num_of_loaned_cars       49162 non-null  uint8  \n",
            " 33  num_of_owned_cars        49162 non-null  uint8  \n",
            "dtypes: float64(9), int64(6), object(11), uint8(8)\n",
            "memory usage: 10.5+ MB\n"
          ]
        }
      ]
    },
    {
      "cell_type": "markdown",
      "source": [
        "### Prepare the dataset - convert all catg into numeric before over sampling"
      ],
      "metadata": {
        "id": "myU5sapB7G_z"
      }
    },
    {
      "cell_type": "code",
      "source": [
        "df_t2.head(2)"
      ],
      "metadata": {
        "colab": {
          "base_uri": "https://localhost:8080/",
          "height": 211
        },
        "id": "9b1U4jde8Dhg",
        "outputId": "8a956ae2-fdec-419c-ead3-92ca0c89b46b"
      },
      "execution_count": null,
      "outputs": [
        {
          "output_type": "execute_result",
          "data": {
            "text/plain": [
              "     Quote_dt discount Home_policy_ind      zip state_id county_name  \\\n",
              "0  2015-01-28      Yes               Y  10465.0       NY       Bronx   \n",
              "1  2015-02-12       No               N  12801.0       NY      Warren   \n",
              "\n",
              "     Agent_cd quoted_amt Prior_carrier_grp  credit_score Cov_package_type  \\\n",
              "0  15973623.0     $5,153         Carrier_1         613.0             High   \n",
              "1  46978147.0     $9,870         Carrier_4         576.0              Low   \n",
              "\n",
              "   CAT_zone     policy_id  number_drivers  num_loaned_veh  num_owned_veh  \\\n",
              "0       2.0  policy_87209               2               1              2   \n",
              "1       4.0  policy_89288               1               1              1   \n",
              "\n",
              "   num_leased_veh  total_number_veh  convert_ind  split primary_parking  \\\n",
              "0               0                 3          0.0  Train   home/driveway   \n",
              "1               2                 4          NaN   Test         unknown   \n",
              "\n",
              "   avg_age  avg_safty_rating  num_of_higher_educators  num_of_females  \\\n",
              "0     49.5              74.0                      1.0               1   \n",
              "1     56.0              62.0                      1.0               0   \n",
              "\n",
              "   num_of_males  num_of_dependents  num_of_renters  num_of_owners  \\\n",
              "0             1                  0               2              0   \n",
              "1             1                  0               1              0   \n",
              "\n",
              "   avg_cars_age  num_of_cars  num_of_leased_cars  num_of_loaned_cars  \\\n",
              "0          5.25            4                   0                   2   \n",
              "1          2.75            4                   1                   1   \n",
              "\n",
              "   num_of_owned_cars  \n",
              "0                  2  \n",
              "1                  2  "
            ],
            "text/html": [
              "\n",
              "  <div id=\"df-d1ccfdcf-2de8-4853-bf81-896510d0c1d5\">\n",
              "    <div class=\"colab-df-container\">\n",
              "      <div>\n",
              "<style scoped>\n",
              "    .dataframe tbody tr th:only-of-type {\n",
              "        vertical-align: middle;\n",
              "    }\n",
              "\n",
              "    .dataframe tbody tr th {\n",
              "        vertical-align: top;\n",
              "    }\n",
              "\n",
              "    .dataframe thead th {\n",
              "        text-align: right;\n",
              "    }\n",
              "</style>\n",
              "<table border=\"1\" class=\"dataframe\">\n",
              "  <thead>\n",
              "    <tr style=\"text-align: right;\">\n",
              "      <th></th>\n",
              "      <th>Quote_dt</th>\n",
              "      <th>discount</th>\n",
              "      <th>Home_policy_ind</th>\n",
              "      <th>zip</th>\n",
              "      <th>state_id</th>\n",
              "      <th>county_name</th>\n",
              "      <th>Agent_cd</th>\n",
              "      <th>quoted_amt</th>\n",
              "      <th>Prior_carrier_grp</th>\n",
              "      <th>credit_score</th>\n",
              "      <th>Cov_package_type</th>\n",
              "      <th>CAT_zone</th>\n",
              "      <th>policy_id</th>\n",
              "      <th>number_drivers</th>\n",
              "      <th>num_loaned_veh</th>\n",
              "      <th>num_owned_veh</th>\n",
              "      <th>num_leased_veh</th>\n",
              "      <th>total_number_veh</th>\n",
              "      <th>convert_ind</th>\n",
              "      <th>split</th>\n",
              "      <th>primary_parking</th>\n",
              "      <th>avg_age</th>\n",
              "      <th>avg_safty_rating</th>\n",
              "      <th>num_of_higher_educators</th>\n",
              "      <th>num_of_females</th>\n",
              "      <th>num_of_males</th>\n",
              "      <th>num_of_dependents</th>\n",
              "      <th>num_of_renters</th>\n",
              "      <th>num_of_owners</th>\n",
              "      <th>avg_cars_age</th>\n",
              "      <th>num_of_cars</th>\n",
              "      <th>num_of_leased_cars</th>\n",
              "      <th>num_of_loaned_cars</th>\n",
              "      <th>num_of_owned_cars</th>\n",
              "    </tr>\n",
              "  </thead>\n",
              "  <tbody>\n",
              "    <tr>\n",
              "      <th>0</th>\n",
              "      <td>2015-01-28</td>\n",
              "      <td>Yes</td>\n",
              "      <td>Y</td>\n",
              "      <td>10465.0</td>\n",
              "      <td>NY</td>\n",
              "      <td>Bronx</td>\n",
              "      <td>15973623.0</td>\n",
              "      <td>$5,153</td>\n",
              "      <td>Carrier_1</td>\n",
              "      <td>613.0</td>\n",
              "      <td>High</td>\n",
              "      <td>2.0</td>\n",
              "      <td>policy_87209</td>\n",
              "      <td>2</td>\n",
              "      <td>1</td>\n",
              "      <td>2</td>\n",
              "      <td>0</td>\n",
              "      <td>3</td>\n",
              "      <td>0.0</td>\n",
              "      <td>Train</td>\n",
              "      <td>home/driveway</td>\n",
              "      <td>49.5</td>\n",
              "      <td>74.0</td>\n",
              "      <td>1.0</td>\n",
              "      <td>1</td>\n",
              "      <td>1</td>\n",
              "      <td>0</td>\n",
              "      <td>2</td>\n",
              "      <td>0</td>\n",
              "      <td>5.25</td>\n",
              "      <td>4</td>\n",
              "      <td>0</td>\n",
              "      <td>2</td>\n",
              "      <td>2</td>\n",
              "    </tr>\n",
              "    <tr>\n",
              "      <th>1</th>\n",
              "      <td>2015-02-12</td>\n",
              "      <td>No</td>\n",
              "      <td>N</td>\n",
              "      <td>12801.0</td>\n",
              "      <td>NY</td>\n",
              "      <td>Warren</td>\n",
              "      <td>46978147.0</td>\n",
              "      <td>$9,870</td>\n",
              "      <td>Carrier_4</td>\n",
              "      <td>576.0</td>\n",
              "      <td>Low</td>\n",
              "      <td>4.0</td>\n",
              "      <td>policy_89288</td>\n",
              "      <td>1</td>\n",
              "      <td>1</td>\n",
              "      <td>1</td>\n",
              "      <td>2</td>\n",
              "      <td>4</td>\n",
              "      <td>NaN</td>\n",
              "      <td>Test</td>\n",
              "      <td>unknown</td>\n",
              "      <td>56.0</td>\n",
              "      <td>62.0</td>\n",
              "      <td>1.0</td>\n",
              "      <td>0</td>\n",
              "      <td>1</td>\n",
              "      <td>0</td>\n",
              "      <td>1</td>\n",
              "      <td>0</td>\n",
              "      <td>2.75</td>\n",
              "      <td>4</td>\n",
              "      <td>1</td>\n",
              "      <td>1</td>\n",
              "      <td>2</td>\n",
              "    </tr>\n",
              "  </tbody>\n",
              "</table>\n",
              "</div>\n",
              "      <button class=\"colab-df-convert\" onclick=\"convertToInteractive('df-d1ccfdcf-2de8-4853-bf81-896510d0c1d5')\"\n",
              "              title=\"Convert this dataframe to an interactive table.\"\n",
              "              style=\"display:none;\">\n",
              "        \n",
              "  <svg xmlns=\"http://www.w3.org/2000/svg\" height=\"24px\"viewBox=\"0 0 24 24\"\n",
              "       width=\"24px\">\n",
              "    <path d=\"M0 0h24v24H0V0z\" fill=\"none\"/>\n",
              "    <path d=\"M18.56 5.44l.94 2.06.94-2.06 2.06-.94-2.06-.94-.94-2.06-.94 2.06-2.06.94zm-11 1L8.5 8.5l.94-2.06 2.06-.94-2.06-.94L8.5 2.5l-.94 2.06-2.06.94zm10 10l.94 2.06.94-2.06 2.06-.94-2.06-.94-.94-2.06-.94 2.06-2.06.94z\"/><path d=\"M17.41 7.96l-1.37-1.37c-.4-.4-.92-.59-1.43-.59-.52 0-1.04.2-1.43.59L10.3 9.45l-7.72 7.72c-.78.78-.78 2.05 0 2.83L4 21.41c.39.39.9.59 1.41.59.51 0 1.02-.2 1.41-.59l7.78-7.78 2.81-2.81c.8-.78.8-2.07 0-2.86zM5.41 20L4 18.59l7.72-7.72 1.47 1.35L5.41 20z\"/>\n",
              "  </svg>\n",
              "      </button>\n",
              "      \n",
              "  <style>\n",
              "    .colab-df-container {\n",
              "      display:flex;\n",
              "      flex-wrap:wrap;\n",
              "      gap: 12px;\n",
              "    }\n",
              "\n",
              "    .colab-df-convert {\n",
              "      background-color: #E8F0FE;\n",
              "      border: none;\n",
              "      border-radius: 50%;\n",
              "      cursor: pointer;\n",
              "      display: none;\n",
              "      fill: #1967D2;\n",
              "      height: 32px;\n",
              "      padding: 0 0 0 0;\n",
              "      width: 32px;\n",
              "    }\n",
              "\n",
              "    .colab-df-convert:hover {\n",
              "      background-color: #E2EBFA;\n",
              "      box-shadow: 0px 1px 2px rgba(60, 64, 67, 0.3), 0px 1px 3px 1px rgba(60, 64, 67, 0.15);\n",
              "      fill: #174EA6;\n",
              "    }\n",
              "\n",
              "    [theme=dark] .colab-df-convert {\n",
              "      background-color: #3B4455;\n",
              "      fill: #D2E3FC;\n",
              "    }\n",
              "\n",
              "    [theme=dark] .colab-df-convert:hover {\n",
              "      background-color: #434B5C;\n",
              "      box-shadow: 0px 1px 3px 1px rgba(0, 0, 0, 0.15);\n",
              "      filter: drop-shadow(0px 1px 2px rgba(0, 0, 0, 0.3));\n",
              "      fill: #FFFFFF;\n",
              "    }\n",
              "  </style>\n",
              "\n",
              "      <script>\n",
              "        const buttonEl =\n",
              "          document.querySelector('#df-d1ccfdcf-2de8-4853-bf81-896510d0c1d5 button.colab-df-convert');\n",
              "        buttonEl.style.display =\n",
              "          google.colab.kernel.accessAllowed ? 'block' : 'none';\n",
              "\n",
              "        async function convertToInteractive(key) {\n",
              "          const element = document.querySelector('#df-d1ccfdcf-2de8-4853-bf81-896510d0c1d5');\n",
              "          const dataTable =\n",
              "            await google.colab.kernel.invokeFunction('convertToInteractive',\n",
              "                                                     [key], {});\n",
              "          if (!dataTable) return;\n",
              "\n",
              "          const docLinkHtml = 'Like what you see? Visit the ' +\n",
              "            '<a target=\"_blank\" href=https://colab.research.google.com/notebooks/data_table.ipynb>data table notebook</a>'\n",
              "            + ' to learn more about interactive tables.';\n",
              "          element.innerHTML = '';\n",
              "          dataTable['output_type'] = 'display_data';\n",
              "          await google.colab.output.renderOutput(dataTable, element);\n",
              "          const docLink = document.createElement('div');\n",
              "          docLink.innerHTML = docLinkHtml;\n",
              "          element.appendChild(docLink);\n",
              "        }\n",
              "      </script>\n",
              "    </div>\n",
              "  </div>\n",
              "  "
            ]
          },
          "metadata": {},
          "execution_count": 180
        }
      ]
    },
    {
      "cell_type": "code",
      "source": [
        "df_t2.info()"
      ],
      "metadata": {
        "colab": {
          "base_uri": "https://localhost:8080/"
        },
        "id": "K079E_nq_R-a",
        "outputId": "227df95d-10ec-4115-bca4-cddffa79ecfb"
      },
      "execution_count": null,
      "outputs": [
        {
          "output_type": "stream",
          "name": "stdout",
          "text": [
            "<class 'pandas.core.frame.DataFrame'>\n",
            "Int64Index: 49162 entries, 0 to 49161\n",
            "Data columns (total 34 columns):\n",
            " #   Column                   Non-Null Count  Dtype  \n",
            "---  ------                   --------------  -----  \n",
            " 0   Quote_dt                 49162 non-null  object \n",
            " 1   discount                 49162 non-null  object \n",
            " 2   Home_policy_ind          49162 non-null  object \n",
            " 3   zip                      48690 non-null  float64\n",
            " 4   state_id                 49162 non-null  object \n",
            " 5   county_name              49162 non-null  object \n",
            " 6   Agent_cd                 43732 non-null  float64\n",
            " 7   quoted_amt               49050 non-null  object \n",
            " 8   Prior_carrier_grp        44162 non-null  object \n",
            " 9   credit_score             48862 non-null  float64\n",
            " 10  Cov_package_type         48392 non-null  object \n",
            " 11  CAT_zone                 48912 non-null  float64\n",
            " 12  policy_id                49162 non-null  object \n",
            " 13  number_drivers           49162 non-null  int64  \n",
            " 14  num_loaned_veh           49162 non-null  int64  \n",
            " 15  num_owned_veh            49162 non-null  int64  \n",
            " 16  num_leased_veh           49162 non-null  int64  \n",
            " 17  total_number_veh         49162 non-null  int64  \n",
            " 18  convert_ind              36871 non-null  float64\n",
            " 19  split                    49162 non-null  object \n",
            " 20  primary_parking          49162 non-null  object \n",
            " 21  avg_age                  49162 non-null  float64\n",
            " 22  avg_safty_rating         49147 non-null  float64\n",
            " 23  num_of_higher_educators  49162 non-null  float64\n",
            " 24  num_of_females           49162 non-null  uint8  \n",
            " 25  num_of_males             49162 non-null  uint8  \n",
            " 26  num_of_dependents        49162 non-null  uint8  \n",
            " 27  num_of_renters           49162 non-null  uint8  \n",
            " 28  num_of_owners            49162 non-null  uint8  \n",
            " 29  avg_cars_age             49149 non-null  float64\n",
            " 30  num_of_cars              49162 non-null  int64  \n",
            " 31  num_of_leased_cars       49162 non-null  uint8  \n",
            " 32  num_of_loaned_cars       49162 non-null  uint8  \n",
            " 33  num_of_owned_cars        49162 non-null  uint8  \n",
            "dtypes: float64(9), int64(6), object(11), uint8(8)\n",
            "memory usage: 10.5+ MB\n"
          ]
        }
      ]
    },
    {
      "cell_type": "code",
      "source": [
        "import datetime\n",
        "df_t2['quote_year']=pd.to_datetime(df_t2['Quote_dt'])\n",
        "df_t2['quote_year'] = df_t2['quote_year'].dt.year\n",
        "#df['quote_year']=df['quote_year'].strftime(\"%Y\")\n",
        "df_t2.head()\n",
        "\n",
        "# https://stackoverflow.com/questions/38333954/converting-object-to-datetime-format-in-python\n",
        "# https://stackoverflow.com/questions/25146121/extracting-just-month-and-year-separately-from-pandas-datetime-column"
      ],
      "metadata": {
        "colab": {
          "base_uri": "https://localhost:8080/",
          "height": 357
        },
        "collapsed": true,
        "id": "Iz-gRRfL8E56",
        "outputId": "0eb986eb-ebc1-4eab-82ff-c05d3dc57a5b"
      },
      "execution_count": null,
      "outputs": [
        {
          "output_type": "execute_result",
          "data": {
            "text/plain": [
              "     Quote_dt discount Home_policy_ind      zip state_id county_name  \\\n",
              "0  2015-01-28      Yes               Y  10465.0       NY       Bronx   \n",
              "1  2015-02-12       No               N  12801.0       NY      Warren   \n",
              "2  2018-09-03       No               N  11548.0       NY      Nassau   \n",
              "3  2015-07-28       No               N  33141.0       FL  Miami-Dade   \n",
              "4  2016-05-18       No               N  14622.0       NY      Monroe   \n",
              "\n",
              "     Agent_cd quoted_amt Prior_carrier_grp  credit_score Cov_package_type  \\\n",
              "0  15973623.0     $5,153         Carrier_1         613.0             High   \n",
              "1  46978147.0     $9,870         Carrier_4         576.0              Low   \n",
              "2  32759856.0     $3,090         Carrier_4         631.0           Medium   \n",
              "3  47310293.0     $2,860         Carrier_7         573.0           Medium   \n",
              "4  15675431.0    $14,917         Carrier_3         602.0           Medium   \n",
              "\n",
              "   CAT_zone     policy_id  number_drivers  num_loaned_veh  num_owned_veh  \\\n",
              "0       2.0  policy_87209               2               1              2   \n",
              "1       4.0  policy_89288               1               1              1   \n",
              "2       2.0  policy_91413               2               1              2   \n",
              "3       3.0  policy_23460               1               2              3   \n",
              "4       4.0  policy_71845               2               0              1   \n",
              "\n",
              "   num_leased_veh  total_number_veh  convert_ind  split primary_parking  \\\n",
              "0               0                 3          0.0  Train   home/driveway   \n",
              "1               2                 4          NaN   Test         unknown   \n",
              "2               1                 4          0.0  Train         unknown   \n",
              "3               0                 5          NaN   Test         unknown   \n",
              "4               2                 3          0.0  Train         unknown   \n",
              "\n",
              "   avg_age  avg_safty_rating  num_of_higher_educators  num_of_females  \\\n",
              "0     49.5              74.0                      1.0               1   \n",
              "1     56.0              62.0                      1.0               0   \n",
              "2     49.0              70.0                      1.0               1   \n",
              "3     30.0              90.0                      1.0               1   \n",
              "4     56.5              81.5                      2.0               1   \n",
              "\n",
              "   num_of_males  num_of_dependents  num_of_renters  num_of_owners  \\\n",
              "0             1                  0               2              0   \n",
              "1             1                  0               1              0   \n",
              "2             1                  0               2              0   \n",
              "3             0                  0               1              0   \n",
              "4             1                  0               0              2   \n",
              "\n",
              "   avg_cars_age  num_of_cars  num_of_leased_cars  num_of_loaned_cars  \\\n",
              "0          5.25            4                   0                   2   \n",
              "1          2.75            4                   1                   1   \n",
              "2          7.00            4                   0                   2   \n",
              "3          5.50            2                   0                   1   \n",
              "4          4.50            4                   0                   1   \n",
              "\n",
              "   num_of_owned_cars  quote_year  \n",
              "0                  2        2015  \n",
              "1                  2        2015  \n",
              "2                  2        2018  \n",
              "3                  1        2015  \n",
              "4                  3        2016  "
            ],
            "text/html": [
              "\n",
              "  <div id=\"df-f2f3ecd2-c36d-441f-b25d-1af8b2d85ac1\">\n",
              "    <div class=\"colab-df-container\">\n",
              "      <div>\n",
              "<style scoped>\n",
              "    .dataframe tbody tr th:only-of-type {\n",
              "        vertical-align: middle;\n",
              "    }\n",
              "\n",
              "    .dataframe tbody tr th {\n",
              "        vertical-align: top;\n",
              "    }\n",
              "\n",
              "    .dataframe thead th {\n",
              "        text-align: right;\n",
              "    }\n",
              "</style>\n",
              "<table border=\"1\" class=\"dataframe\">\n",
              "  <thead>\n",
              "    <tr style=\"text-align: right;\">\n",
              "      <th></th>\n",
              "      <th>Quote_dt</th>\n",
              "      <th>discount</th>\n",
              "      <th>Home_policy_ind</th>\n",
              "      <th>zip</th>\n",
              "      <th>state_id</th>\n",
              "      <th>county_name</th>\n",
              "      <th>Agent_cd</th>\n",
              "      <th>quoted_amt</th>\n",
              "      <th>Prior_carrier_grp</th>\n",
              "      <th>credit_score</th>\n",
              "      <th>Cov_package_type</th>\n",
              "      <th>CAT_zone</th>\n",
              "      <th>policy_id</th>\n",
              "      <th>number_drivers</th>\n",
              "      <th>num_loaned_veh</th>\n",
              "      <th>num_owned_veh</th>\n",
              "      <th>num_leased_veh</th>\n",
              "      <th>total_number_veh</th>\n",
              "      <th>convert_ind</th>\n",
              "      <th>split</th>\n",
              "      <th>primary_parking</th>\n",
              "      <th>avg_age</th>\n",
              "      <th>avg_safty_rating</th>\n",
              "      <th>num_of_higher_educators</th>\n",
              "      <th>num_of_females</th>\n",
              "      <th>num_of_males</th>\n",
              "      <th>num_of_dependents</th>\n",
              "      <th>num_of_renters</th>\n",
              "      <th>num_of_owners</th>\n",
              "      <th>avg_cars_age</th>\n",
              "      <th>num_of_cars</th>\n",
              "      <th>num_of_leased_cars</th>\n",
              "      <th>num_of_loaned_cars</th>\n",
              "      <th>num_of_owned_cars</th>\n",
              "      <th>quote_year</th>\n",
              "    </tr>\n",
              "  </thead>\n",
              "  <tbody>\n",
              "    <tr>\n",
              "      <th>0</th>\n",
              "      <td>2015-01-28</td>\n",
              "      <td>Yes</td>\n",
              "      <td>Y</td>\n",
              "      <td>10465.0</td>\n",
              "      <td>NY</td>\n",
              "      <td>Bronx</td>\n",
              "      <td>15973623.0</td>\n",
              "      <td>$5,153</td>\n",
              "      <td>Carrier_1</td>\n",
              "      <td>613.0</td>\n",
              "      <td>High</td>\n",
              "      <td>2.0</td>\n",
              "      <td>policy_87209</td>\n",
              "      <td>2</td>\n",
              "      <td>1</td>\n",
              "      <td>2</td>\n",
              "      <td>0</td>\n",
              "      <td>3</td>\n",
              "      <td>0.0</td>\n",
              "      <td>Train</td>\n",
              "      <td>home/driveway</td>\n",
              "      <td>49.5</td>\n",
              "      <td>74.0</td>\n",
              "      <td>1.0</td>\n",
              "      <td>1</td>\n",
              "      <td>1</td>\n",
              "      <td>0</td>\n",
              "      <td>2</td>\n",
              "      <td>0</td>\n",
              "      <td>5.25</td>\n",
              "      <td>4</td>\n",
              "      <td>0</td>\n",
              "      <td>2</td>\n",
              "      <td>2</td>\n",
              "      <td>2015</td>\n",
              "    </tr>\n",
              "    <tr>\n",
              "      <th>1</th>\n",
              "      <td>2015-02-12</td>\n",
              "      <td>No</td>\n",
              "      <td>N</td>\n",
              "      <td>12801.0</td>\n",
              "      <td>NY</td>\n",
              "      <td>Warren</td>\n",
              "      <td>46978147.0</td>\n",
              "      <td>$9,870</td>\n",
              "      <td>Carrier_4</td>\n",
              "      <td>576.0</td>\n",
              "      <td>Low</td>\n",
              "      <td>4.0</td>\n",
              "      <td>policy_89288</td>\n",
              "      <td>1</td>\n",
              "      <td>1</td>\n",
              "      <td>1</td>\n",
              "      <td>2</td>\n",
              "      <td>4</td>\n",
              "      <td>NaN</td>\n",
              "      <td>Test</td>\n",
              "      <td>unknown</td>\n",
              "      <td>56.0</td>\n",
              "      <td>62.0</td>\n",
              "      <td>1.0</td>\n",
              "      <td>0</td>\n",
              "      <td>1</td>\n",
              "      <td>0</td>\n",
              "      <td>1</td>\n",
              "      <td>0</td>\n",
              "      <td>2.75</td>\n",
              "      <td>4</td>\n",
              "      <td>1</td>\n",
              "      <td>1</td>\n",
              "      <td>2</td>\n",
              "      <td>2015</td>\n",
              "    </tr>\n",
              "    <tr>\n",
              "      <th>2</th>\n",
              "      <td>2018-09-03</td>\n",
              "      <td>No</td>\n",
              "      <td>N</td>\n",
              "      <td>11548.0</td>\n",
              "      <td>NY</td>\n",
              "      <td>Nassau</td>\n",
              "      <td>32759856.0</td>\n",
              "      <td>$3,090</td>\n",
              "      <td>Carrier_4</td>\n",
              "      <td>631.0</td>\n",
              "      <td>Medium</td>\n",
              "      <td>2.0</td>\n",
              "      <td>policy_91413</td>\n",
              "      <td>2</td>\n",
              "      <td>1</td>\n",
              "      <td>2</td>\n",
              "      <td>1</td>\n",
              "      <td>4</td>\n",
              "      <td>0.0</td>\n",
              "      <td>Train</td>\n",
              "      <td>unknown</td>\n",
              "      <td>49.0</td>\n",
              "      <td>70.0</td>\n",
              "      <td>1.0</td>\n",
              "      <td>1</td>\n",
              "      <td>1</td>\n",
              "      <td>0</td>\n",
              "      <td>2</td>\n",
              "      <td>0</td>\n",
              "      <td>7.00</td>\n",
              "      <td>4</td>\n",
              "      <td>0</td>\n",
              "      <td>2</td>\n",
              "      <td>2</td>\n",
              "      <td>2018</td>\n",
              "    </tr>\n",
              "    <tr>\n",
              "      <th>3</th>\n",
              "      <td>2015-07-28</td>\n",
              "      <td>No</td>\n",
              "      <td>N</td>\n",
              "      <td>33141.0</td>\n",
              "      <td>FL</td>\n",
              "      <td>Miami-Dade</td>\n",
              "      <td>47310293.0</td>\n",
              "      <td>$2,860</td>\n",
              "      <td>Carrier_7</td>\n",
              "      <td>573.0</td>\n",
              "      <td>Medium</td>\n",
              "      <td>3.0</td>\n",
              "      <td>policy_23460</td>\n",
              "      <td>1</td>\n",
              "      <td>2</td>\n",
              "      <td>3</td>\n",
              "      <td>0</td>\n",
              "      <td>5</td>\n",
              "      <td>NaN</td>\n",
              "      <td>Test</td>\n",
              "      <td>unknown</td>\n",
              "      <td>30.0</td>\n",
              "      <td>90.0</td>\n",
              "      <td>1.0</td>\n",
              "      <td>1</td>\n",
              "      <td>0</td>\n",
              "      <td>0</td>\n",
              "      <td>1</td>\n",
              "      <td>0</td>\n",
              "      <td>5.50</td>\n",
              "      <td>2</td>\n",
              "      <td>0</td>\n",
              "      <td>1</td>\n",
              "      <td>1</td>\n",
              "      <td>2015</td>\n",
              "    </tr>\n",
              "    <tr>\n",
              "      <th>4</th>\n",
              "      <td>2016-05-18</td>\n",
              "      <td>No</td>\n",
              "      <td>N</td>\n",
              "      <td>14622.0</td>\n",
              "      <td>NY</td>\n",
              "      <td>Monroe</td>\n",
              "      <td>15675431.0</td>\n",
              "      <td>$14,917</td>\n",
              "      <td>Carrier_3</td>\n",
              "      <td>602.0</td>\n",
              "      <td>Medium</td>\n",
              "      <td>4.0</td>\n",
              "      <td>policy_71845</td>\n",
              "      <td>2</td>\n",
              "      <td>0</td>\n",
              "      <td>1</td>\n",
              "      <td>2</td>\n",
              "      <td>3</td>\n",
              "      <td>0.0</td>\n",
              "      <td>Train</td>\n",
              "      <td>unknown</td>\n",
              "      <td>56.5</td>\n",
              "      <td>81.5</td>\n",
              "      <td>2.0</td>\n",
              "      <td>1</td>\n",
              "      <td>1</td>\n",
              "      <td>0</td>\n",
              "      <td>0</td>\n",
              "      <td>2</td>\n",
              "      <td>4.50</td>\n",
              "      <td>4</td>\n",
              "      <td>0</td>\n",
              "      <td>1</td>\n",
              "      <td>3</td>\n",
              "      <td>2016</td>\n",
              "    </tr>\n",
              "  </tbody>\n",
              "</table>\n",
              "</div>\n",
              "      <button class=\"colab-df-convert\" onclick=\"convertToInteractive('df-f2f3ecd2-c36d-441f-b25d-1af8b2d85ac1')\"\n",
              "              title=\"Convert this dataframe to an interactive table.\"\n",
              "              style=\"display:none;\">\n",
              "        \n",
              "  <svg xmlns=\"http://www.w3.org/2000/svg\" height=\"24px\"viewBox=\"0 0 24 24\"\n",
              "       width=\"24px\">\n",
              "    <path d=\"M0 0h24v24H0V0z\" fill=\"none\"/>\n",
              "    <path d=\"M18.56 5.44l.94 2.06.94-2.06 2.06-.94-2.06-.94-.94-2.06-.94 2.06-2.06.94zm-11 1L8.5 8.5l.94-2.06 2.06-.94-2.06-.94L8.5 2.5l-.94 2.06-2.06.94zm10 10l.94 2.06.94-2.06 2.06-.94-2.06-.94-.94-2.06-.94 2.06-2.06.94z\"/><path d=\"M17.41 7.96l-1.37-1.37c-.4-.4-.92-.59-1.43-.59-.52 0-1.04.2-1.43.59L10.3 9.45l-7.72 7.72c-.78.78-.78 2.05 0 2.83L4 21.41c.39.39.9.59 1.41.59.51 0 1.02-.2 1.41-.59l7.78-7.78 2.81-2.81c.8-.78.8-2.07 0-2.86zM5.41 20L4 18.59l7.72-7.72 1.47 1.35L5.41 20z\"/>\n",
              "  </svg>\n",
              "      </button>\n",
              "      \n",
              "  <style>\n",
              "    .colab-df-container {\n",
              "      display:flex;\n",
              "      flex-wrap:wrap;\n",
              "      gap: 12px;\n",
              "    }\n",
              "\n",
              "    .colab-df-convert {\n",
              "      background-color: #E8F0FE;\n",
              "      border: none;\n",
              "      border-radius: 50%;\n",
              "      cursor: pointer;\n",
              "      display: none;\n",
              "      fill: #1967D2;\n",
              "      height: 32px;\n",
              "      padding: 0 0 0 0;\n",
              "      width: 32px;\n",
              "    }\n",
              "\n",
              "    .colab-df-convert:hover {\n",
              "      background-color: #E2EBFA;\n",
              "      box-shadow: 0px 1px 2px rgba(60, 64, 67, 0.3), 0px 1px 3px 1px rgba(60, 64, 67, 0.15);\n",
              "      fill: #174EA6;\n",
              "    }\n",
              "\n",
              "    [theme=dark] .colab-df-convert {\n",
              "      background-color: #3B4455;\n",
              "      fill: #D2E3FC;\n",
              "    }\n",
              "\n",
              "    [theme=dark] .colab-df-convert:hover {\n",
              "      background-color: #434B5C;\n",
              "      box-shadow: 0px 1px 3px 1px rgba(0, 0, 0, 0.15);\n",
              "      filter: drop-shadow(0px 1px 2px rgba(0, 0, 0, 0.3));\n",
              "      fill: #FFFFFF;\n",
              "    }\n",
              "  </style>\n",
              "\n",
              "      <script>\n",
              "        const buttonEl =\n",
              "          document.querySelector('#df-f2f3ecd2-c36d-441f-b25d-1af8b2d85ac1 button.colab-df-convert');\n",
              "        buttonEl.style.display =\n",
              "          google.colab.kernel.accessAllowed ? 'block' : 'none';\n",
              "\n",
              "        async function convertToInteractive(key) {\n",
              "          const element = document.querySelector('#df-f2f3ecd2-c36d-441f-b25d-1af8b2d85ac1');\n",
              "          const dataTable =\n",
              "            await google.colab.kernel.invokeFunction('convertToInteractive',\n",
              "                                                     [key], {});\n",
              "          if (!dataTable) return;\n",
              "\n",
              "          const docLinkHtml = 'Like what you see? Visit the ' +\n",
              "            '<a target=\"_blank\" href=https://colab.research.google.com/notebooks/data_table.ipynb>data table notebook</a>'\n",
              "            + ' to learn more about interactive tables.';\n",
              "          element.innerHTML = '';\n",
              "          dataTable['output_type'] = 'display_data';\n",
              "          await google.colab.output.renderOutput(dataTable, element);\n",
              "          const docLink = document.createElement('div');\n",
              "          docLink.innerHTML = docLinkHtml;\n",
              "          element.appendChild(docLink);\n",
              "        }\n",
              "      </script>\n",
              "    </div>\n",
              "  </div>\n",
              "  "
            ]
          },
          "metadata": {},
          "execution_count": 182
        }
      ]
    },
    {
      "cell_type": "code",
      "source": [
        "df_t2.columns"
      ],
      "metadata": {
        "colab": {
          "base_uri": "https://localhost:8080/"
        },
        "id": "pwevdBIG-4QF",
        "outputId": "397aafa7-1c83-492b-d236-52d9d30aa6ce"
      },
      "execution_count": null,
      "outputs": [
        {
          "output_type": "execute_result",
          "data": {
            "text/plain": [
              "Index(['Quote_dt', 'discount', 'Home_policy_ind', 'zip', 'state_id',\n",
              "       'county_name', 'Agent_cd', 'quoted_amt', 'Prior_carrier_grp',\n",
              "       'credit_score', 'Cov_package_type', 'CAT_zone', 'policy_id',\n",
              "       'number_drivers', 'num_loaned_veh', 'num_owned_veh', 'num_leased_veh',\n",
              "       'total_number_veh', 'convert_ind', 'split', 'primary_parking',\n",
              "       'avg_age', 'avg_safty_rating', 'num_of_higher_educators',\n",
              "       'num_of_females', 'num_of_males', 'num_of_dependents', 'num_of_renters',\n",
              "       'num_of_owners', 'avg_cars_age', 'num_of_cars', 'num_of_leased_cars',\n",
              "       'num_of_loaned_cars', 'num_of_owned_cars', 'quote_year'],\n",
              "      dtype='object')"
            ]
          },
          "metadata": {},
          "execution_count": 183
        }
      ]
    },
    {
      "cell_type": "code",
      "source": [
        "df_t2.drop(columns=['Quote_dt','zip','county_name','Agent_cd','policy_id','primary_parking'],inplace=True)"
      ],
      "metadata": {
        "id": "RWLssVW3-Sxm"
      },
      "execution_count": null,
      "outputs": []
    },
    {
      "cell_type": "code",
      "source": [
        "df_t2.head(2)"
      ],
      "metadata": {
        "colab": {
          "base_uri": "https://localhost:8080/",
          "height": 176
        },
        "id": "UqVsvXka_G0t",
        "outputId": "3c43b8ae-f36d-44e8-867c-98dd9a779568"
      },
      "execution_count": null,
      "outputs": [
        {
          "output_type": "execute_result",
          "data": {
            "text/plain": [
              "  discount Home_policy_ind state_id quoted_amt Prior_carrier_grp  \\\n",
              "0      Yes               Y       NY     $5,153         Carrier_1   \n",
              "1       No               N       NY     $9,870         Carrier_4   \n",
              "\n",
              "   credit_score Cov_package_type  CAT_zone  number_drivers  num_loaned_veh  \\\n",
              "0         613.0             High       2.0               2               1   \n",
              "1         576.0              Low       4.0               1               1   \n",
              "\n",
              "   num_owned_veh  num_leased_veh  total_number_veh  convert_ind  split  \\\n",
              "0              2               0                 3          0.0  Train   \n",
              "1              1               2                 4          NaN   Test   \n",
              "\n",
              "   avg_age  avg_safty_rating  num_of_higher_educators  num_of_females  \\\n",
              "0     49.5              74.0                      1.0               1   \n",
              "1     56.0              62.0                      1.0               0   \n",
              "\n",
              "   num_of_males  num_of_dependents  num_of_renters  num_of_owners  \\\n",
              "0             1                  0               2              0   \n",
              "1             1                  0               1              0   \n",
              "\n",
              "   avg_cars_age  num_of_cars  num_of_leased_cars  num_of_loaned_cars  \\\n",
              "0          5.25            4                   0                   2   \n",
              "1          2.75            4                   1                   1   \n",
              "\n",
              "   num_of_owned_cars  quote_year  \n",
              "0                  2        2015  \n",
              "1                  2        2015  "
            ],
            "text/html": [
              "\n",
              "  <div id=\"df-3b3b1fe7-2708-4e40-81ce-974e6d7a52ab\">\n",
              "    <div class=\"colab-df-container\">\n",
              "      <div>\n",
              "<style scoped>\n",
              "    .dataframe tbody tr th:only-of-type {\n",
              "        vertical-align: middle;\n",
              "    }\n",
              "\n",
              "    .dataframe tbody tr th {\n",
              "        vertical-align: top;\n",
              "    }\n",
              "\n",
              "    .dataframe thead th {\n",
              "        text-align: right;\n",
              "    }\n",
              "</style>\n",
              "<table border=\"1\" class=\"dataframe\">\n",
              "  <thead>\n",
              "    <tr style=\"text-align: right;\">\n",
              "      <th></th>\n",
              "      <th>discount</th>\n",
              "      <th>Home_policy_ind</th>\n",
              "      <th>state_id</th>\n",
              "      <th>quoted_amt</th>\n",
              "      <th>Prior_carrier_grp</th>\n",
              "      <th>credit_score</th>\n",
              "      <th>Cov_package_type</th>\n",
              "      <th>CAT_zone</th>\n",
              "      <th>number_drivers</th>\n",
              "      <th>num_loaned_veh</th>\n",
              "      <th>num_owned_veh</th>\n",
              "      <th>num_leased_veh</th>\n",
              "      <th>total_number_veh</th>\n",
              "      <th>convert_ind</th>\n",
              "      <th>split</th>\n",
              "      <th>avg_age</th>\n",
              "      <th>avg_safty_rating</th>\n",
              "      <th>num_of_higher_educators</th>\n",
              "      <th>num_of_females</th>\n",
              "      <th>num_of_males</th>\n",
              "      <th>num_of_dependents</th>\n",
              "      <th>num_of_renters</th>\n",
              "      <th>num_of_owners</th>\n",
              "      <th>avg_cars_age</th>\n",
              "      <th>num_of_cars</th>\n",
              "      <th>num_of_leased_cars</th>\n",
              "      <th>num_of_loaned_cars</th>\n",
              "      <th>num_of_owned_cars</th>\n",
              "      <th>quote_year</th>\n",
              "    </tr>\n",
              "  </thead>\n",
              "  <tbody>\n",
              "    <tr>\n",
              "      <th>0</th>\n",
              "      <td>Yes</td>\n",
              "      <td>Y</td>\n",
              "      <td>NY</td>\n",
              "      <td>$5,153</td>\n",
              "      <td>Carrier_1</td>\n",
              "      <td>613.0</td>\n",
              "      <td>High</td>\n",
              "      <td>2.0</td>\n",
              "      <td>2</td>\n",
              "      <td>1</td>\n",
              "      <td>2</td>\n",
              "      <td>0</td>\n",
              "      <td>3</td>\n",
              "      <td>0.0</td>\n",
              "      <td>Train</td>\n",
              "      <td>49.5</td>\n",
              "      <td>74.0</td>\n",
              "      <td>1.0</td>\n",
              "      <td>1</td>\n",
              "      <td>1</td>\n",
              "      <td>0</td>\n",
              "      <td>2</td>\n",
              "      <td>0</td>\n",
              "      <td>5.25</td>\n",
              "      <td>4</td>\n",
              "      <td>0</td>\n",
              "      <td>2</td>\n",
              "      <td>2</td>\n",
              "      <td>2015</td>\n",
              "    </tr>\n",
              "    <tr>\n",
              "      <th>1</th>\n",
              "      <td>No</td>\n",
              "      <td>N</td>\n",
              "      <td>NY</td>\n",
              "      <td>$9,870</td>\n",
              "      <td>Carrier_4</td>\n",
              "      <td>576.0</td>\n",
              "      <td>Low</td>\n",
              "      <td>4.0</td>\n",
              "      <td>1</td>\n",
              "      <td>1</td>\n",
              "      <td>1</td>\n",
              "      <td>2</td>\n",
              "      <td>4</td>\n",
              "      <td>NaN</td>\n",
              "      <td>Test</td>\n",
              "      <td>56.0</td>\n",
              "      <td>62.0</td>\n",
              "      <td>1.0</td>\n",
              "      <td>0</td>\n",
              "      <td>1</td>\n",
              "      <td>0</td>\n",
              "      <td>1</td>\n",
              "      <td>0</td>\n",
              "      <td>2.75</td>\n",
              "      <td>4</td>\n",
              "      <td>1</td>\n",
              "      <td>1</td>\n",
              "      <td>2</td>\n",
              "      <td>2015</td>\n",
              "    </tr>\n",
              "  </tbody>\n",
              "</table>\n",
              "</div>\n",
              "      <button class=\"colab-df-convert\" onclick=\"convertToInteractive('df-3b3b1fe7-2708-4e40-81ce-974e6d7a52ab')\"\n",
              "              title=\"Convert this dataframe to an interactive table.\"\n",
              "              style=\"display:none;\">\n",
              "        \n",
              "  <svg xmlns=\"http://www.w3.org/2000/svg\" height=\"24px\"viewBox=\"0 0 24 24\"\n",
              "       width=\"24px\">\n",
              "    <path d=\"M0 0h24v24H0V0z\" fill=\"none\"/>\n",
              "    <path d=\"M18.56 5.44l.94 2.06.94-2.06 2.06-.94-2.06-.94-.94-2.06-.94 2.06-2.06.94zm-11 1L8.5 8.5l.94-2.06 2.06-.94-2.06-.94L8.5 2.5l-.94 2.06-2.06.94zm10 10l.94 2.06.94-2.06 2.06-.94-2.06-.94-.94-2.06-.94 2.06-2.06.94z\"/><path d=\"M17.41 7.96l-1.37-1.37c-.4-.4-.92-.59-1.43-.59-.52 0-1.04.2-1.43.59L10.3 9.45l-7.72 7.72c-.78.78-.78 2.05 0 2.83L4 21.41c.39.39.9.59 1.41.59.51 0 1.02-.2 1.41-.59l7.78-7.78 2.81-2.81c.8-.78.8-2.07 0-2.86zM5.41 20L4 18.59l7.72-7.72 1.47 1.35L5.41 20z\"/>\n",
              "  </svg>\n",
              "      </button>\n",
              "      \n",
              "  <style>\n",
              "    .colab-df-container {\n",
              "      display:flex;\n",
              "      flex-wrap:wrap;\n",
              "      gap: 12px;\n",
              "    }\n",
              "\n",
              "    .colab-df-convert {\n",
              "      background-color: #E8F0FE;\n",
              "      border: none;\n",
              "      border-radius: 50%;\n",
              "      cursor: pointer;\n",
              "      display: none;\n",
              "      fill: #1967D2;\n",
              "      height: 32px;\n",
              "      padding: 0 0 0 0;\n",
              "      width: 32px;\n",
              "    }\n",
              "\n",
              "    .colab-df-convert:hover {\n",
              "      background-color: #E2EBFA;\n",
              "      box-shadow: 0px 1px 2px rgba(60, 64, 67, 0.3), 0px 1px 3px 1px rgba(60, 64, 67, 0.15);\n",
              "      fill: #174EA6;\n",
              "    }\n",
              "\n",
              "    [theme=dark] .colab-df-convert {\n",
              "      background-color: #3B4455;\n",
              "      fill: #D2E3FC;\n",
              "    }\n",
              "\n",
              "    [theme=dark] .colab-df-convert:hover {\n",
              "      background-color: #434B5C;\n",
              "      box-shadow: 0px 1px 3px 1px rgba(0, 0, 0, 0.15);\n",
              "      filter: drop-shadow(0px 1px 2px rgba(0, 0, 0, 0.3));\n",
              "      fill: #FFFFFF;\n",
              "    }\n",
              "  </style>\n",
              "\n",
              "      <script>\n",
              "        const buttonEl =\n",
              "          document.querySelector('#df-3b3b1fe7-2708-4e40-81ce-974e6d7a52ab button.colab-df-convert');\n",
              "        buttonEl.style.display =\n",
              "          google.colab.kernel.accessAllowed ? 'block' : 'none';\n",
              "\n",
              "        async function convertToInteractive(key) {\n",
              "          const element = document.querySelector('#df-3b3b1fe7-2708-4e40-81ce-974e6d7a52ab');\n",
              "          const dataTable =\n",
              "            await google.colab.kernel.invokeFunction('convertToInteractive',\n",
              "                                                     [key], {});\n",
              "          if (!dataTable) return;\n",
              "\n",
              "          const docLinkHtml = 'Like what you see? Visit the ' +\n",
              "            '<a target=\"_blank\" href=https://colab.research.google.com/notebooks/data_table.ipynb>data table notebook</a>'\n",
              "            + ' to learn more about interactive tables.';\n",
              "          element.innerHTML = '';\n",
              "          dataTable['output_type'] = 'display_data';\n",
              "          await google.colab.output.renderOutput(dataTable, element);\n",
              "          const docLink = document.createElement('div');\n",
              "          docLink.innerHTML = docLinkHtml;\n",
              "          element.appendChild(docLink);\n",
              "        }\n",
              "      </script>\n",
              "    </div>\n",
              "  </div>\n",
              "  "
            ]
          },
          "metadata": {},
          "execution_count": 185
        }
      ]
    },
    {
      "cell_type": "code",
      "source": [
        "# Convert quoted amt to a continuous variable\n",
        "df_t2['quoted_amt'] = df_t2['quoted_amt'].str.replace('$','')\n",
        "df_t2['quoted_amt'] = df_t2['quoted_amt'].str.replace(',','')\n",
        "df_t2['quoted_amt']=pd.to_numeric(df_t2['quoted_amt']) \n",
        "df_t2.head(2)\n",
        "\n",
        "# https://datatofish.com/replace-character-pandas-dataframe/\n",
        "# https://stackoverflow.com/questions/15891038/change-column-type-in-pandas"
      ],
      "metadata": {
        "colab": {
          "base_uri": "https://localhost:8080/",
          "height": 193
        },
        "collapsed": true,
        "id": "M32bAr2S_lZc",
        "outputId": "f09fa86c-cfca-42d3-b430-81b9500170b7"
      },
      "execution_count": null,
      "outputs": [
        {
          "output_type": "stream",
          "name": "stderr",
          "text": [
            "The default value of regex will change from True to False in a future version. In addition, single character regular expressions will *not* be treated as literal strings when regex=True.\n"
          ]
        },
        {
          "output_type": "execute_result",
          "data": {
            "text/plain": [
              "  discount Home_policy_ind state_id  quoted_amt Prior_carrier_grp  \\\n",
              "0      Yes               Y       NY      5153.0         Carrier_1   \n",
              "1       No               N       NY      9870.0         Carrier_4   \n",
              "\n",
              "   credit_score Cov_package_type  CAT_zone  number_drivers  num_loaned_veh  \\\n",
              "0         613.0             High       2.0               2               1   \n",
              "1         576.0              Low       4.0               1               1   \n",
              "\n",
              "   num_owned_veh  num_leased_veh  total_number_veh  convert_ind  split  \\\n",
              "0              2               0                 3          0.0  Train   \n",
              "1              1               2                 4          NaN   Test   \n",
              "\n",
              "   avg_age  avg_safty_rating  num_of_higher_educators  num_of_females  \\\n",
              "0     49.5              74.0                      1.0               1   \n",
              "1     56.0              62.0                      1.0               0   \n",
              "\n",
              "   num_of_males  num_of_dependents  num_of_renters  num_of_owners  \\\n",
              "0             1                  0               2              0   \n",
              "1             1                  0               1              0   \n",
              "\n",
              "   avg_cars_age  num_of_cars  num_of_leased_cars  num_of_loaned_cars  \\\n",
              "0          5.25            4                   0                   2   \n",
              "1          2.75            4                   1                   1   \n",
              "\n",
              "   num_of_owned_cars  quote_year  \n",
              "0                  2        2015  \n",
              "1                  2        2015  "
            ],
            "text/html": [
              "\n",
              "  <div id=\"df-b763a668-ff33-475f-a8ae-6a389ec1bd39\">\n",
              "    <div class=\"colab-df-container\">\n",
              "      <div>\n",
              "<style scoped>\n",
              "    .dataframe tbody tr th:only-of-type {\n",
              "        vertical-align: middle;\n",
              "    }\n",
              "\n",
              "    .dataframe tbody tr th {\n",
              "        vertical-align: top;\n",
              "    }\n",
              "\n",
              "    .dataframe thead th {\n",
              "        text-align: right;\n",
              "    }\n",
              "</style>\n",
              "<table border=\"1\" class=\"dataframe\">\n",
              "  <thead>\n",
              "    <tr style=\"text-align: right;\">\n",
              "      <th></th>\n",
              "      <th>discount</th>\n",
              "      <th>Home_policy_ind</th>\n",
              "      <th>state_id</th>\n",
              "      <th>quoted_amt</th>\n",
              "      <th>Prior_carrier_grp</th>\n",
              "      <th>credit_score</th>\n",
              "      <th>Cov_package_type</th>\n",
              "      <th>CAT_zone</th>\n",
              "      <th>number_drivers</th>\n",
              "      <th>num_loaned_veh</th>\n",
              "      <th>num_owned_veh</th>\n",
              "      <th>num_leased_veh</th>\n",
              "      <th>total_number_veh</th>\n",
              "      <th>convert_ind</th>\n",
              "      <th>split</th>\n",
              "      <th>avg_age</th>\n",
              "      <th>avg_safty_rating</th>\n",
              "      <th>num_of_higher_educators</th>\n",
              "      <th>num_of_females</th>\n",
              "      <th>num_of_males</th>\n",
              "      <th>num_of_dependents</th>\n",
              "      <th>num_of_renters</th>\n",
              "      <th>num_of_owners</th>\n",
              "      <th>avg_cars_age</th>\n",
              "      <th>num_of_cars</th>\n",
              "      <th>num_of_leased_cars</th>\n",
              "      <th>num_of_loaned_cars</th>\n",
              "      <th>num_of_owned_cars</th>\n",
              "      <th>quote_year</th>\n",
              "    </tr>\n",
              "  </thead>\n",
              "  <tbody>\n",
              "    <tr>\n",
              "      <th>0</th>\n",
              "      <td>Yes</td>\n",
              "      <td>Y</td>\n",
              "      <td>NY</td>\n",
              "      <td>5153.0</td>\n",
              "      <td>Carrier_1</td>\n",
              "      <td>613.0</td>\n",
              "      <td>High</td>\n",
              "      <td>2.0</td>\n",
              "      <td>2</td>\n",
              "      <td>1</td>\n",
              "      <td>2</td>\n",
              "      <td>0</td>\n",
              "      <td>3</td>\n",
              "      <td>0.0</td>\n",
              "      <td>Train</td>\n",
              "      <td>49.5</td>\n",
              "      <td>74.0</td>\n",
              "      <td>1.0</td>\n",
              "      <td>1</td>\n",
              "      <td>1</td>\n",
              "      <td>0</td>\n",
              "      <td>2</td>\n",
              "      <td>0</td>\n",
              "      <td>5.25</td>\n",
              "      <td>4</td>\n",
              "      <td>0</td>\n",
              "      <td>2</td>\n",
              "      <td>2</td>\n",
              "      <td>2015</td>\n",
              "    </tr>\n",
              "    <tr>\n",
              "      <th>1</th>\n",
              "      <td>No</td>\n",
              "      <td>N</td>\n",
              "      <td>NY</td>\n",
              "      <td>9870.0</td>\n",
              "      <td>Carrier_4</td>\n",
              "      <td>576.0</td>\n",
              "      <td>Low</td>\n",
              "      <td>4.0</td>\n",
              "      <td>1</td>\n",
              "      <td>1</td>\n",
              "      <td>1</td>\n",
              "      <td>2</td>\n",
              "      <td>4</td>\n",
              "      <td>NaN</td>\n",
              "      <td>Test</td>\n",
              "      <td>56.0</td>\n",
              "      <td>62.0</td>\n",
              "      <td>1.0</td>\n",
              "      <td>0</td>\n",
              "      <td>1</td>\n",
              "      <td>0</td>\n",
              "      <td>1</td>\n",
              "      <td>0</td>\n",
              "      <td>2.75</td>\n",
              "      <td>4</td>\n",
              "      <td>1</td>\n",
              "      <td>1</td>\n",
              "      <td>2</td>\n",
              "      <td>2015</td>\n",
              "    </tr>\n",
              "  </tbody>\n",
              "</table>\n",
              "</div>\n",
              "      <button class=\"colab-df-convert\" onclick=\"convertToInteractive('df-b763a668-ff33-475f-a8ae-6a389ec1bd39')\"\n",
              "              title=\"Convert this dataframe to an interactive table.\"\n",
              "              style=\"display:none;\">\n",
              "        \n",
              "  <svg xmlns=\"http://www.w3.org/2000/svg\" height=\"24px\"viewBox=\"0 0 24 24\"\n",
              "       width=\"24px\">\n",
              "    <path d=\"M0 0h24v24H0V0z\" fill=\"none\"/>\n",
              "    <path d=\"M18.56 5.44l.94 2.06.94-2.06 2.06-.94-2.06-.94-.94-2.06-.94 2.06-2.06.94zm-11 1L8.5 8.5l.94-2.06 2.06-.94-2.06-.94L8.5 2.5l-.94 2.06-2.06.94zm10 10l.94 2.06.94-2.06 2.06-.94-2.06-.94-.94-2.06-.94 2.06-2.06.94z\"/><path d=\"M17.41 7.96l-1.37-1.37c-.4-.4-.92-.59-1.43-.59-.52 0-1.04.2-1.43.59L10.3 9.45l-7.72 7.72c-.78.78-.78 2.05 0 2.83L4 21.41c.39.39.9.59 1.41.59.51 0 1.02-.2 1.41-.59l7.78-7.78 2.81-2.81c.8-.78.8-2.07 0-2.86zM5.41 20L4 18.59l7.72-7.72 1.47 1.35L5.41 20z\"/>\n",
              "  </svg>\n",
              "      </button>\n",
              "      \n",
              "  <style>\n",
              "    .colab-df-container {\n",
              "      display:flex;\n",
              "      flex-wrap:wrap;\n",
              "      gap: 12px;\n",
              "    }\n",
              "\n",
              "    .colab-df-convert {\n",
              "      background-color: #E8F0FE;\n",
              "      border: none;\n",
              "      border-radius: 50%;\n",
              "      cursor: pointer;\n",
              "      display: none;\n",
              "      fill: #1967D2;\n",
              "      height: 32px;\n",
              "      padding: 0 0 0 0;\n",
              "      width: 32px;\n",
              "    }\n",
              "\n",
              "    .colab-df-convert:hover {\n",
              "      background-color: #E2EBFA;\n",
              "      box-shadow: 0px 1px 2px rgba(60, 64, 67, 0.3), 0px 1px 3px 1px rgba(60, 64, 67, 0.15);\n",
              "      fill: #174EA6;\n",
              "    }\n",
              "\n",
              "    [theme=dark] .colab-df-convert {\n",
              "      background-color: #3B4455;\n",
              "      fill: #D2E3FC;\n",
              "    }\n",
              "\n",
              "    [theme=dark] .colab-df-convert:hover {\n",
              "      background-color: #434B5C;\n",
              "      box-shadow: 0px 1px 3px 1px rgba(0, 0, 0, 0.15);\n",
              "      filter: drop-shadow(0px 1px 2px rgba(0, 0, 0, 0.3));\n",
              "      fill: #FFFFFF;\n",
              "    }\n",
              "  </style>\n",
              "\n",
              "      <script>\n",
              "        const buttonEl =\n",
              "          document.querySelector('#df-b763a668-ff33-475f-a8ae-6a389ec1bd39 button.colab-df-convert');\n",
              "        buttonEl.style.display =\n",
              "          google.colab.kernel.accessAllowed ? 'block' : 'none';\n",
              "\n",
              "        async function convertToInteractive(key) {\n",
              "          const element = document.querySelector('#df-b763a668-ff33-475f-a8ae-6a389ec1bd39');\n",
              "          const dataTable =\n",
              "            await google.colab.kernel.invokeFunction('convertToInteractive',\n",
              "                                                     [key], {});\n",
              "          if (!dataTable) return;\n",
              "\n",
              "          const docLinkHtml = 'Like what you see? Visit the ' +\n",
              "            '<a target=\"_blank\" href=https://colab.research.google.com/notebooks/data_table.ipynb>data table notebook</a>'\n",
              "            + ' to learn more about interactive tables.';\n",
              "          element.innerHTML = '';\n",
              "          dataTable['output_type'] = 'display_data';\n",
              "          await google.colab.output.renderOutput(dataTable, element);\n",
              "          const docLink = document.createElement('div');\n",
              "          docLink.innerHTML = docLinkHtml;\n",
              "          element.appendChild(docLink);\n",
              "        }\n",
              "      </script>\n",
              "    </div>\n",
              "  </div>\n",
              "  "
            ]
          },
          "metadata": {},
          "execution_count": 186
        }
      ]
    },
    {
      "cell_type": "code",
      "source": [
        "df_copy=df_t2.copy()"
      ],
      "metadata": {
        "id": "z_7D9zbKAlwq"
      },
      "execution_count": null,
      "outputs": []
    },
    {
      "cell_type": "markdown",
      "source": [
        "## Data Cleaning"
      ],
      "metadata": {
        "id": "QcwkzQrzGofj"
      }
    },
    {
      "cell_type": "code",
      "source": [
        "df_t2.isna().sum()"
      ],
      "metadata": {
        "colab": {
          "base_uri": "https://localhost:8080/"
        },
        "id": "pXLmKamQGqPr",
        "outputId": "8e966e3e-95de-49b5-99dc-4092d2a62bdb"
      },
      "execution_count": null,
      "outputs": [
        {
          "output_type": "execute_result",
          "data": {
            "text/plain": [
              "discount                       0\n",
              "Home_policy_ind                0\n",
              "state_id                       0\n",
              "quoted_amt                   112\n",
              "Prior_carrier_grp           5000\n",
              "credit_score                 300\n",
              "Cov_package_type             770\n",
              "CAT_zone                     250\n",
              "number_drivers                 0\n",
              "num_loaned_veh                 0\n",
              "num_owned_veh                  0\n",
              "num_leased_veh                 0\n",
              "total_number_veh               0\n",
              "convert_ind                12291\n",
              "split                          0\n",
              "avg_age                        0\n",
              "avg_safty_rating              15\n",
              "num_of_higher_educators        0\n",
              "num_of_females                 0\n",
              "num_of_males                   0\n",
              "num_of_dependents              0\n",
              "num_of_renters                 0\n",
              "num_of_owners                  0\n",
              "avg_cars_age                  13\n",
              "num_of_cars                    0\n",
              "num_of_leased_cars             0\n",
              "num_of_loaned_cars             0\n",
              "num_of_owned_cars              0\n",
              "quote_year                     0\n",
              "dtype: int64"
            ]
          },
          "metadata": {},
          "execution_count": 188
        }
      ]
    },
    {
      "cell_type": "code",
      "source": [
        "df_t2.info()"
      ],
      "metadata": {
        "colab": {
          "base_uri": "https://localhost:8080/"
        },
        "id": "LXOmdrDwIB5K",
        "outputId": "e7ce5d5c-d558-4a64-def1-7cd4654705c1"
      },
      "execution_count": null,
      "outputs": [
        {
          "output_type": "stream",
          "name": "stdout",
          "text": [
            "<class 'pandas.core.frame.DataFrame'>\n",
            "Int64Index: 49162 entries, 0 to 49161\n",
            "Data columns (total 29 columns):\n",
            " #   Column                   Non-Null Count  Dtype  \n",
            "---  ------                   --------------  -----  \n",
            " 0   discount                 49162 non-null  object \n",
            " 1   Home_policy_ind          49162 non-null  object \n",
            " 2   state_id                 49162 non-null  object \n",
            " 3   quoted_amt               49050 non-null  float64\n",
            " 4   Prior_carrier_grp        44162 non-null  object \n",
            " 5   credit_score             48862 non-null  float64\n",
            " 6   Cov_package_type         48392 non-null  object \n",
            " 7   CAT_zone                 48912 non-null  float64\n",
            " 8   number_drivers           49162 non-null  int64  \n",
            " 9   num_loaned_veh           49162 non-null  int64  \n",
            " 10  num_owned_veh            49162 non-null  int64  \n",
            " 11  num_leased_veh           49162 non-null  int64  \n",
            " 12  total_number_veh         49162 non-null  int64  \n",
            " 13  convert_ind              36871 non-null  float64\n",
            " 14  split                    49162 non-null  object \n",
            " 15  avg_age                  49162 non-null  float64\n",
            " 16  avg_safty_rating         49147 non-null  float64\n",
            " 17  num_of_higher_educators  49162 non-null  float64\n",
            " 18  num_of_females           49162 non-null  uint8  \n",
            " 19  num_of_males             49162 non-null  uint8  \n",
            " 20  num_of_dependents        49162 non-null  uint8  \n",
            " 21  num_of_renters           49162 non-null  uint8  \n",
            " 22  num_of_owners            49162 non-null  uint8  \n",
            " 23  avg_cars_age             49149 non-null  float64\n",
            " 24  num_of_cars              49162 non-null  int64  \n",
            " 25  num_of_leased_cars       49162 non-null  uint8  \n",
            " 26  num_of_loaned_cars       49162 non-null  uint8  \n",
            " 27  num_of_owned_cars        49162 non-null  uint8  \n",
            " 28  quote_year               49162 non-null  int64  \n",
            "dtypes: float64(8), int64(7), object(6), uint8(8)\n",
            "memory usage: 8.6+ MB\n"
          ]
        }
      ]
    },
    {
      "cell_type": "code",
      "source": [
        "cont_col_list=df_t2.describe().columns\n",
        "cont_col_list"
      ],
      "metadata": {
        "colab": {
          "base_uri": "https://localhost:8080/"
        },
        "id": "wKm5P3PzIOgw",
        "outputId": "01c79b55-5d07-4991-8b3c-3e1e9a2553ac"
      },
      "execution_count": null,
      "outputs": [
        {
          "output_type": "execute_result",
          "data": {
            "text/plain": [
              "Index(['quoted_amt', 'credit_score', 'CAT_zone', 'number_drivers',\n",
              "       'num_loaned_veh', 'num_owned_veh', 'num_leased_veh', 'total_number_veh',\n",
              "       'convert_ind', 'avg_age', 'avg_safty_rating', 'num_of_higher_educators',\n",
              "       'num_of_females', 'num_of_males', 'num_of_dependents', 'num_of_renters',\n",
              "       'num_of_owners', 'avg_cars_age', 'num_of_cars', 'num_of_leased_cars',\n",
              "       'num_of_loaned_cars', 'num_of_owned_cars', 'quote_year'],\n",
              "      dtype='object')"
            ]
          },
          "metadata": {},
          "execution_count": 190
        }
      ]
    },
    {
      "cell_type": "code",
      "source": [
        "#Step 1 -Replace NULLs with median for other variables\n",
        "for i in df_t2.describe().columns:\n",
        "  if i!='convert_ind':\n",
        "    df_t2[i].fillna(df_t2[i].median(),inplace=True)    "
      ],
      "metadata": {
        "id": "6fcmy4v1HMFU"
      },
      "execution_count": null,
      "outputs": []
    },
    {
      "cell_type": "code",
      "source": [
        "df_t2.isna().sum()"
      ],
      "metadata": {
        "colab": {
          "base_uri": "https://localhost:8080/"
        },
        "id": "n1R_PZUNI4pI",
        "outputId": "97ec4da5-3f5b-4b6e-ba66-83a7b0cf617d"
      },
      "execution_count": null,
      "outputs": [
        {
          "output_type": "execute_result",
          "data": {
            "text/plain": [
              "discount                       0\n",
              "Home_policy_ind                0\n",
              "state_id                       0\n",
              "quoted_amt                     0\n",
              "Prior_carrier_grp           5000\n",
              "credit_score                   0\n",
              "Cov_package_type             770\n",
              "CAT_zone                       0\n",
              "number_drivers                 0\n",
              "num_loaned_veh                 0\n",
              "num_owned_veh                  0\n",
              "num_leased_veh                 0\n",
              "total_number_veh               0\n",
              "convert_ind                12291\n",
              "split                          0\n",
              "avg_age                        0\n",
              "avg_safty_rating               0\n",
              "num_of_higher_educators        0\n",
              "num_of_females                 0\n",
              "num_of_males                   0\n",
              "num_of_dependents              0\n",
              "num_of_renters                 0\n",
              "num_of_owners                  0\n",
              "avg_cars_age                   0\n",
              "num_of_cars                    0\n",
              "num_of_leased_cars             0\n",
              "num_of_loaned_cars             0\n",
              "num_of_owned_cars              0\n",
              "quote_year                     0\n",
              "dtype: int64"
            ]
          },
          "metadata": {},
          "execution_count": 192
        }
      ]
    },
    {
      "cell_type": "code",
      "source": [
        "# Check for NULLs again\n",
        "# All these columsn should be categorical variables \n",
        "cnt=0\n",
        "null_catg_cols=[]\n",
        "for i in df_t2.columns:\n",
        "  if(df_t2[i].isnull().sum().sum()>0):\n",
        "    print(\"Column\",i,df_t2[i].isnull().sum().sum())\n",
        "    null_catg_cols.append(i)\n",
        "    cnt=cnt+1\n",
        "print(\"Number of columns with nulls\",cnt)\n",
        "null_catg_cols"
      ],
      "metadata": {
        "colab": {
          "base_uri": "https://localhost:8080/"
        },
        "id": "W5i5xmDKIyml",
        "outputId": "dd86a150-eff4-4adc-ef3e-bb6812dcd835"
      },
      "execution_count": null,
      "outputs": [
        {
          "output_type": "stream",
          "name": "stdout",
          "text": [
            "Column Prior_carrier_grp 5000\n",
            "Column Cov_package_type 770\n",
            "Column convert_ind 12291\n",
            "Number of columns with nulls 3\n"
          ]
        },
        {
          "output_type": "execute_result",
          "data": {
            "text/plain": [
              "['Prior_carrier_grp', 'Cov_package_type', 'convert_ind']"
            ]
          },
          "metadata": {},
          "execution_count": 193
        }
      ]
    },
    {
      "cell_type": "code",
      "source": [
        "#Step 3 - For categorical variables, replace NULLS with Unknown\n",
        "for i in null_catg_cols:\n",
        "  if i!='convert_ind':\n",
        "    df_t2[i].fillna('Unknown',inplace=True)"
      ],
      "metadata": {
        "id": "X9Jku6VKJJJj"
      },
      "execution_count": null,
      "outputs": []
    },
    {
      "cell_type": "code",
      "source": [
        "df_t2.isna().sum()"
      ],
      "metadata": {
        "colab": {
          "base_uri": "https://localhost:8080/"
        },
        "id": "IuSvqhbdJalL",
        "outputId": "07b04ea1-3ad0-4f6c-fca3-be080c2e69e2"
      },
      "execution_count": null,
      "outputs": [
        {
          "output_type": "execute_result",
          "data": {
            "text/plain": [
              "discount                       0\n",
              "Home_policy_ind                0\n",
              "state_id                       0\n",
              "quoted_amt                     0\n",
              "Prior_carrier_grp              0\n",
              "credit_score                   0\n",
              "Cov_package_type               0\n",
              "CAT_zone                       0\n",
              "number_drivers                 0\n",
              "num_loaned_veh                 0\n",
              "num_owned_veh                  0\n",
              "num_leased_veh                 0\n",
              "total_number_veh               0\n",
              "convert_ind                12291\n",
              "split                          0\n",
              "avg_age                        0\n",
              "avg_safty_rating               0\n",
              "num_of_higher_educators        0\n",
              "num_of_females                 0\n",
              "num_of_males                   0\n",
              "num_of_dependents              0\n",
              "num_of_renters                 0\n",
              "num_of_owners                  0\n",
              "avg_cars_age                   0\n",
              "num_of_cars                    0\n",
              "num_of_leased_cars             0\n",
              "num_of_loaned_cars             0\n",
              "num_of_owned_cars              0\n",
              "quote_year                     0\n",
              "dtype: int64"
            ]
          },
          "metadata": {},
          "execution_count": 195
        }
      ]
    },
    {
      "cell_type": "code",
      "source": [
        "#Train dataset\n",
        "df=df_t2[df_t2['split']=='Train']"
      ],
      "metadata": {
        "id": "h-0-UqcIJneK"
      },
      "execution_count": null,
      "outputs": []
    },
    {
      "cell_type": "code",
      "source": [
        "df.info()"
      ],
      "metadata": {
        "colab": {
          "base_uri": "https://localhost:8080/"
        },
        "outputId": "fbd1b589-3776-4807-d1e0-217c67d8def3",
        "id": "PwlPaR7WJneS"
      },
      "execution_count": null,
      "outputs": [
        {
          "output_type": "stream",
          "name": "stdout",
          "text": [
            "<class 'pandas.core.frame.DataFrame'>\n",
            "Int64Index: 36871 entries, 0 to 49161\n",
            "Data columns (total 29 columns):\n",
            " #   Column                   Non-Null Count  Dtype  \n",
            "---  ------                   --------------  -----  \n",
            " 0   discount                 36871 non-null  object \n",
            " 1   Home_policy_ind          36871 non-null  object \n",
            " 2   state_id                 36871 non-null  object \n",
            " 3   quoted_amt               36871 non-null  float64\n",
            " 4   Prior_carrier_grp        36871 non-null  object \n",
            " 5   credit_score             36871 non-null  float64\n",
            " 6   Cov_package_type         36871 non-null  object \n",
            " 7   CAT_zone                 36871 non-null  float64\n",
            " 8   number_drivers           36871 non-null  int64  \n",
            " 9   num_loaned_veh           36871 non-null  int64  \n",
            " 10  num_owned_veh            36871 non-null  int64  \n",
            " 11  num_leased_veh           36871 non-null  int64  \n",
            " 12  total_number_veh         36871 non-null  int64  \n",
            " 13  convert_ind              36871 non-null  float64\n",
            " 14  split                    36871 non-null  object \n",
            " 15  avg_age                  36871 non-null  float64\n",
            " 16  avg_safty_rating         36871 non-null  float64\n",
            " 17  num_of_higher_educators  36871 non-null  float64\n",
            " 18  num_of_females           36871 non-null  uint8  \n",
            " 19  num_of_males             36871 non-null  uint8  \n",
            " 20  num_of_dependents        36871 non-null  uint8  \n",
            " 21  num_of_renters           36871 non-null  uint8  \n",
            " 22  num_of_owners            36871 non-null  uint8  \n",
            " 23  avg_cars_age             36871 non-null  float64\n",
            " 24  num_of_cars              36871 non-null  int64  \n",
            " 25  num_of_leased_cars       36871 non-null  uint8  \n",
            " 26  num_of_loaned_cars       36871 non-null  uint8  \n",
            " 27  num_of_owned_cars        36871 non-null  uint8  \n",
            " 28  quote_year               36871 non-null  int64  \n",
            "dtypes: float64(8), int64(7), object(6), uint8(8)\n",
            "memory usage: 6.5+ MB\n"
          ]
        }
      ]
    },
    {
      "cell_type": "code",
      "source": [
        "#create counts of df for plotting categorical variables using Numpy\n",
        "convert_ind_class = np.unique(df['convert_ind'], return_counts=True)\n",
        "print('target_class = {}\\n'.format(convert_ind_class))"
      ],
      "metadata": {
        "colab": {
          "base_uri": "https://localhost:8080/"
        },
        "outputId": "0deeae85-b3e0-4898-b357-01a1c97d4ec3",
        "id": "6YF4oPnuJneS"
      },
      "execution_count": null,
      "outputs": [
        {
          "output_type": "stream",
          "name": "stdout",
          "text": [
            "target_class = (array([0., 1.]), array([32751,  4120]))\n",
            "\n"
          ]
        }
      ]
    },
    {
      "cell_type": "code",
      "source": [
        "# create fontdicts for formatting figure text\n",
        "axtitle_dict = {'family': 'serif','color': 'darkred','weight': 'bold','size': 16}\n",
        "axlab_dict = {'family': 'serif', 'color': 'black','size': 14}"
      ],
      "metadata": {
        "id": "_nF4kaa8JneT"
      },
      "execution_count": null,
      "outputs": []
    },
    {
      "cell_type": "code",
      "source": [
        "# Display a frequency distribution for target_class\n",
        "fig = plt.figure(figsize=[16,15]); # Define figure size and store it in a variable\n",
        "ax1 = fig.add_subplot(3, 3, 2);    #Use subplot function to create a plot of the size defined\n",
        "sns.barplot(x=list(convert_ind_class[0]), y=list(convert_ind_class[1]), ax=ax1 ); # Add x labels for bar plot from array defined above. Similarly for y-axis. ax defines which plot the bar should return to\n",
        "ax1.text(0, 2800, '{}%' .format(str(round(convert_ind_class[1][0]/sum(convert_ind_class[1])*100,1))),  horizontalalignment='center') # Add the text and define where it has to be added (0,2800 defines x and y positions for the text)\n",
        "ax1.text(1, 500, '{}%' .format(str(round(convert_ind_class[1][1]/sum(convert_ind_class[1])*100,1))),  horizontalalignment='center')  # Add the text\n",
        "ax1.set_title('Conversion Distribution', fontdict=axtitle_dict); # Set the title\n",
        "ax1.set_xlabel('Status', fontdict=axlab_dict);  # Set the xlabel\n",
        "ax1.set_ylabel('Count', fontdict=axlab_dict);         # Set the ylabel\n",
        "#ax1.bar_label(ax1.containers[0])\n",
        "plt.show()"
      ],
      "metadata": {
        "colab": {
          "base_uri": "https://localhost:8080/",
          "height": 325
        },
        "outputId": "2a5a3ed1-cf72-4f87-cff1-b1d5a80b8962",
        "id": "eHMwuPhzJneT"
      },
      "execution_count": null,
      "outputs": [
        {
          "output_type": "display_data",
          "data": {
            "text/plain": [
              "<Figure size 1152x1080 with 1 Axes>"
            ],
            "image/png": "[encoded data removed]"
          },
          "metadata": {
            "needs_background": "light"
          }
        }
      ]
    },
    {
      "cell_type": "markdown",
      "source": [
        "11% of customers are converted after sharing the quote"
      ],
      "metadata": {
        "id": "-jxQZwynJneT"
      }
    },
    {
      "cell_type": "markdown",
      "source": [
        "## Data Encoding"
      ],
      "metadata": {
        "id": "ic-OnZ9hGlJ8"
      }
    },
    {
      "cell_type": "code",
      "source": [
        "df2 = pd.get_dummies(df, columns=['discount','Home_policy_ind','state_id','Prior_carrier_grp','Cov_package_type','CAT_zone','quote_year'], drop_first=True)"
      ],
      "metadata": {
        "id": "RgZy6LfH7M0Q"
      },
      "execution_count": null,
      "outputs": []
    },
    {
      "cell_type": "code",
      "source": [
        "df2.drop(columns=['split'],inplace=True)"
      ],
      "metadata": {
        "id": "U8QJhLqDKiTi"
      },
      "execution_count": null,
      "outputs": []
    },
    {
      "cell_type": "code",
      "source": [
        "y=df2['convert_ind']\n",
        "X=df2.drop(columns=['convert_ind'])"
      ],
      "metadata": {
        "id": "rYxrBMiQA8hW"
      },
      "execution_count": null,
      "outputs": []
    },
    {
      "cell_type": "markdown",
      "source": [
        "## Variable Importance"
      ],
      "metadata": {
        "id": "9eMV726wGI4D"
      }
    },
    {
      "cell_type": "markdown",
      "source": [
        "**Over Sampling**\n",
        "\n",
        "Over sample the dataset and calculate the variable importance"
      ],
      "metadata": {
        "id": "Y8XUi8-zlpIp"
      }
    },
    {
      "cell_type": "code",
      "source": [
        "# Oversampling and under sampling\n",
        "from imblearn.over_sampling import RandomOverSampler, SMOTE\n",
        "from imblearn.under_sampling import RandomUnderSampler, NearMiss\n",
        "from collections import Counter"
      ],
      "metadata": {
        "id": "Yz54gNo7l63F"
      },
      "execution_count": null,
      "outputs": []
    },
    {
      "cell_type": "code",
      "source": [
        "# Randomly over sample the minority class\n",
        "ros = RandomOverSampler(random_state=42)\n",
        "X_train_ros, y_train_ros= ros.fit_resample(X, y)\n",
        "# Check the number of records after over sampling\n",
        "print(sorted(Counter(y).items()))\n",
        "print(sorted(Counter(y_train_ros).items()))"
      ],
      "metadata": {
        "colab": {
          "base_uri": "https://localhost:8080/"
        },
        "id": "5rEigS6-lr5r",
        "outputId": "bd4d3520-e38c-4332-f652-1afad0520601"
      },
      "execution_count": null,
      "outputs": [
        {
          "output_type": "stream",
          "name": "stdout",
          "text": [
            "[(0.0, 32751), (1.0, 4120)]\n",
            "[(0.0, 32751), (1.0, 32751)]\n"
          ]
        }
      ]
    },
    {
      "cell_type": "markdown",
      "source": [
        "**XG Boost**"
      ],
      "metadata": {
        "id": "7wJmigKyqyda"
      }
    },
    {
      "cell_type": "code",
      "source": [
        "# plot feature importance manually\n",
        "from numpy import loadtxt\n",
        "from xgboost import XGBClassifier\n",
        "from matplotlib import pyplot\n"
      ],
      "metadata": {
        "id": "5agG0Uyj7gxY"
      },
      "execution_count": null,
      "outputs": []
    },
    {
      "cell_type": "code",
      "source": [
        "\n",
        "# fit model no training data\n",
        "model = XGBClassifier()\n",
        "model.fit(X_train_ros, y_train_ros)\n",
        "# feature importance\n",
        "print(model.feature_importances_)\n"
      ],
      "metadata": {
        "colab": {
          "base_uri": "https://localhost:8080/"
        },
        "collapsed": true,
        "id": "LD7FiknmWIs_",
        "outputId": "3ddf6f20-f581-46a7-f6f2-6cc543de490f"
      },
      "execution_count": null,
      "outputs": [
        {
          "output_type": "stream",
          "name": "stdout",
          "text": [
            "[0.04277518 0.01770472 0.03297631 0.01068539 0.01348583 0.01085227\n",
            " 0.01416943 0.0599832  0.01272551 0.02805821 0.01549199 0.\n",
            " 0.06593622 0.         0.01822928 0.01506022 0.02251414 0.01394928\n",
            " 0.01326057 0.02483498 0.02947227 0.         0.01257369 0.01683642\n",
            " 0.01331202 0.         0.01630456 0.03858921 0.         0.01901721\n",
            " 0.02242728 0.         0.01471601 0.02187706 0.02379704 0.03331981\n",
            " 0.01036236 0.         0.05065196 0.03481837 0.         0.017453\n",
            " 0.01003259 0.05001042 0.05664542 0.02697572 0.02090635 0.02720852]\n"
          ]
        }
      ]
    },
    {
      "cell_type": "code",
      "source": [
        "# plot\n",
        "\n",
        "feature_importance = model.feature_importances_\n",
        "sorted_idx = np.argsort(feature_importance)\n",
        "\n",
        "cols=np.array(X.columns)[sorted_idx]\n",
        "df_features=pd.DataFrame()\n",
        "\n",
        "df_features['sorted_idx']=sorted_idx\n",
        "df_features['cols']=cols\n",
        "df_features['score']=feature_importance[sorted_idx]"
      ],
      "metadata": {
        "id": "pnD3tUCH-rG-"
      },
      "execution_count": null,
      "outputs": []
    },
    {
      "cell_type": "code",
      "source": [
        "df_features.to_csv('feature_importance.csv')"
      ],
      "metadata": {
        "id": "ta97prZBWvDU"
      },
      "execution_count": null,
      "outputs": []
    },
    {
      "cell_type": "markdown",
      "source": [
        "**SHAP Explainer**"
      ],
      "metadata": {
        "id": "e5yzofznXmQB"
      }
    },
    {
      "cell_type": "code",
      "source": [
        "!pip install shap"
      ],
      "metadata": {
        "colab": {
          "base_uri": "https://localhost:8080/"
        },
        "collapsed": true,
        "id": "GmqjThfUX8u9",
        "outputId": "62e34e37-6612-4f21-9584-354c0a3b1791"
      },
      "execution_count": null,
      "outputs": [
        {
          "output_type": "stream",
          "name": "stdout",
          "text": [
            "Looking in indexes: https://pypi.org/simple, https://us-python.pkg.dev/colab-wheels/public/simple/\n",
            "Collecting shap\n",
            "  Downloading shap-0.41.0-cp37-cp37m-manylinux_2_12_x86_64.manylinux2010_x86_64.whl (569 kB)\n",
            "\u001b[K     |████████████████████████████████| 569 kB 14.3 MB/s \n",
            "\u001b[?25hRequirement already satisfied: packaging>20.9 in /usr/local/lib/python3.7/dist-packages (from shap) (21.3)\n",
            "Requirement already satisfied: numba in /usr/local/lib/python3.7/dist-packages (from shap) (0.56.4)\n",
            "Requirement already satisfied: cloudpickle in /usr/local/lib/python3.7/dist-packages (from shap) (1.5.0)\n",
            "Requirement already satisfied: scipy in /usr/local/lib/python3.7/dist-packages (from shap) (1.7.3)\n",
            "Requirement already satisfied: pandas in /usr/local/lib/python3.7/dist-packages (from shap) (1.3.5)\n",
            "Requirement already satisfied: tqdm>4.25.0 in /usr/local/lib/python3.7/dist-packages (from shap) (4.64.1)\n",
            "Requirement already satisfied: scikit-learn in /usr/local/lib/python3.7/dist-packages (from shap) (1.0.2)\n",
            "Collecting slicer==0.0.7\n",
            "  Downloading slicer-0.0.7-py3-none-any.whl (14 kB)\n",
            "Requirement already satisfied: numpy in /usr/local/lib/python3.7/dist-packages (from shap) (1.21.6)\n",
            "Requirement already satisfied: pyparsing!=3.0.5,>=2.0.2 in /usr/local/lib/python3.7/dist-packages (from packaging>20.9->shap) (3.0.9)\n",
            "Requirement already satisfied: llvmlite<0.40,>=0.39.0dev0 in /usr/local/lib/python3.7/dist-packages (from numba->shap) (0.39.1)\n",
            "Requirement already satisfied: setuptools in /usr/local/lib/python3.7/dist-packages (from numba->shap) (57.4.0)\n",
            "Requirement already satisfied: importlib-metadata in /usr/local/lib/python3.7/dist-packages (from numba->shap) (4.13.0)\n",
            "Requirement already satisfied: zipp>=0.5 in /usr/local/lib/python3.7/dist-packages (from importlib-metadata->numba->shap) (3.10.0)\n",
            "Requirement already satisfied: typing-extensions>=3.6.4 in /usr/local/lib/python3.7/dist-packages (from importlib-metadata->numba->shap) (4.1.1)\n",
            "Requirement already satisfied: pytz>=2017.3 in /usr/local/lib/python3.7/dist-packages (from pandas->shap) (2022.6)\n",
            "Requirement already satisfied: python-dateutil>=2.7.3 in /usr/local/lib/python3.7/dist-packages (from pandas->shap) (2.8.2)\n",
            "Requirement already satisfied: six>=1.5 in /usr/local/lib/python3.7/dist-packages (from python-dateutil>=2.7.3->pandas->shap) (1.15.0)\n",
            "Requirement already satisfied: threadpoolctl>=2.0.0 in /usr/local/lib/python3.7/dist-packages (from scikit-learn->shap) (3.1.0)\n",
            "Requirement already satisfied: joblib>=0.11 in /usr/local/lib/python3.7/dist-packages (from scikit-learn->shap) (1.2.0)\n",
            "Installing collected packages: slicer, shap\n",
            "Successfully installed shap-0.41.0 slicer-0.0.7\n"
          ]
        }
      ]
    },
    {
      "cell_type": "code",
      "source": [
        "import shap\n",
        "\n",
        "explainer = shap.Explainer(model)\n",
        "shap_values = explainer(np.ascontiguousarray(X))\n",
        "shap_importance = shap_values.abs.mean(0).values\n",
        "sorted_idx = shap_importance.argsort()\n",
        "# fig = plt.figure(figsize=(12, 6))\n",
        "# plt.barh(range(len(sorted_idx)), shap_importance[sorted_idx], align='center')\n",
        "# plt.yticks(range(len(sorted_idx)), np.array(X.columns)[sorted_idx])\n",
        "# plt.title('SHAP Importance')\n",
        "\n",
        "cols=np.array(X.columns)[sorted_idx]\n",
        "df_shap=pd.DataFrame()\n",
        "df_shap['sorted_idx']=sorted_idx\n",
        "df_shap['col']=cols\n",
        "df_shap['shap_importance']=shap_importance"
      ],
      "metadata": {
        "id": "wNiKvOVTXpFK"
      },
      "execution_count": null,
      "outputs": []
    },
    {
      "cell_type": "code",
      "source": [
        "df_shap.to_csv('df_shap_values.csv')"
      ],
      "metadata": {
        "id": "Ma61QLONYwf7"
      },
      "execution_count": null,
      "outputs": []
    },
    {
      "cell_type": "markdown",
      "source": [
        "Use the XG Boost Feature importance values and SHAP values to relate and finalize the list of variables"
      ],
      "metadata": {
        "id": "iorG1LBkrCnp"
      }
    },
    {
      "cell_type": "markdown",
      "source": [
        "**Final List of Variables**"
      ],
      "metadata": {
        "id": "TWfm7z56Er8D"
      }
    },
    {
      "cell_type": "code",
      "source": [
        "var_list=['num_of_dependents','Cov_package_type_Medium','avg_age','Cov_package_type_Low','CAT_zone_5.0','CAT_zone_4.0',\n",
        " 'quoted_amt','state_id_NY','discount_Yes','quote_year_2018','number_drivers','Prior_carrier_grp_Carrier_8',\n",
        " 'num_of_higher_educators','Prior_carrier_grp_Carrier_3','quote_year_2016','num_of_owned_cars','num_of_cars',\n",
        " 'quote_year_2017','Prior_carrier_grp_Carrier_6','Prior_carrier_grp_Carrier_7','num_leased_veh',\n",
        " 'Prior_carrier_grp_Carrier_4','Prior_carrier_grp_Carrier_5','state_id_CT','num_of_owners','num_of_renters',\n",
        " 'Prior_carrier_grp_Other','state_id_NJ','state_id_WI','num_owned_veh','credit_score','state_id_GA','convert_ind']"
      ],
      "metadata": {
        "id": "C9gbe4Q-EZa5"
      },
      "execution_count": null,
      "outputs": []
    },
    {
      "cell_type": "code",
      "source": [
        "final_df=df2[var_list]"
      ],
      "metadata": {
        "id": "zD-JcszRE3DM"
      },
      "execution_count": null,
      "outputs": []
    },
    {
      "cell_type": "code",
      "source": [
        "final_df.shape"
      ],
      "metadata": {
        "colab": {
          "base_uri": "https://localhost:8080/"
        },
        "id": "sT3u0CJbE9eH",
        "outputId": "1735b649-0058-451f-da70-b4b5bae19e5b"
      },
      "execution_count": null,
      "outputs": [
        {
          "output_type": "execute_result",
          "data": {
            "text/plain": [
              "(36871, 33)"
            ]
          },
          "metadata": {},
          "execution_count": 214
        }
      ]
    },
    {
      "cell_type": "code",
      "source": [
        "final_df2=final_df.copy()"
      ],
      "metadata": {
        "id": "5a0JIR0hrdwZ"
      },
      "execution_count": null,
      "outputs": []
    },
    {
      "cell_type": "code",
      "source": [
        "final_df['convert_ind'].value_counts()/len(final_df)"
      ],
      "metadata": {
        "colab": {
          "base_uri": "https://localhost:8080/"
        },
        "outputId": "3b85c436-9205-4c34-ec8a-c270a0e0c23e",
        "id": "8wLfuYG9rdwa"
      },
      "execution_count": null,
      "outputs": [
        {
          "output_type": "execute_result",
          "data": {
            "text/plain": [
              "0.0    0.888259\n",
              "1.0    0.111741\n",
              "Name: convert_ind, dtype: float64"
            ]
          },
          "metadata": {},
          "execution_count": 216
        }
      ]
    },
    {
      "cell_type": "code",
      "source": [
        "y=final_df['convert_ind']\n",
        "X=final_df.drop(columns=['convert_ind'])\n"
      ],
      "metadata": {
        "id": "BLBaHYowrdwa"
      },
      "execution_count": null,
      "outputs": []
    },
    {
      "cell_type": "markdown",
      "source": [
        "## Data Split"
      ],
      "metadata": {
        "id": "TGHpvgdxFnnu"
      }
    },
    {
      "cell_type": "markdown",
      "source": [
        "Split the dataset into Train and Test"
      ],
      "metadata": {
        "id": "pLhnqVvEswzr"
      }
    },
    {
      "cell_type": "code",
      "source": [
        "# Model and performance\n",
        "from sklearn.model_selection import train_test_split\n",
        "from sklearn.ensemble import RandomForestClassifier\n",
        "from sklearn.metrics import classification_report"
      ],
      "metadata": {
        "id": "MqJ5uHAOs9p_"
      },
      "execution_count": null,
      "outputs": []
    },
    {
      "cell_type": "code",
      "source": [
        "# Train test split\n",
        "X_train, X_test, y_train, y_test = train_test_split(X, y, test_size=0.2, random_state=42)\n",
        "# Check the number of records\n",
        "print('The number of records in the training dataset is', X_train.shape[0])\n",
        "print('The number of records in the test dataset is', X_test.shape[0])\n",
        "print(f\"The training dataset has {sorted(Counter(y_train).items())[0][1]} records for the majority class and {sorted(Counter(y_train).items())[1][1]} records for the minority class.\")\n",
        "print(f\"The test dataset has {sorted(Counter(y_test).items())[0][1]} records for the majority class and {sorted(Counter(y_test).items())[1][1]} records for the minority class.\")"
      ],
      "metadata": {
        "colab": {
          "base_uri": "https://localhost:8080/"
        },
        "id": "Dj8TL4MQs316",
        "outputId": "4cea0eb0-dce1-429c-ae99-53c90958ad24"
      },
      "execution_count": null,
      "outputs": [
        {
          "output_type": "stream",
          "name": "stdout",
          "text": [
            "The number of records in the training dataset is 29496\n",
            "The number of records in the test dataset is 7375\n",
            "The training dataset has 26145 records for the majority class and 3351 records for the minority class.\n",
            "The test dataset has 6606 records for the majority class and 769 records for the minority class.\n"
          ]
        }
      ]
    },
    {
      "cell_type": "markdown",
      "source": [
        "**Over sampling** "
      ],
      "metadata": {
        "id": "5RLzwBCArdwb"
      }
    },
    {
      "cell_type": "code",
      "source": [
        "# Oversampling and under sampling\n",
        "from imblearn.over_sampling import RandomOverSampler, SMOTE\n",
        "from imblearn.under_sampling import RandomUnderSampler, NearMiss\n",
        "from collections import Counter"
      ],
      "metadata": {
        "id": "V06OWmzXrdwb"
      },
      "execution_count": null,
      "outputs": []
    },
    {
      "cell_type": "code",
      "source": [
        "# Randomly over sample the minority class\n",
        "ros = RandomOverSampler(random_state=42)\n",
        "X_train_ros, y_train_ros= ros.fit_resample(X_train, y_train)\n",
        "# Check the number of records after over sampling\n",
        "print(sorted(Counter(y).items()))\n",
        "print(sorted(Counter(y_train_ros).items()))"
      ],
      "metadata": {
        "colab": {
          "base_uri": "https://localhost:8080/"
        },
        "outputId": "8634170f-1439-4123-9c26-470a2c19cecb",
        "id": "m36UENqerdwb"
      },
      "execution_count": null,
      "outputs": [
        {
          "output_type": "stream",
          "name": "stdout",
          "text": [
            "[(0.0, 32751), (1.0, 4120)]\n",
            "[(0.0, 26145), (1.0, 26145)]\n"
          ]
        }
      ]
    },
    {
      "cell_type": "markdown",
      "source": [
        "## Data Modeling"
      ],
      "metadata": {
        "id": "rhrryT99tQRY"
      }
    },
    {
      "cell_type": "markdown",
      "source": [
        "### Standardizing data"
      ],
      "metadata": {
        "id": "y_KmeN2Tubhj"
      }
    },
    {
      "cell_type": "code",
      "source": [
        "from sklearn.preprocessing import StandardScaler\n",
        "from sklearn.metrics import recall_score\n",
        "from sklearn.metrics import precision_score\n",
        "from sklearn.metrics import classification_report"
      ],
      "metadata": {
        "id": "iaUEvMxTu2dX"
      },
      "execution_count": null,
      "outputs": []
    },
    {
      "cell_type": "code",
      "source": [
        "sc = StandardScaler()\n",
        "sc.fit(X_train_ros)\n",
        "X_train_std = sc.transform(X_train_ros)\n",
        "X_test_std = sc.transform(X_test)"
      ],
      "metadata": {
        "id": "5UiJAkHhubhj"
      },
      "execution_count": null,
      "outputs": []
    },
    {
      "cell_type": "markdown",
      "source": [
        "### Evaluate Model Function"
      ],
      "metadata": {
        "id": "ckfU4lOqubhk"
      }
    },
    {
      "cell_type": "code",
      "source": [
        "def evaluate_model(model, x_test, y_test):\n",
        "    from sklearn import metrics\n",
        "\n",
        "    # Predict Test Data \n",
        "    y_pred = model.predict(x_test)\n",
        "\n",
        "    # Calculate accuracy, precision, recall, f1-score, and kappa score\n",
        "    acc = metrics.accuracy_score(y_test, y_pred)\n",
        "    prec = metrics.precision_score(y_test, y_pred)\n",
        "    rec = metrics.recall_score(y_test, y_pred)\n",
        "    f1 = metrics.f1_score(y_test, y_pred)\n",
        "    kappa = metrics.cohen_kappa_score(y_test, y_pred)\n",
        "\n",
        "    # Calculate area under curve (AUC)\n",
        "    y_pred_proba = model.predict_proba(x_test)[::,1]\n",
        "    fpr, tpr, _ = metrics.roc_curve(y_test, y_pred_proba)\n",
        "    auc = metrics.roc_auc_score(y_test, y_pred_proba)\n",
        "\n",
        "    # Display confussion matrix\n",
        "    cm = metrics.confusion_matrix(y_test, y_pred)\n",
        "\n",
        "    return {'acc': acc, 'prec': prec, 'rec': rec, 'f1': f1, 'kappa': kappa, \n",
        "            'fpr': fpr, 'tpr': tpr, 'auc': auc, 'cm': cm}"
      ],
      "metadata": {
        "id": "muzVXv2Kubhk"
      },
      "execution_count": null,
      "outputs": []
    },
    {
      "cell_type": "markdown",
      "source": [
        "### Baseline Model - Random Forest\n",
        "\n",
        "No oversampling"
      ],
      "metadata": {
        "id": "nvdXjxZ5tdD4"
      }
    },
    {
      "cell_type": "code",
      "source": [
        "# Train the random forest model , below results are without oversampling\n",
        "brf = RandomForestClassifier()\n",
        "baseline_model = brf.fit(X_train, y_train)\n",
        "baseline_prediction = baseline_model.predict(X_test)\n",
        "# Check the model performance\n",
        "#print(classification_report(y_test, baseline_prediction))"
      ],
      "metadata": {
        "id": "1_lVD5FdtS10"
      },
      "execution_count": null,
      "outputs": []
    },
    {
      "cell_type": "code",
      "source": [
        "#Evaluate the Model\n",
        "brf_eval=evaluate_model(brf, X_test_std, y_test)\n",
        "\n",
        "# Print result\n",
        "print('Accuracy:', brf_eval['acc'])\n",
        "print('Precision for Housing Insecurity:', brf_eval['prec'])\n",
        "print('Recall for Housing Insecurity:', brf_eval['rec'])   #For 1\n",
        "print('F1 Score:', brf_eval['f1'])\n",
        "print('Cohens Kappa Score:', brf_eval['kappa'])\n",
        "print('Area Under Curve:', brf_eval['auc'])\n",
        "print('Confusion Matrix:\\n', brf_eval['cm'])\n",
        "\n",
        "# confusion matrix\n",
        "\n",
        "# TP is bottom right\n",
        "# TN is top left\n",
        "# FP is top right\n",
        "# FN is bottom left"
      ],
      "metadata": {
        "colab": {
          "base_uri": "https://localhost:8080/"
        },
        "id": "LbkKAwYTwL60",
        "outputId": "92634ac6-61dc-4509-81ab-ad627954a3a1"
      },
      "execution_count": null,
      "outputs": [
        {
          "output_type": "stream",
          "name": "stderr",
          "text": [
            "X does not have valid feature names, but RandomForestClassifier was fitted with feature names\n",
            "Precision is ill-defined and being set to 0.0 due to no predicted samples. Use `zero_division` parameter to control this behavior.\n",
            "X does not have valid feature names, but RandomForestClassifier was fitted with feature names\n"
          ]
        },
        {
          "output_type": "stream",
          "name": "stdout",
          "text": [
            "Accuracy: 0.895728813559322\n",
            "Precision for Housing Insecurity: 0.0\n",
            "Recall for Housing Insecurity: 0.0\n",
            "F1 Score: 0.0\n",
            "Cohens Kappa Score: 0.0\n",
            "Area Under Curve: 0.5987061256130396\n",
            "Confusion Matrix:\n",
            " [[6606    0]\n",
            " [ 769    0]]\n"
          ]
        }
      ]
    },
    {
      "cell_type": "markdown",
      "source": [
        "### Random Forest\n",
        "\n",
        "Using oversampling"
      ],
      "metadata": {
        "id": "Vn1FYzh3tpVa"
      }
    },
    {
      "cell_type": "code",
      "source": [
        "# Train the random forest model , below results are without oversampling\n",
        "rf = RandomForestClassifier()\n",
        "rf_ros = rf.fit(X_train_std, y_train_ros)\n",
        "rf_ros_prediction = rf_ros.predict(X_test)\n",
        "# Check the model performance\n",
        "#print(classification_report(y_test, rf_ros_prediction))"
      ],
      "metadata": {
        "colab": {
          "base_uri": "https://localhost:8080/"
        },
        "outputId": "4db74592-d2fb-4497-c890-de639a6fd1fd",
        "id": "QO9ZdSmztpVb"
      },
      "execution_count": null,
      "outputs": [
        {
          "output_type": "stream",
          "name": "stderr",
          "text": [
            "X has feature names, but RandomForestClassifier was fitted without feature names\n"
          ]
        }
      ]
    },
    {
      "cell_type": "code",
      "source": [
        "#Evaluate the Model\n",
        "rf_eval=evaluate_model(rf, X_test_std, y_test)\n",
        "\n",
        "# Print result\n",
        "print('Accuracy:', rf_eval['acc'])\n",
        "print('Precision for Housing Insecurity:', rf_eval['prec'])\n",
        "print('Recall for Housing Insecurity:', rf_eval['rec'])   #For 1\n",
        "print('F1 Score:', rf_eval['f1'])\n",
        "print('Cohens Kappa Score:', rf_eval['kappa'])\n",
        "print('Area Under Curve:', rf_eval['auc'])\n",
        "print('Confusion Matrix:\\n', rf_eval['cm'])\n",
        "\n",
        "# confusion matrix\n",
        "\n",
        "# TP is bottom right\n",
        "# TN is top left\n",
        "# FP is top right\n",
        "# FN is bottom left"
      ],
      "metadata": {
        "colab": {
          "base_uri": "https://localhost:8080/"
        },
        "id": "IwDKvt09vWdI",
        "outputId": "646a405d-7992-4e82-95cb-d65dad692f96"
      },
      "execution_count": null,
      "outputs": [
        {
          "output_type": "stream",
          "name": "stdout",
          "text": [
            "Accuracy: 0.8938305084745762\n",
            "Precision for Housing Insecurity: 0.29411764705882354\n",
            "Recall for Housing Insecurity: 0.013003901170351105\n",
            "F1 Score: 0.024906600249066\n",
            "Cohens Kappa Score: 0.016219882235150362\n",
            "Area Under Curve: 0.65990969709926\n",
            "Confusion Matrix:\n",
            " [[6582   24]\n",
            " [ 759   10]]\n"
          ]
        }
      ]
    },
    {
      "cell_type": "markdown",
      "source": [
        "### Logistic Regression"
      ],
      "metadata": {
        "id": "QoPIenXcY1B-"
      }
    },
    {
      "cell_type": "code",
      "source": [
        "from sklearn.linear_model import LogisticRegression\n",
        "#Building the Model\n",
        "\n",
        "lr= LogisticRegression()\n",
        "lr.fit(X_train_std, y_train_ros)"
      ],
      "metadata": {
        "colab": {
          "base_uri": "https://localhost:8080/"
        },
        "outputId": "16cd3e96-bf4e-4485-ab2e-0fcc29e77fa1",
        "id": "KLLlLdllY1B-"
      },
      "execution_count": null,
      "outputs": [
        {
          "output_type": "execute_result",
          "data": {
            "text/plain": [
              "LogisticRegression()"
            ]
          },
          "metadata": {},
          "execution_count": 229
        }
      ]
    },
    {
      "cell_type": "code",
      "source": [
        "#Evaluate the Model\n",
        "lr_eval=evaluate_model(lr, X_test_std, y_test)\n",
        "\n",
        "# Print result\n",
        "print('Accuracy:', lr_eval['acc'])\n",
        "print('Precision for Housing Insecurity:', lr_eval['prec'])\n",
        "print('Recall for Housing Insecurity:', lr_eval['rec'])   #For 1\n",
        "print('F1 Score:', lr_eval['f1'])\n",
        "print('Cohens Kappa Score:', lr_eval['kappa'])\n",
        "print('Area Under Curve:', lr_eval['auc'])\n",
        "print('Confusion Matrix:\\n', lr_eval['cm'])\n",
        "\n",
        "# confusion matrix\n",
        "\n",
        "# TP is bottom right\n",
        "# TN is top left\n",
        "# FP is top right\n",
        "# FN is bottom left"
      ],
      "metadata": {
        "colab": {
          "base_uri": "https://localhost:8080/"
        },
        "outputId": "7dafd767-fade-456a-9a27-aeabf9c6be21",
        "id": "6vfoFAVpY1B-"
      },
      "execution_count": null,
      "outputs": [
        {
          "output_type": "stream",
          "name": "stdout",
          "text": [
            "Accuracy: 0.5932203389830508\n",
            "Precision for Housing Insecurity: 0.1491034916640453\n",
            "Recall for Housing Insecurity: 0.6163849154746424\n",
            "F1 Score: 0.24012158054711247\n",
            "Cohens Kappa Score: 0.08677016632298973\n",
            "Area Under Curve: 0.6462543213463585\n",
            "Confusion Matrix:\n",
            " [[3901 2705]\n",
            " [ 295  474]]\n"
          ]
        }
      ]
    },
    {
      "cell_type": "code",
      "source": [
        "\n",
        "print('Recall score is', recall_score(y_test, lr.predict(X_test_std), average='micro'))\n",
        "print('Precision score is',precision_score(y_test, lr.predict(X_test_std), average='macro'))"
      ],
      "metadata": {
        "colab": {
          "base_uri": "https://localhost:8080/"
        },
        "outputId": "0a1341fd-1fbb-481a-dad9-49a6f2ebf33e",
        "id": "T9QWA4ZSY1B_"
      },
      "execution_count": null,
      "outputs": [
        {
          "output_type": "stream",
          "name": "stdout",
          "text": [
            "Recall score is 0.5932203389830508\n",
            "Precision score is 0.5393992196165793\n"
          ]
        }
      ]
    },
    {
      "cell_type": "code",
      "source": [
        "#Confirmation for above function\n",
        "print(classification_report(y_test, lr.predict(X_test_std)))"
      ],
      "metadata": {
        "colab": {
          "base_uri": "https://localhost:8080/"
        },
        "outputId": "8363ea48-2794-47d4-8186-f091755e2b27",
        "id": "F9Zud-VZY1B_"
      },
      "execution_count": null,
      "outputs": [
        {
          "output_type": "stream",
          "name": "stdout",
          "text": [
            "              precision    recall  f1-score   support\n",
            "\n",
            "         0.0       0.93      0.59      0.72      6606\n",
            "         1.0       0.15      0.62      0.24       769\n",
            "\n",
            "    accuracy                           0.59      7375\n",
            "   macro avg       0.54      0.60      0.48      7375\n",
            "weighted avg       0.85      0.59      0.67      7375\n",
            "\n"
          ]
        }
      ]
    },
    {
      "cell_type": "markdown",
      "source": [
        "### Decision Tree"
      ],
      "metadata": {
        "id": "ZhCmLHYcY1B_"
      }
    },
    {
      "cell_type": "code",
      "source": [
        "from sklearn import tree\n",
        "from sklearn.tree import DecisionTreeClassifier\n",
        "\n",
        "dt = DecisionTreeClassifier(random_state=0, max_depth=2)\n",
        "dt.fit(X_train_std, y_train_ros)"
      ],
      "metadata": {
        "colab": {
          "base_uri": "https://localhost:8080/"
        },
        "outputId": "9995cd21-a5d2-48af-c0fc-0df4042798e1",
        "id": "fD_B1J0aY1CA"
      },
      "execution_count": null,
      "outputs": [
        {
          "output_type": "execute_result",
          "data": {
            "text/plain": [
              "DecisionTreeClassifier(max_depth=2, random_state=0)"
            ]
          },
          "metadata": {},
          "execution_count": 233
        }
      ]
    },
    {
      "cell_type": "code",
      "source": [
        "#Evaluate the Model\n",
        "dt_eval=evaluate_model(dt, X_test_std, y_test)\n",
        "\n",
        "# Print result\n",
        "print('Accuracy:', round(dt_eval['acc'],3))\n",
        "print('Precision for Housing Insecurity:', round(dt_eval['prec'],2))\n",
        "print('Recall for Housing Insecurity:', round(dt_eval['rec'],2))   #For 1\n",
        "print('F1 Score:', round(dt_eval['f1'],2))\n",
        "print('Cohens Kappa Score:', round(dt_eval['kappa'],2))\n",
        "print('Area Under Curve:', round(dt_eval['auc'],2))\n",
        "print('Confusion Matrix:\\n', dt_eval['cm'])\n",
        "\n",
        "# confusion matrix\n",
        "\n",
        "# TP is bottom right\n",
        "# TN is top left\n",
        "# FP is top right\n",
        "# FN is bottom left"
      ],
      "metadata": {
        "colab": {
          "base_uri": "https://localhost:8080/"
        },
        "outputId": "c8812f9d-a0aa-42c2-a6ca-1151df7a162e",
        "id": "isS4vskUY1CA"
      },
      "execution_count": null,
      "outputs": [
        {
          "output_type": "stream",
          "name": "stdout",
          "text": [
            "Accuracy: 0.544\n",
            "Precision for Housing Insecurity: 0.14\n",
            "Recall for Housing Insecurity: 0.63\n",
            "F1 Score: 0.22\n",
            "Cohens Kappa Score: 0.06\n",
            "Area Under Curve: 0.59\n",
            "Confusion Matrix:\n",
            " [[3527 3079]\n",
            " [ 284  485]]\n"
          ]
        }
      ]
    },
    {
      "cell_type": "code",
      "source": [
        "#Confirmation for above function\n",
        "print(classification_report(y_test, dt.predict(X_test_std)))"
      ],
      "metadata": {
        "colab": {
          "base_uri": "https://localhost:8080/"
        },
        "outputId": "4e877d41-847c-41bb-b73a-2f386734c526",
        "id": "BTD45hP7Y1CA"
      },
      "execution_count": null,
      "outputs": [
        {
          "output_type": "stream",
          "name": "stdout",
          "text": [
            "              precision    recall  f1-score   support\n",
            "\n",
            "         0.0       0.93      0.53      0.68      6606\n",
            "         1.0       0.14      0.63      0.22       769\n",
            "\n",
            "    accuracy                           0.54      7375\n",
            "   macro avg       0.53      0.58      0.45      7375\n",
            "weighted avg       0.84      0.54      0.63      7375\n",
            "\n"
          ]
        }
      ]
    },
    {
      "cell_type": "markdown",
      "source": [
        "### KNN"
      ],
      "metadata": {
        "id": "MscmH__1Y1CA"
      }
    },
    {
      "cell_type": "code",
      "source": [
        "from sklearn.neighbors import KNeighborsClassifier\n",
        "\n",
        "knn = KNeighborsClassifier(n_neighbors=7)\n",
        "knn.fit(X_train_std, y_train_ros)"
      ],
      "metadata": {
        "colab": {
          "base_uri": "https://localhost:8080/"
        },
        "outputId": "73a067c3-c10b-4bf0-a667-9f757050d23e",
        "id": "ebUhefV9Y1CA"
      },
      "execution_count": null,
      "outputs": [
        {
          "output_type": "execute_result",
          "data": {
            "text/plain": [
              "KNeighborsClassifier(n_neighbors=7)"
            ]
          },
          "metadata": {},
          "execution_count": 236
        }
      ]
    },
    {
      "cell_type": "code",
      "source": [
        "#Evaluate the Model\n",
        "knn_eval=evaluate_model(knn, X_test_std, y_test)\n",
        "\n",
        "# Print result\n",
        "print('Accuracy:', round(knn_eval['acc'],3))\n",
        "print('Precision for Housing Insecurity:', round(knn_eval['prec'],2))\n",
        "print('Recall for Housing Insecurity:', round(knn_eval['rec'],2))   #For 1\n",
        "print('F1 Score:', round(knn_eval['f1'],2))\n",
        "print('Cohens Kappa Score:', round(knn_eval['kappa'],2))\n",
        "print('Area Under Curve:', round(knn_eval['auc'],2))\n",
        "print('Confusion Matrix:\\n', knn_eval['cm'])\n",
        "\n",
        "# confusion matrix\n",
        "\n",
        "# TP is bottom right\n",
        "# TN is top left\n",
        "# FP is top right\n",
        "# FN is bottom left"
      ],
      "metadata": {
        "colab": {
          "base_uri": "https://localhost:8080/"
        },
        "outputId": "a6820401-e93a-4559-994c-612da7c9c91f",
        "id": "z0TNu3Q0Y1CA"
      },
      "execution_count": null,
      "outputs": [
        {
          "output_type": "stream",
          "name": "stdout",
          "text": [
            "Accuracy: 0.632\n",
            "Precision for Housing Insecurity: 0.13\n",
            "Recall for Housing Insecurity: 0.46\n",
            "F1 Score: 0.21\n",
            "Cohens Kappa Score: 0.05\n",
            "Area Under Curve: 0.58\n",
            "Confusion Matrix:\n",
            " [[4303 2303]\n",
            " [ 414  355]]\n"
          ]
        }
      ]
    },
    {
      "cell_type": "markdown",
      "source": [
        "### XG Boost"
      ],
      "metadata": {
        "id": "FanHNAmGc08g"
      }
    },
    {
      "cell_type": "code",
      "source": [
        "# fit model no training data\n",
        "xg = XGBClassifier()\n",
        "xg.fit(X_train_std, y_train_ros)\n",
        "# feature importance\n",
        "#print(model.feature_importances_)"
      ],
      "metadata": {
        "colab": {
          "base_uri": "https://localhost:8080/"
        },
        "id": "YKJNyqVcc0bb",
        "outputId": "5ed59200-36e2-4221-83a5-909348693e6e"
      },
      "execution_count": null,
      "outputs": [
        {
          "output_type": "execute_result",
          "data": {
            "text/plain": [
              "XGBClassifier()"
            ]
          },
          "metadata": {},
          "execution_count": 238
        }
      ]
    },
    {
      "cell_type": "code",
      "source": [
        "#Evaluate the Model\n",
        "xg_eval=evaluate_model(xg, X_test_std, y_test)\n",
        "\n",
        "# Print result\n",
        "print('Accuracy:', round(xg_eval['acc'],3))\n",
        "print('Precision for Housing Insecurity:', round(xg_eval['prec'],2))\n",
        "print('Recall for Housing Insecurity:', round(xg_eval['rec'],2))   #For 1\n",
        "print('F1 Score:', round(xg_eval['f1'],2))\n",
        "print('Cohens Kappa Score:', round(xg_eval['kappa'],2))\n",
        "print('Area Under Curve:', round(xg_eval['auc'],2))\n",
        "print('Confusion Matrix:\\n', xg_eval['cm'])\n",
        "\n",
        "# confusion matrix\n",
        "\n",
        "# TP is bottom right\n",
        "# TN is top left\n",
        "# FP is top right\n",
        "# FN is bottom left"
      ],
      "metadata": {
        "colab": {
          "base_uri": "https://localhost:8080/"
        },
        "id": "32QNKDq-c_Kx",
        "outputId": "33401729-9ee1-4246-80e0-f2851b3df016"
      },
      "execution_count": null,
      "outputs": [
        {
          "output_type": "stream",
          "name": "stdout",
          "text": [
            "Accuracy: 0.627\n",
            "Precision for Housing Insecurity: 0.16\n",
            "Recall for Housing Insecurity: 0.62\n",
            "F1 Score: 0.26\n",
            "Cohens Kappa Score: 0.11\n",
            "Area Under Curve: 0.68\n",
            "Confusion Matrix:\n",
            " [[4146 2460]\n",
            " [ 292  477]]\n"
          ]
        }
      ]
    },
    {
      "cell_type": "code",
      "source": [
        "from sklearn.metrics import plot_confusion_matrix\n",
        "plot_confusion_matrix(xg, X_test_std, y_test) "
      ],
      "metadata": {
        "colab": {
          "base_uri": "https://localhost:8080/",
          "height": 334
        },
        "id": "IOmpG1TNlLLb",
        "outputId": "46abab60-e874-4949-c750-db96ebee0265"
      },
      "execution_count": null,
      "outputs": [
        {
          "output_type": "stream",
          "name": "stderr",
          "text": [
            "Function plot_confusion_matrix is deprecated; Function `plot_confusion_matrix` is deprecated in 1.0 and will be removed in 1.2. Use one of the class methods: ConfusionMatrixDisplay.from_predictions or ConfusionMatrixDisplay.from_estimator.\n"
          ]
        },
        {
          "output_type": "execute_result",
          "data": {
            "text/plain": [
              "<sklearn.metrics._plot.confusion_matrix.ConfusionMatrixDisplay at 0x7f674041ed90>"
            ]
          },
          "metadata": {},
          "execution_count": 240
        },
        {
          "output_type": "display_data",
          "data": {
            "text/plain": [
              "<Figure size 432x288 with 2 Axes>"
            ],
            "image/png": "[encoded data removed]"
          },
          "metadata": {
            "needs_background": "light"
          }
        }
      ]
    },
    {
      "cell_type": "code",
      "source": [
        "print(\"Sensitivity of above model\",260/(260+147))"
      ],
      "metadata": {
        "colab": {
          "base_uri": "https://localhost:8080/"
        },
        "id": "R7HB8FkbmzRg",
        "outputId": "f32372ec-4a5e-47a5-8cc0-6bc7db5b410b"
      },
      "execution_count": null,
      "outputs": [
        {
          "output_type": "stream",
          "name": "stdout",
          "text": [
            "Sensitivity of above model 0.6388206388206388\n"
          ]
        }
      ]
    },
    {
      "cell_type": "code",
      "source": [
        "# DF, based on which importance is checked\n",
        "X_importance = X_test\n",
        "\n",
        "# Explain model predictions using shap library:\n",
        "explainer = shap.TreeExplainer(xg)\n",
        "shap_values = explainer.shap_values(X_importance)"
      ],
      "metadata": {
        "id": "4pWUXvoTr3LY"
      },
      "execution_count": null,
      "outputs": []
    },
    {
      "cell_type": "code",
      "source": [
        "features =X_test.columns"
      ],
      "metadata": {
        "id": "wEe5CXxAuaRs"
      },
      "execution_count": null,
      "outputs": []
    },
    {
      "cell_type": "code",
      "source": [
        "shap.summary_plot(shap_values, X_importance,feature_names=features)"
      ],
      "metadata": {
        "colab": {
          "base_uri": "https://localhost:8080/",
          "height": 693
        },
        "id": "pRdGcG17skwF",
        "outputId": "b319f919-8e47-4fdc-8428-c9852c6a853f"
      },
      "execution_count": null,
      "outputs": [
        {
          "output_type": "display_data",
          "data": {
            "text/plain": [
              "<Figure size 576x684 with 2 Axes>"
            ],
            "image/png": "[encoded data removed]"
          },
          "metadata": {
            "needs_background": "light"
          }
        }
      ]
    },
    {
      "cell_type": "code",
      "source": [
        "shap.summary_plot(shap_values, X_importance, plot_type='bar',feature_names=features)"
      ],
      "metadata": {
        "colab": {
          "base_uri": "https://localhost:8080/",
          "height": 693
        },
        "id": "RRo1CO_vuFDH",
        "outputId": "c0746514-74b9-4fe5-a173-fd3728c21ba7"
      },
      "execution_count": null,
      "outputs": [
        {
          "output_type": "display_data",
          "data": {
            "text/plain": [
              "<Figure size 576x684 with 1 Axes>"
            ],
            "image/png": "[encoded data removed]"
          },
          "metadata": {
            "needs_background": "light"
          }
        }
      ]
    },
    {
      "cell_type": "code",
      "source": [
        "# Intitialize figure with two plots\n",
        "fig, (ax1, ax2) = plt.subplots(1, 2)\n",
        "fig.suptitle('Model Comparison', fontsize=16, fontweight='bold')\n",
        "fig.set_figheight(7)\n",
        "fig.set_figwidth(14)\n",
        "fig.set_facecolor('white')\n",
        "\n",
        "# First plot\n",
        "## set bar size\n",
        "barWidth = 0.2\n",
        "brf_score = [brf_eval['acc'], brf_eval['prec'], brf_eval['rec'], brf_eval['f1'], brf_eval['kappa']]\n",
        "rf_score = [rf_eval['acc'], rf_eval['prec'], rf_eval['rec'], rf_eval['f1'], rf_eval['kappa']]\n",
        "dt_score = [dt_eval['acc'], dt_eval['prec'], dt_eval['rec'], dt_eval['f1'], dt_eval['kappa']]\n",
        "lr_score = [lr_eval['acc'], lr_eval['prec'], lr_eval['rec'], lr_eval['f1'], lr_eval['kappa']]\n",
        "knn_score = [knn_eval['acc'], knn_eval['prec'], knn_eval['rec'], knn_eval['f1'], knn_eval['kappa']]\n",
        "xg_score = [xg_eval['acc'], xg_eval['prec'], xg_eval['rec'], xg_eval['f1'], xg_eval['kappa']]\n",
        "\n",
        "## Set position of bar on X axis\n",
        "r1 = np.arange(len(dt_score))\n",
        "r2 = [x + barWidth for x in r1]\n",
        "r3 = [x + barWidth for x in r2]\n",
        "r4 = [x + barWidth for x in r3]\n",
        "r5 = [x + barWidth for x in r4]\n",
        "r6 = [x + barWidth for x in r5]\n",
        "\n",
        "## Make the plot\n",
        "ax1.bar(r1, dt_score, width=barWidth, edgecolor='white', label='Baseline Random Forest')\n",
        "ax1.bar(r2, lr_score, width=barWidth, edgecolor='white', label='Random Forest')\n",
        "ax1.bar(r3, rf_score, width=barWidth, edgecolor='white', label='Decision Tree')\n",
        "ax1.bar(r4, rf_score, width=barWidth, edgecolor='white', label='Logistic Regression')\n",
        "ax1.bar(r5, knn_score, width=barWidth, edgecolor='white', label='K-Nearest Neighbors')\n",
        "ax1.bar(r6, xg_score, width=barWidth, edgecolor='white', label='XG Boost')\n",
        "\n",
        "## Configure x and y axis\n",
        "ax1.set_xlabel('Metrics', fontweight='bold')\n",
        "labels = ['Accuracy', 'Precision', 'Recall', 'F1', 'Kappa']\n",
        "ax1.set_xticks([r + (barWidth * 1.5) for r in range(len(dt_score))], )\n",
        "ax1.set_xticklabels(labels)\n",
        "ax1.set_ylabel('Score', fontweight='bold')\n",
        "ax1.set_ylim(0, 1)\n",
        "\n",
        "## Create legend & title\n",
        "ax1.set_title('Evaluation Metrics', fontsize=14, fontweight='bold')\n",
        "ax1.legend()\n",
        "\n",
        "# Second plot\n",
        "## Comparing ROC Curve\n",
        "ax2.plot(brf_eval['fpr'], brf_eval['tpr'], label='Baseline RF, auc = {:0.5f}'.format(brf_eval['auc']))\n",
        "ax2.plot(rf_eval['fpr'], rf_eval['tpr'], label='Random Forest, auc = {:0.5f}'.format(rf_eval['auc']))\n",
        "ax2.plot(dt_eval['fpr'], dt_eval['tpr'], label='Decision Tree, auc = {:0.5f}'.format(dt_eval['auc']))\n",
        "ax2.plot(lr_eval['fpr'], lr_eval['tpr'], label='Logistic Regression, auc = {:0.5f}'.format(lr_eval['auc']))\n",
        "ax2.plot(knn_eval['fpr'], knn_eval['tpr'], label='K-Nearest Neighbor, auc = {:0.5f}'.format(knn_eval['auc']))\n",
        "ax2.plot(xg_eval['fpr'], xg_eval['tpr'], label='XG boost, auc = {:0.5f}'.format(xg_eval['auc']))\n",
        "\n",
        "## Configure x and y axis\n",
        "ax2.set_xlabel('False Positive Rate', fontweight='bold')\n",
        "ax2.set_ylabel('True Positive Rate', fontweight='bold')\n",
        "\n",
        "## Create legend & title\n",
        "ax2.set_title('ROC Curve', fontsize=14, fontweight='bold')\n",
        "ax2.legend(loc=4)\n",
        "\n",
        "plt.show()"
      ],
      "metadata": {
        "colab": {
          "base_uri": "https://localhost:8080/",
          "height": 493
        },
        "outputId": "7059521c-45ed-4568-d138-7901522869f5",
        "id": "gIOo2jovY1CB"
      },
      "execution_count": null,
      "outputs": [
        {
          "output_type": "display_data",
          "data": {
            "text/plain": [
              "<Figure size 1008x504 with 2 Axes>"
            ],
            "image/png": "[encoded data removed]"
          },
          "metadata": {}
        }
      ]
    },
    {
      "cell_type": "code",
      "source": [
        "def plot_lift_curve(y_val, y_pred, step=0.01):\n",
        "    \n",
        "    #Define an auxiliar dataframe to plot the curve\n",
        "    aux_lift = pd.DataFrame()\n",
        "    #Create a real and predicted column for our new DataFrame and assign values\n",
        "    aux_lift['real'] = y_val\n",
        "    aux_lift['predicted'] = y_pred\n",
        "    #Order the values for the predicted probability column:\n",
        "    aux_lift.sort_values('predicted',ascending=False,inplace=True)\n",
        "    \n",
        "    #Create the values that will go into the X axis of our plot\n",
        "    x_val = np.arange(step,1+step,step)\n",
        "    #Calculate the ratio of ones in our data\n",
        "    ratio_ones = aux_lift['real'].sum() / len(aux_lift)\n",
        "    #Create an empty vector with the values that will go on the Y axis our our plot\n",
        "    y_v = []\n",
        "    \n",
        "    #Calculate for each x value its correspondent y value\n",
        "    for x in x_val:\n",
        "        num_data = int(np.ceil(x*len(aux_lift))) #The ceil function returns the closest integer bigger than our number \n",
        "        data_here = aux_lift.iloc[:num_data,:]   # ie. np.ceil(1.4) = 2\n",
        "        ratio_ones_here = data_here['real'].sum()/len(data_here)\n",
        "        y_v.append(ratio_ones_here / ratio_ones)\n",
        "           \n",
        "   #Plot the figure\n",
        "    fig, axis = plt.subplots()\n",
        "    fig.figsize = (40,40)\n",
        "    axis.plot(x_val, y_v, 'g-', linewidth = 3, markersize = 5)\n",
        "    axis.plot(x_val, np.ones(len(x_val)), 'k-')\n",
        "    axis.set_xlabel('Proportion of sample')\n",
        "    axis.set_ylabel('Lift')\n",
        "    plt.title('Lift Curve')\n",
        "    plt.show()"
      ],
      "metadata": {
        "id": "lTaUzEPHa6o-"
      },
      "execution_count": null,
      "outputs": []
    },
    {
      "cell_type": "code",
      "source": [
        "plot_lift_curve(y_test, lr.predict(X_test_std),)"
      ],
      "metadata": {
        "outputId": "f2e45148-04a3-4292-b416-22d34985b7a1",
        "colab": {
          "base_uri": "https://localhost:8080/",
          "height": 295
        },
        "id": "PA4ENfFWY1CB"
      },
      "execution_count": null,
      "outputs": [
        {
          "output_type": "display_data",
          "data": {
            "text/plain": [
              "<Figure size 432x288 with 1 Axes>"
            ],
            "image/png": "[encoded data removed]"
          },
          "metadata": {
            "needs_background": "light"
          }
        }
      ]
    },
    {
      "cell_type": "markdown",
      "source": [
        "## Scoring on Test Dataset"
      ],
      "metadata": {
        "id": "kFYmGGjGLs4E"
      }
    },
    {
      "cell_type": "code",
      "source": [
        "score_df_raw=df_t2[df_t2['split']=='Test']"
      ],
      "metadata": {
        "id": "6AaxU-331zkN"
      },
      "execution_count": null,
      "outputs": []
    },
    {
      "cell_type": "code",
      "source": [
        "score_df = pd.get_dummies(score_df_raw, columns=['discount','Home_policy_ind','state_id','Prior_carrier_grp','Cov_package_type','CAT_zone','quote_year'], drop_first=True)"
      ],
      "metadata": {
        "id": "XtlhFUJ5MG2B"
      },
      "execution_count": null,
      "outputs": []
    },
    {
      "cell_type": "code",
      "source": [
        "score_df.drop(columns=['split'],inplace=True)"
      ],
      "metadata": {
        "id": "us3N3vF2MG2C"
      },
      "execution_count": null,
      "outputs": []
    },
    {
      "cell_type": "code",
      "source": [
        "y=score_df['convert_ind']\n",
        "X=score_df.drop(columns=['convert_ind'])"
      ],
      "metadata": {
        "id": "zi-ZHNBmMG2C"
      },
      "execution_count": null,
      "outputs": []
    },
    {
      "cell_type": "code",
      "source": [
        "X_train.columns"
      ],
      "metadata": {
        "colab": {
          "base_uri": "https://localhost:8080/"
        },
        "collapsed": true,
        "id": "J0VJH9sn2ule",
        "outputId": "ad66637f-079a-4fd2-9587-3d27764b476b"
      },
      "execution_count": null,
      "outputs": [
        {
          "output_type": "execute_result",
          "data": {
            "text/plain": [
              "Index(['num_of_dependents', 'Cov_package_type_Medium', 'avg_age',\n",
              "       'Cov_package_type_Low', 'CAT_zone_5.0', 'CAT_zone_4.0', 'quoted_amt',\n",
              "       'state_id_NY', 'discount_Yes', 'quote_year_2018', 'number_drivers',\n",
              "       'Prior_carrier_grp_Carrier_8', 'num_of_higher_educators',\n",
              "       'Prior_carrier_grp_Carrier_3', 'quote_year_2016', 'num_of_owned_cars',\n",
              "       'num_of_cars', 'quote_year_2017', 'Prior_carrier_grp_Carrier_6',\n",
              "       'Prior_carrier_grp_Carrier_7', 'num_leased_veh',\n",
              "       'Prior_carrier_grp_Carrier_4', 'Prior_carrier_grp_Carrier_5',\n",
              "       'state_id_CT', 'num_of_owners', 'num_of_renters',\n",
              "       'Prior_carrier_grp_Other', 'state_id_NJ', 'state_id_WI',\n",
              "       'num_owned_veh', 'credit_score', 'state_id_GA'],\n",
              "      dtype='object')"
            ]
          },
          "metadata": {},
          "execution_count": 261
        }
      ]
    },
    {
      "cell_type": "code",
      "source": [
        "sc = StandardScaler()\n",
        "sc.fit(X[X_train.columns])\n",
        "X_score_std = sc.transform(X[X_train.columns])"
      ],
      "metadata": {
        "id": "NbuCdaFO22-Y"
      },
      "execution_count": null,
      "outputs": []
    },
    {
      "cell_type": "code",
      "source": [
        "#holdout_pred = lr.predict(score_df_std)\n",
        "holdout_pred_prob = xg.predict_proba(X_score_std)[::,1]"
      ],
      "metadata": {
        "id": "R0GJ_wc63ZPX"
      },
      "execution_count": null,
      "outputs": []
    },
    {
      "cell_type": "code",
      "source": [
        "#holdout_pred = lr.predict(score_df_std)\n",
        "print(holdout_pred_prob)"
      ],
      "metadata": {
        "colab": {
          "base_uri": "https://localhost:8080/"
        },
        "id": "6rhphTZ54NaG",
        "outputId": "81afda37-c0fc-4a23-c4f2-7fb9ae2393aa"
      },
      "execution_count": null,
      "outputs": [
        {
          "output_type": "stream",
          "name": "stdout",
          "text": [
            "[0.3703884  0.4672528  0.19099799 ... 0.3866187  0.57520247 0.33511168]\n"
          ]
        }
      ]
    },
    {
      "cell_type": "code",
      "source": [
        "df_submission_lb=score_df_raw.copy()"
      ],
      "metadata": {
        "id": "yukcgyUj8HtO"
      },
      "execution_count": null,
      "outputs": []
    },
    {
      "cell_type": "code",
      "source": [
        "df_submission_lb['score']=holdout_pred_prob"
      ],
      "metadata": {
        "id": "jWNdyHYQ8fFL"
      },
      "execution_count": null,
      "outputs": []
    },
    {
      "cell_type": "code",
      "source": [
        "df_submission_lb.to_csv('submission_1.csv')"
      ],
      "metadata": {
        "id": "AS-XyDkt8sR6"
      },
      "execution_count": null,
      "outputs": []
    },
    {
      "cell_type": "markdown",
      "source": [],
      "metadata": {
        "id": "Xz0P1sAzR-CS"
      }
    },
    {
      "cell_type": "markdown",
      "source": [
        "## Next Steps"
      ],
      "metadata": {
        "id": "SpWaFXyBR-iz"
      }
    },
    {
      "cell_type": "markdown",
      "source": [
        "### Dense Neural Network"
      ],
      "metadata": {
        "id": "NYnWt8f8SAuF"
      }
    },
    {
      "cell_type": "code",
      "source": [
        "\n",
        "# neural net modules\n",
        "from keras.models import Sequential\n",
        "from keras.layers import Dense, Dropout\n",
        "from keras.callbacks import EarlyStopping"
      ],
      "metadata": {
        "id": "Hmfuk1t6SAuG"
      },
      "execution_count": null,
      "outputs": []
    },
    {
      "cell_type": "code",
      "source": [
        "#Model code (Building the model)\n",
        "model=Sequential()\n",
        "model.add(Dense(180,input_shape=(X_train_std.shape[1],),activation='relu'))\n",
        "model.add(Dense(90,activation='relu'))\n",
        "model.add(Dense(30,activation='relu'))\n",
        "model.add(Dense(8,activation='relu'))\n",
        "model.add(Dense(1,activation='sigmoid'))\n",
        "model.summary()"
      ],
      "metadata": {
        "colab": {
          "base_uri": "https://localhost:8080/"
        },
        "outputId": "11151baa-ab34-4905-8c48-d477fbad6f3f",
        "id": "5q485YF8SAuH"
      },
      "execution_count": null,
      "outputs": [
        {
          "output_type": "stream",
          "name": "stdout",
          "text": [
            "Model: \"sequential\"\n",
            "_________________________________________________________________\n",
            " Layer (type)                Output Shape              Param #   \n",
            "=================================================================\n",
            " dense (Dense)               (None, 180)               16200     \n",
            "                                                                 \n",
            " dense_1 (Dense)             (None, 90)                16290     \n",
            "                                                                 \n",
            " dense_2 (Dense)             (None, 30)                2730      \n",
            "                                                                 \n",
            " dense_3 (Dense)             (None, 8)                 248       \n",
            "                                                                 \n",
            " dense_4 (Dense)             (None, 1)                 9         \n",
            "                                                                 \n",
            "=================================================================\n",
            "Total params: 35,477\n",
            "Trainable params: 35,477\n",
            "Non-trainable params: 0\n",
            "_________________________________________________________________\n"
          ]
        }
      ]
    },
    {
      "cell_type": "code",
      "source": [
        "import tensorflow as tf\n",
        "tf.keras.utils.plot_model(model, show_shapes=True)"
      ],
      "metadata": {
        "id": "5UZityxZSAuI"
      },
      "execution_count": null,
      "outputs": []
    },
    {
      "cell_type": "code",
      "source": [
        "# compile the model (Telling how to run based on cost function optimizer and which variable to check)\n",
        "model.compile(optimizer='rmsprop', \n",
        "              loss='binary_crossentropy',\n",
        "              metrics=['accuracy'])"
      ],
      "metadata": {
        "id": "zWNqnZJSSAuJ"
      },
      "execution_count": null,
      "outputs": []
    },
    {
      "cell_type": "code",
      "source": [
        "# early stopping callback\n",
        "# This callback will stop the training when there is no improvement in  \n",
        "# the validation loss for 10 consecutive epochs.  \n",
        "es = EarlyStopping(monitor='val_accuracy', \n",
        "                                   mode='max', # don't minimize the accuracy!\n",
        "                                   patience=10,\n",
        "                                   restore_best_weights=True)\n",
        "\n",
        "# now we just update our model fit call\n",
        "history = model.fit(X_train_std,\n",
        "                    y_train_ros,\n",
        "                    callbacks=[es],\n",
        "                    epochs=100000, # you can set this to a big number!\n",
        "                    batch_size=10,\n",
        "                    validation_split=0.1,\n",
        "                    shuffle=True,\n",
        "                    verbose=1)"
      ],
      "metadata": {
        "colab": {
          "base_uri": "https://localhost:8080/"
        },
        "outputId": "22e5144a-f6ca-4807-b643-6ca29b932cb2",
        "id": "ORW6aJckSAuK"
      },
      "execution_count": null,
      "outputs": [
        {
          "output_type": "stream",
          "name": "stdout",
          "text": [
            "Epoch 1/100000\n",
            "6648/6648 [==============================] - 18s 3ms/step - loss: 0.5250 - accuracy: 0.7420 - val_loss: 0.4037 - val_accuracy: 0.8633\n",
            "Epoch 2/100000\n",
            "6648/6648 [==============================] - 20s 3ms/step - loss: 0.3457 - accuracy: 0.8552 - val_loss: 0.3421 - val_accuracy: 0.9010\n",
            "Epoch 3/100000\n",
            "6648/6648 [==============================] - 20s 3ms/step - loss: 0.2603 - accuracy: 0.9000 - val_loss: 0.2884 - val_accuracy: 0.9274\n",
            "Epoch 4/100000\n",
            "6648/6648 [==============================] - 19s 3ms/step - loss: 0.2215 - accuracy: 0.9176 - val_loss: 0.4391 - val_accuracy: 0.8511\n",
            "Epoch 5/100000\n",
            "6648/6648 [==============================] - 15s 2ms/step - loss: 0.2006 - accuracy: 0.9297 - val_loss: 0.2855 - val_accuracy: 0.9421\n",
            "Epoch 6/100000\n",
            "6648/6648 [==============================] - 15s 2ms/step - loss: 0.1840 - accuracy: 0.9365 - val_loss: 0.0820 - val_accuracy: 0.9893\n",
            "Epoch 7/100000\n",
            "6648/6648 [==============================] - 15s 2ms/step - loss: 0.1711 - accuracy: 0.9422 - val_loss: 0.1112 - val_accuracy: 0.9823\n",
            "Epoch 8/100000\n",
            "6648/6648 [==============================] - 15s 2ms/step - loss: 0.1594 - accuracy: 0.9478 - val_loss: 0.6305 - val_accuracy: 0.8375\n",
            "Epoch 9/100000\n",
            "6648/6648 [==============================] - 16s 2ms/step - loss: 0.1466 - accuracy: 0.9524 - val_loss: 0.1578 - val_accuracy: 0.9693\n",
            "Epoch 10/100000\n",
            "6648/6648 [==============================] - 16s 2ms/step - loss: 0.1311 - accuracy: 0.9574 - val_loss: 0.1453 - val_accuracy: 0.9668\n",
            "Epoch 11/100000\n",
            "6648/6648 [==============================] - 25s 4ms/step - loss: 0.1302 - accuracy: 0.9604 - val_loss: 0.0457 - val_accuracy: 0.9958\n",
            "Epoch 12/100000\n",
            "6648/6648 [==============================] - 15s 2ms/step - loss: 0.1231 - accuracy: 0.9627 - val_loss: 0.1469 - val_accuracy: 0.9674\n",
            "Epoch 13/100000\n",
            "6648/6648 [==============================] - 16s 2ms/step - loss: 0.1174 - accuracy: 0.9633 - val_loss: 0.0746 - val_accuracy: 0.9863\n",
            "Epoch 14/100000\n",
            "6648/6648 [==============================] - 15s 2ms/step - loss: 0.1144 - accuracy: 0.9650 - val_loss: 0.0708 - val_accuracy: 0.9893\n",
            "Epoch 15/100000\n",
            "6648/6648 [==============================] - 15s 2ms/step - loss: 0.1128 - accuracy: 0.9672 - val_loss: 0.2268 - val_accuracy: 0.9384\n",
            "Epoch 16/100000\n",
            "6648/6648 [==============================] - 15s 2ms/step - loss: 0.1111 - accuracy: 0.9686 - val_loss: 0.0904 - val_accuracy: 0.9808\n",
            "Epoch 17/100000\n",
            "6648/6648 [==============================] - 15s 2ms/step - loss: 0.1029 - accuracy: 0.9693 - val_loss: 0.0194 - val_accuracy: 1.0000\n",
            "Epoch 18/100000\n",
            "6648/6648 [==============================] - 15s 2ms/step - loss: 0.0998 - accuracy: 0.9702 - val_loss: 0.0416 - val_accuracy: 0.9940\n",
            "Epoch 19/100000\n",
            "6648/6648 [==============================] - 15s 2ms/step - loss: 0.1031 - accuracy: 0.9706 - val_loss: 0.0709 - val_accuracy: 0.9858\n",
            "Epoch 20/100000\n",
            "6648/6648 [==============================] - 15s 2ms/step - loss: 0.0996 - accuracy: 0.9724 - val_loss: 0.0778 - val_accuracy: 0.9862\n",
            "Epoch 21/100000\n",
            "6648/6648 [==============================] - 15s 2ms/step - loss: 0.1000 - accuracy: 0.9737 - val_loss: 0.0723 - val_accuracy: 0.9898\n",
            "Epoch 22/100000\n",
            "6648/6648 [==============================] - 15s 2ms/step - loss: 0.1019 - accuracy: 0.9736 - val_loss: 0.0676 - val_accuracy: 0.9813\n",
            "Epoch 23/100000\n",
            "6648/6648 [==============================] - 15s 2ms/step - loss: 0.1014 - accuracy: 0.9749 - val_loss: 0.0616 - val_accuracy: 0.9938\n",
            "Epoch 24/100000\n",
            "6648/6648 [==============================] - 16s 2ms/step - loss: 0.1099 - accuracy: 0.9736 - val_loss: 0.4259 - val_accuracy: 0.8883\n",
            "Epoch 25/100000\n",
            "6648/6648 [==============================] - 15s 2ms/step - loss: 0.1155 - accuracy: 0.9717 - val_loss: 0.0341 - val_accuracy: 0.9943\n",
            "Epoch 26/100000\n",
            "6648/6648 [==============================] - 15s 2ms/step - loss: 0.1249 - accuracy: 0.9712 - val_loss: 0.0268 - val_accuracy: 0.9946\n",
            "Epoch 27/100000\n",
            "6648/6648 [==============================] - 15s 2ms/step - loss: 0.1268 - accuracy: 0.9725 - val_loss: 0.0999 - val_accuracy: 0.9774\n"
          ]
        }
      ]
    },
    {
      "cell_type": "code",
      "source": [
        "# learning curve\n",
        "import matplotlib.pyplot as plt\n",
        "\n",
        "# accuracy\n",
        "acc = history.history['accuracy']\n",
        "val_acc = history.history['val_accuracy']\n",
        "\n",
        "# loss\n",
        "loss = history.history['loss']\n",
        "val_loss = history.history['val_loss']\n",
        "\n",
        "epochs = range(1, len(acc) + 1)\n",
        "\n",
        "# \"bo\" is for \"blue dot\"\n",
        "plt.plot(epochs, acc, 'bo', label='Training accuracy')\n",
        "# b is for \"solid blue line\"\n",
        "plt.plot(epochs, val_acc, 'b', label='Validation accuracy')\n",
        "plt.title('Training and validation accuracy')\n",
        "plt.xlabel('Epochs')\n",
        "plt.ylabel('Accuracy')\n",
        "plt.legend()\n",
        "\n",
        "plt.show()"
      ],
      "metadata": {
        "colab": {
          "base_uri": "https://localhost:8080/",
          "height": 295
        },
        "outputId": "1c41eee0-c778-4341-b5af-db05581a7f0a",
        "id": "OCCgF-bOSAuL"
      },
      "execution_count": null,
      "outputs": [
        {
          "output_type": "display_data",
          "data": {
            "text/plain": [
              "<Figure size 432x288 with 1 Axes>"
            ],
            "image/png": "[encoded data removed]"
          },
          "metadata": {
            "needs_background": "light"
          }
        }
      ]
    },
    {
      "cell_type": "code",
      "source": [
        "# \"bo\" is for \"blue dot\"\n",
        "plt.plot(epochs, loss, 'bo', label='Training Loss')\n",
        "# b is for \"solid blue line\"\n",
        "plt.plot(epochs, val_loss, 'b', label='Validation Loss')\n",
        "plt.title('Training and validation Loss')\n",
        "plt.xlabel('Epochs')\n",
        "plt.ylabel('Loss')\n",
        "plt.legend()\n",
        "\n",
        "plt.show()"
      ],
      "metadata": {
        "colab": {
          "base_uri": "https://localhost:8080/",
          "height": 295
        },
        "outputId": "f664c0cf-ad09-499b-91b3-e379032fb59e",
        "id": "GKH3_-ImSAuM"
      },
      "execution_count": null,
      "outputs": [
        {
          "output_type": "display_data",
          "data": {
            "text/plain": [
              "<Figure size 432x288 with 1 Axes>"
            ],
            "image/png": "[encoded data removed]"
          },
          "metadata": {
            "needs_background": "light"
          }
        }
      ]
    },
    {
      "cell_type": "code",
      "source": [
        "#Import confusion matrix related packages\n",
        "from sklearn.metrics import confusion_matrix\n",
        "from sklearn.metrics import classification_report"
      ],
      "metadata": {
        "id": "PxO2PJLNSAuN"
      },
      "execution_count": null,
      "outputs": []
    },
    {
      "cell_type": "code",
      "source": [
        "# check model performance\n",
        "preds = np.round(model.predict(X_test),0)\n",
        "\n",
        "# confusion matrix\n",
        "confusion_matrix(y_test, preds) # order matters! (actual, predicted)"
      ],
      "metadata": {
        "colab": {
          "base_uri": "https://localhost:8080/"
        },
        "outputId": "55985f9c-4b4c-42bc-e373-c3c06b4320b0",
        "id": "ZDLbH9cMSAuO"
      },
      "execution_count": null,
      "outputs": [
        {
          "output_type": "stream",
          "name": "stdout",
          "text": [
            "302/302 [==============================] - 0s 1ms/step\n"
          ]
        },
        {
          "output_type": "execute_result",
          "data": {
            "text/plain": [
              "array([[  50, 9203],\n",
              "       [   3,  404]])"
            ]
          },
          "metadata": {},
          "execution_count": 130
        }
      ]
    }
  ]
}